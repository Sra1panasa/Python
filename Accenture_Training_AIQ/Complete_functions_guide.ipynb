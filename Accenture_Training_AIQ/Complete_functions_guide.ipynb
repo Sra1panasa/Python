{
  "nbformat": 4,
  "nbformat_minor": 0,
  "metadata": {
    "colab": {
      "name": "Untitled19.ipynb",
      "provenance": [],
      "authorship_tag": "ABX9TyOEdRGLKLqExDLcpmaRP7hj",
      "include_colab_link": true
    },
    "kernelspec": {
      "name": "python3",
      "display_name": "Python 3"
    },
    "language_info": {
      "name": "python"
    }
  },
  "cells": [
    {
      "cell_type": "markdown",
      "metadata": {
        "id": "view-in-github",
        "colab_type": "text"
      },
      "source": [
        "<a href=\"https://colab.research.google.com/github/Sra1panasa/Python/blob/main/Accenture_Training_AIQ/Complete_functions_guide.ipynb\" target=\"_parent\"><img src=\"https://colab.research.google.com/assets/colab-badge.svg\" alt=\"Open In Colab\"/></a>"
      ]
    },
    {
      "cell_type": "markdown",
      "source": [
        "Function:\n",
        "\n",
        "https://www.programiz.com/python-programming/function\n",
        "\n",
        "https://www.datacamp.com/tutorial/functions-python-tutorial - must visit before we start \n",
        "* **a function is a group of related statements that performs a specific task.**\n",
        "\n",
        "* **Functions help break our program into smaller and modular chunks. As our program grows larger and larger, functions make it more organized and manageable.** \n",
        "\n",
        "* **Functions are reusable pieces of code that can be called using a function's name**\n",
        "\n",
        "* **Functions allow the same piece of code to run multiple times.**\n",
        "\n",
        "* In programming, we define a function to make a reusable code that performs similar operation. To perform that operation, we call a function with the specific value, this value is called a function argument in Python.\n",
        "\n",
        "* for example multiple times we can't write login logic offen in each tab login we just call the fucntion.\n",
        "\n"
      ],
      "metadata": {
        "id": "MUK1Aa2pbKoU"
      }
    },
    {
      "cell_type": "markdown",
      "source": [
        "**Functions vs Methods**\n",
        "\n",
        "* **A method refers to a function which is part of a class**. You access it with an instance or object of the class. A function doesn’t have this restriction: it just refers to a standalone function. This means that all methods are functions, but not all functions are methods.\n",
        "\n",
        "* Consider this example, where you first define a function plus() and then a Summation class with a sum() method:"
      ],
      "metadata": {
        "id": "NarMuCrPvzvk"
      }
    },
    {
      "cell_type": "code",
      "source": [
        "# Define a function `plus()`\n",
        "def plus(a,b):\n",
        "  return a + b\n",
        "  \n",
        "# Create a `Summation` class\n",
        "class Summation(object):\n",
        "  def sum(self, a, b):\n",
        "    self.contents = a + b\n",
        "    return self.contents "
      ],
      "metadata": {
        "id": "SKBEihxVwFaT"
      },
      "execution_count": 6,
      "outputs": []
    },
    {
      "cell_type": "code",
      "source": [
        "#If you now want to call the sum() method that is part of the Summation class, \n",
        "#you first need to define an instance or object of that class. So, let’s define such an object:\n",
        "sumInstance = Summation()\n",
        "sumInstance.sum(1,2)\n",
        "#Remember that this instantiation not necessary for when you want to call the function plus()! \n",
        "#You would be able to execute plus(1,2) in the DataCamp Light code chunk without any problems!\n"
      ],
      "metadata": {
        "id": "0GDOf8MBwOhM",
        "outputId": "ecb3a9db-c8d9-4eff-d737-dd49d5e0e49b",
        "colab": {
          "base_uri": "https://localhost:8080/"
        }
      },
      "execution_count": 7,
      "outputs": [
        {
          "output_type": "execute_result",
          "data": {
            "text/plain": [
              "3"
            ]
          },
          "metadata": {},
          "execution_count": 7
        }
      ]
    },
    {
      "cell_type": "markdown",
      "source": [
        "Note: you pass two arguments to the sum() method of the Summation class, even though you previously defined three parameters, namely, self, a and b.\n",
        "\n",
        "What happened to self?\n",
        "\n",
        "**The first argument of every class method is always a reference to the current instance of the class, which in this case is Summation. By convention, this argument is called self.**\n",
        "\n",
        "**This all means that you don’t pass the reference to self in this case because self is the parameter name for an implicitly passed argument that refers to the instance through which a method is being invoked. It gets inserted implicitly into the argument list.**"
      ],
      "metadata": {
        "id": "9yhmOVpLxJMe"
      }
    },
    {
      "cell_type": "markdown",
      "source": [
        "**How to Call a Function:**\n",
        "\n",
        "* we just need to call with its name."
      ],
      "metadata": {
        "id": "urUiXaLxyfWN"
      }
    },
    {
      "cell_type": "markdown",
      "source": [
        "**Parameters vs Arguments very important**\n",
        "\n",
        "* Parameters are the names used when defining a function or a method, and into which arguments will be mapped. In other words, arguments are the things which are supplied to any function or method call, while the function or method code refers to the arguments by their parameter names.\n",
        "\n",
        "\n",
        "\n",
        "\n",
        "\n",
        "\n"
      ],
      "metadata": {
        "id": "HR6YURcawi5S"
      }
    },
    {
      "cell_type": "markdown",
      "source": [
        "**Function Arguments in Python:**\n",
        "\n",
        "* In short, arguments are the things which are given to any function or method call, while the function or method code refers to the arguments by their parameter names. \n",
        "\n",
        "* Default arguments\n",
        "* Required arguments\n",
        "* Keyword arguments\n",
        "* Variable number of arguments"
      ],
      "metadata": {
        "id": "q6lCFcBvzMvo"
      }
    },
    {
      "cell_type": "markdown",
      "source": [
        "1)Default Arguments\n",
        "\n",
        "* Default arguments are those that take a default value if no argument value is passed during the function call. You can assign this default value by with the assignment operator =, just like in the following example:\n",
        "\n"
      ],
      "metadata": {
        "id": "nYv_2HIzzyo6"
      }
    },
    {
      "cell_type": "code",
      "source": [
        "# Define `plus()` function\n",
        "def plus(a,b = 2):\n",
        "  return a + b\n",
        "    \n",
        "# Call `plus()` with only `a` parameter\n",
        "plus(a=1)\n",
        "\n",
        "# Call `plus()` with `a` and `b` parameters\n",
        "plus(a=1, b=3)"
      ],
      "metadata": {
        "id": "yDYd5gRD0Onp",
        "outputId": "412a381a-09f7-414e-ae99-bae3e69e2baa",
        "colab": {
          "base_uri": "https://localhost:8080/"
        }
      },
      "execution_count": 8,
      "outputs": [
        {
          "output_type": "execute_result",
          "data": {
            "text/plain": [
              "4"
            ]
          },
          "metadata": {},
          "execution_count": 8
        }
      ]
    },
    {
      "cell_type": "markdown",
      "source": [
        "2)Required Arguments\n",
        "* As the name kind of gives away, the required arguments of a UDF are those that have to be in there. These arguments need to be passed during the function call and in precisely the right order, just like in the following example:\n",
        "\n"
      ],
      "metadata": {
        "id": "5LbA2kEl0h_W"
      }
    },
    {
      "cell_type": "code",
      "source": [
        "def plus(a,b):\n",
        "  return a + b\n",
        "plus(10,20)"
      ],
      "metadata": {
        "id": "z_FGKGh50sEn"
      },
      "execution_count": null,
      "outputs": []
    },
    {
      "cell_type": "markdown",
      "source": [
        "3) **Keyword Arguments**\n",
        "\n",
        "* If you want to make sure that you call all the parameters in the right order, you can use the keyword arguments in your function call. You use these to identify the arguments by their parameter name. Let’s take the example from above to make this a bit more clear:\n",
        "\n"
      ],
      "metadata": {
        "id": "pgO-A7NN1haL"
      }
    },
    {
      "cell_type": "code",
      "source": [
        "def plus(a,b):\n",
        "  return a + b\n",
        "  \n",
        "# Call `plus()` function with parameters \n",
        "plus(2,3)\n",
        "\n",
        "# Call `plus()` function with keyword arguments\n",
        "plus(a=1, b=2)"
      ],
      "metadata": {
        "id": "4HeE-OrS1gVp",
        "outputId": "2d9d17e7-f092-4d77-e07c-b880860a97ee",
        "colab": {
          "base_uri": "https://localhost:8080/"
        }
      },
      "execution_count": 12,
      "outputs": [
        {
          "output_type": "execute_result",
          "data": {
            "text/plain": [
              "3"
            ]
          },
          "metadata": {},
          "execution_count": 12
        }
      ]
    },
    {
      "cell_type": "code",
      "source": [
        "#Note that by using the keyword arguments, \n",
        "#you can also switch around the order of the parameters and still get the same result when you execute your function:\n",
        "def plus(a,b):\n",
        "  return a + b\n",
        "  \n",
        "# Call `plus()` function with keyword arguments\n",
        "plus(b=2, a=1)\n",
        "\n"
      ],
      "metadata": {
        "id": "Yt9ZQ1Zt1BSX"
      },
      "execution_count": null,
      "outputs": []
    },
    {
      "cell_type": "markdown",
      "source": [
        "4)Variable Number of Arguments\n",
        "* In cases where you don’t know the exact number of arguments that you want to pass to a function, you can use the following syntax with *args:\n",
        "\n"
      ],
      "metadata": {
        "id": "dy3M4GzV2POq"
      }
    },
    {
      "cell_type": "code",
      "source": [
        "def plus(*args):\n",
        "  return sum(args)\n",
        "\n",
        "# Calculate the sum\n",
        "plus(1,4,5)"
      ],
      "metadata": {
        "id": "t8fvR2w52NPw",
        "outputId": "1555a5ef-3a0e-4632-8871-684a08118be4",
        "colab": {
          "base_uri": "https://localhost:8080/"
        }
      },
      "execution_count": 13,
      "outputs": [
        {
          "output_type": "execute_result",
          "data": {
            "text/plain": [
              "10"
            ]
          },
          "metadata": {},
          "execution_count": 13
        }
      ]
    },
    {
      "cell_type": "markdown",
      "source": [
        "Note: The asterisk (*) is placed before the variable name that holds the values of all nonkeyword variable arguments. Note here that you might as well have passed *varint, *var_int_args or any other name to the plus() function."
      ],
      "metadata": {
        "id": "L_BA6ySy2i2z"
      }
    },
    {
      "cell_type": "markdown",
      "source": [
        "\n",
        "\n",
        "**why we would need function with** * args: **\n",
        "\n",
        "let see with an example.."
      ],
      "metadata": {
        "id": "0pzMKLAxizdE"
      }
    },
    {
      "cell_type": "code",
      "source": [
        "#function to add 3 members\n",
        "def adder(x,y,z):\n",
        "    print(\"sum:\",x+y+z)\n",
        "\n",
        "adder(10,12,13)"
      ],
      "metadata": {
        "id": "mjXo2Mfgoj-R",
        "outputId": "2d140a78-ce35-4c5a-ab70-ebde9b88a0f4",
        "colab": {
          "base_uri": "https://localhost:8080/"
        }
      },
      "execution_count": 2,
      "outputs": [
        {
          "output_type": "stream",
          "name": "stdout",
          "text": [
            "sum: 35\n"
          ]
        }
      ]
    },
    {
      "cell_type": "code",
      "source": [
        "# Above function accepts only 3 arguments what will happen if we pass more than 3 arguments\n",
        "adder(5,10,15,20,25)"
      ],
      "metadata": {
        "id": "7uaS2WIZosfO",
        "outputId": "d97654ed-2f0a-47ff-d426-494001efa471",
        "colab": {
          "base_uri": "https://localhost:8080/",
          "height": 183
        }
      },
      "execution_count": 3,
      "outputs": [
        {
          "output_type": "error",
          "ename": "TypeError",
          "evalue": "ignored",
          "traceback": [
            "\u001b[0;31m---------------------------------------------------------------------------\u001b[0m",
            "\u001b[0;31mTypeError\u001b[0m                                 Traceback (most recent call last)",
            "\u001b[0;32m<ipython-input-3-012c370aa689>\u001b[0m in \u001b[0;36m<module>\u001b[0;34m()\u001b[0m\n\u001b[1;32m      1\u001b[0m \u001b[0;31m# Above function accepts only 3 arguments what will happen if we pass more than 3 arguments\u001b[0m\u001b[0;34m\u001b[0m\u001b[0;34m\u001b[0m\u001b[0;34m\u001b[0m\u001b[0m\n\u001b[0;32m----> 2\u001b[0;31m \u001b[0madder\u001b[0m\u001b[0;34m(\u001b[0m\u001b[0;36m5\u001b[0m\u001b[0;34m,\u001b[0m\u001b[0;36m10\u001b[0m\u001b[0;34m,\u001b[0m\u001b[0;36m15\u001b[0m\u001b[0;34m,\u001b[0m\u001b[0;36m20\u001b[0m\u001b[0;34m,\u001b[0m\u001b[0;36m25\u001b[0m\u001b[0;34m)\u001b[0m\u001b[0;34m\u001b[0m\u001b[0;34m\u001b[0m\u001b[0m\n\u001b[0m",
            "\u001b[0;31mTypeError\u001b[0m: adder() takes 3 positional arguments but 5 were given"
          ]
        }
      ]
    },
    {
      "cell_type": "code",
      "source": [
        "# so when we are unsure about the no of arguments will be passed in the future .. we will use *args concept..\n",
        "# * args accepts any no of variables."
      ],
      "metadata": {
        "id": "uyj0XZ0-pAT2"
      },
      "execution_count": null,
      "outputs": []
    },
    {
      "cell_type": "markdown",
      "source": [
        "**Introduction to** - * args and **kwargs in Python\n",
        "* In Python, we can pass a variable number of arguments to a function using special symbols. There are two special symbols:\n",
        "\n",
        "1)*args (Non Keyword Arguments)\n",
        "\n",
        "2)**kwargs (Keyword Arguments)"
      ],
      "metadata": {
        "id": "fX9l7TAkputD"
      }
    },
    {
      "cell_type": "markdown",
      "source": [
        "**Python** *args\n",
        "\n",
        "* **As in the above example we are not sure about the number of arguments that can be passed to a function**. Python has *args which allow us to pass the variable number of non keyword arguments to function \n",
        "\n",
        "* In the function, we should use an asterisk * before the parameter name to pass variable length arguments.The arguments are passed as a tuple and these passed arguments make tuple inside the function with same name as the parameter excluding asterisk *."
      ],
      "metadata": {
        "id": "TFGSChTyqOub"
      }
    },
    {
      "cell_type": "code",
      "source": [
        "def adder(*num):\n",
        "    sum = 0\n",
        "    \n",
        "    for n in num:\n",
        "        sum = sum + n\n",
        "\n",
        "    print(\"Sum:\",sum)\n",
        "\n",
        "adder(3,5)\n",
        "adder(4,5,6,7)\n",
        "adder(1,2,3,5,6)\n"
      ],
      "metadata": {
        "id": "tgfKmlFOcNXG",
        "outputId": "0d016a44-2839-47ae-e000-0761dee7c4d5",
        "colab": {
          "base_uri": "https://localhost:8080/"
        }
      },
      "execution_count": 4,
      "outputs": [
        {
          "output_type": "stream",
          "name": "stdout",
          "text": [
            "Sum: 8\n",
            "Sum: 22\n",
            "Sum: 17\n"
          ]
        }
      ]
    },
    {
      "cell_type": "markdown",
      "source": [
        "**Python** **kwargs\n",
        "\n",
        "* Python passes variable length non keyword argument to function using *args but we cannot use this to pass keyword argument. For this problem Python has got a solution called **kwargs, it allows us to pass the variable length of keyword arguments to the function.\n",
        "\n",
        "* **In the function, we use the double asterisk** ** before the parameter name to denote this type of argument. The arguments are passed as a dictionary and these arguments make a dictionary inside function with name same as the parameter excluding double asterisk **."
      ],
      "metadata": {
        "id": "p3pb4IcYrwJi"
      }
    },
    {
      "cell_type": "code",
      "source": [
        "def intro(**data):\n",
        "    print(\"\\nData type of argument:\",type(data))\n",
        "\n",
        "    for key, value in data.items():\n",
        "        print(\"{} is {}\".format(key,value))\n",
        "\n",
        "intro(Firstname=\"Sita\", Lastname=\"Sharma\", Age=22, Phone=1234567890)\n",
        "intro(Firstname=\"John\", Lastname=\"Wood\", Email=\"johnwood@nomail.com\", Country=\"Wakanda\", Age=25, Phone=9876543210)"
      ],
      "metadata": {
        "id": "BSxq5qKSsu_4",
        "outputId": "c09e3df2-6c9e-425d-dc12-bb69da9f000e",
        "colab": {
          "base_uri": "https://localhost:8080/"
        }
      },
      "execution_count": 5,
      "outputs": [
        {
          "output_type": "stream",
          "name": "stdout",
          "text": [
            "\n",
            "Data type of argument: <class 'dict'>\n",
            "Firstname is Sita\n",
            "Lastname is Sharma\n",
            "Age is 22\n",
            "Phone is 1234567890\n",
            "\n",
            "Data type of argument: <class 'dict'>\n",
            "Firstname is John\n",
            "Lastname is Wood\n",
            "Email is johnwood@nomail.com\n",
            "Country is Wakanda\n",
            "Age is 25\n",
            "Phone is 9876543210\n"
          ]
        }
      ]
    },
    {
      "cell_type": "markdown",
      "source": [
        "*args and **kwargs are special keyword which allows function to take variable length argument."
      ],
      "metadata": {
        "id": "46C6znkjtd5b"
      }
    },
    {
      "cell_type": "code",
      "source": [
        ""
      ],
      "metadata": {
        "id": "iNP35Vfutgt4"
      },
      "execution_count": null,
      "outputs": []
    }
  ]
}