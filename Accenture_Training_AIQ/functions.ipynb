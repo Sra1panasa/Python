{
  "nbformat": 4,
  "nbformat_minor": 0,
  "metadata": {
    "colab": {
      "name": "Untitled19.ipynb",
      "provenance": [],
      "authorship_tag": "ABX9TyMW8Wrinq33yGtTrFlrzudb",
      "include_colab_link": true
    },
    "kernelspec": {
      "name": "python3",
      "display_name": "Python 3"
    },
    "language_info": {
      "name": "python"
    }
  },
  "cells": [
    {
      "cell_type": "markdown",
      "metadata": {
        "id": "view-in-github",
        "colab_type": "text"
      },
      "source": [
        "<a href=\"https://colab.research.google.com/github/Sra1panasa/Python/blob/main/Accenture_Training_AIQ/functions.ipynb\" target=\"_parent\"><img src=\"https://colab.research.google.com/assets/colab-badge.svg\" alt=\"Open In Colab\"/></a>"
      ]
    },
    {
      "cell_type": "markdown",
      "source": [
        "function with * args:\n",
        "\n",
        "* with *args we can pass multiple values to the function.\n",
        "\n",
        "*  args variable holds list of variables which we passed and hence when we print args it gives the list of values. "
      ],
      "metadata": {
        "id": "MUK1Aa2pbKoU"
      }
    },
    {
      "cell_type": "code",
      "source": [
        "def isum(*args):\n",
        "   '''Return a total of the numeric args'''\n",
        "   print('args ->', args)\n",
        "   total = 0\n",
        "   for arg in args:\n",
        "       total += arg\n",
        "   return total"
      ],
      "metadata": {
        "id": "tgfKmlFOcNXG"
      },
      "execution_count": 1,
      "outputs": []
    },
    {
      "cell_type": "code",
      "source": [
        "params = [5,4,3,2,1]\n",
        "#params = (5,4,3,2,1) # either we can pass list or tuple\n",
        "#while printing by defaulut it will give as tuple\n",
        "print(isum(*params))"
      ],
      "metadata": {
        "colab": {
          "base_uri": "https://localhost:8080/"
        },
        "id": "Ee5iOb99e9_q",
        "outputId": "974a7357-a3bd-41f5-966d-bb34810f8c77"
      },
      "execution_count": 7,
      "outputs": [
        {
          "output_type": "stream",
          "name": "stdout",
          "text": [
            "args -> (5, 4, 3, 2, 1)\n",
            "15\n"
          ]
        }
      ]
    },
    {
      "cell_type": "code",
      "source": [
        "isum(1,2,3,4,5) \n"
      ],
      "metadata": {
        "colab": {
          "base_uri": "https://localhost:8080/"
        },
        "id": "185zh0HKd2Ud",
        "outputId": "3672cb73-2276-4a9d-9dcc-4bf37482ebba"
      },
      "execution_count": 3,
      "outputs": [
        {
          "output_type": "stream",
          "name": "stdout",
          "text": [
            "args -> (1, 2, 3, 4, 5)\n"
          ]
        },
        {
          "output_type": "execute_result",
          "data": {
            "text/plain": [
              "15"
            ]
          },
          "metadata": {},
          "execution_count": 3
        }
      ]
    }
  ]
}