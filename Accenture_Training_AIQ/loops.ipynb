{
  "nbformat": 4,
  "nbformat_minor": 0,
  "metadata": {
    "colab": {
      "name": "Untitled20.ipynb",
      "provenance": [],
      "authorship_tag": "ABX9TyMKN6PLpe9X3a8K1+trkYDn",
      "include_colab_link": true
    },
    "kernelspec": {
      "name": "python3",
      "display_name": "Python 3"
    },
    "language_info": {
      "name": "python"
    }
  },
  "cells": [
    {
      "cell_type": "markdown",
      "metadata": {
        "id": "view-in-github",
        "colab_type": "text"
      },
      "source": [
        "<a href=\"https://colab.research.google.com/github/Sra1panasa/Python/blob/main/Accenture_Training_AIQ/loops.ipynb\" target=\"_parent\"><img src=\"https://colab.research.google.com/assets/colab-badge.svg\" alt=\"Open In Colab\"/></a>"
      ]
    },
    {
      "cell_type": "markdown",
      "source": [
        "loops:\n",
        "\n",
        "* **Repetitive execution of the same block of code over and over is referred to as iteration**.\n",
        "* T**here are two types of iteration**:\n",
        "**Definite iteration**:in which the number of repetitions is specified **explicitly in advance**\n",
        "**Indefinite iteration**: in which the code block executes until some condition is met\n",
        "\n",
        "Note: **In Python, indefinite iteration is performed with a while loop**.\n",
        "\n",
        "** **definite iteration is performed with a for loop**"
      ],
      "metadata": {
        "id": "DN2DO_VLaABA"
      }
    },
    {
      "cell_type": "markdown",
      "source": [
        "For Loop:"
      ],
      "metadata": {
        "id": "4bVy74lCaER_"
      }
    },
    {
      "cell_type": "markdown",
      "source": [
        "* The for loop in Python is used to iterate over a sequence (list, tuple, string) or other iterable objects. Iterating over a sequence is called traversal."
      ],
      "metadata": {
        "id": "PqmZQS26a1gn"
      }
    },
    {
      "cell_type": "markdown",
      "source": [
        "* Loops let you control the logic and flow structures of your programs.\n",
        "\n",
        "* **Specifically, a for loop lets you execute a block of similar code operations, over and over again, until a condition is met.**\n",
        "\n",
        "* You repeat certain code instructions for a set of values you determine, and you perform actions on each value for a pre-determined number of times"
      ],
      "metadata": {
        "id": "LdhTaBuQbFeH"
      }
    },
    {
      "cell_type": "markdown",
      "source": [
        "**What is a for loop in Python**?\n",
        "* A for loop can iterate over every item in a list or go through every single character in a string and won't stop until it has gone through every character.\n",
        "\n",
        "* Writing for loops helps reduce repetitiveness in your code, following the DRY (Don't Repeat Yourself) principle. You don't write the same block of code more than once.\n",
        "\n",
        "* In this article, we'll get to know the basics of for loops in the Python programming language using different examples. But first let's learn some for loop basics."
      ],
      "metadata": {
        "id": "7DdBbKNicG3I"
      }
    },
    {
      "cell_type": "markdown",
      "source": [
        "Syntax:\n",
        "\n",
        "![image.png](data:image/png;base64,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)"
      ],
      "metadata": {
        "id": "VHH8BdCyceTo"
      }
    },
    {
      "cell_type": "markdown",
      "source": [
        "* The first word of the statement starts with the keyword “for” which signifies the beginning of the for loop.\n",
        "* Then we have the iterator variable which iterates over the sequence and can be used within the loop to perform various functions\n",
        "* The next is the “in” keyword in Python which tells the iterator variable to loop for elements within the sequence\n",
        "* And finally, we have the sequence variable which can either be a list, a tuple, or any other kind of iterator.\n",
        "* The statements part of the loop is where you can play around with the iterator variable and perform various function"
      ],
      "metadata": {
        "id": "pxN_6DyEdsb4"
      }
    },
    {
      "cell_type": "code",
      "source": [
        "word=\"anaconda\"\n",
        "for letter in word:\n",
        "    print (letter)"
      ],
      "metadata": {
        "colab": {
          "base_uri": "https://localhost:8080/"
        },
        "id": "lkwNE-vvdlFc",
        "outputId": "f34389da-a009-46c1-ec87-63ffaf9f35cc"
      },
      "execution_count": 1,
      "outputs": [
        {
          "output_type": "stream",
          "name": "stdout",
          "text": [
            "a\n",
            "n\n",
            "a\n",
            "c\n",
            "o\n",
            "n\n",
            "d\n",
            "a\n"
          ]
        }
      ]
    },
    {
      "cell_type": "code",
      "source": [
        "# for example you want to add student marks from each subject \n",
        "\n",
        "nums = (10, 20, 30, 40)\n",
        " \n",
        "sum_nums = 0\n",
        " \n",
        "for num in nums:\n",
        "    sum_nums = sum_nums + num\n",
        " \n",
        "print(f'Sum of marks is {sum_nums}')"
      ],
      "metadata": {
        "colab": {
          "base_uri": "https://localhost:8080/"
        },
        "id": "03L12FJefB-e",
        "outputId": "8166a92f-4250-4ee7-9f2f-5ae9f6611967"
      },
      "execution_count": 4,
      "outputs": [
        {
          "output_type": "stream",
          "name": "stdout",
          "text": [
            "Sum of marks is 100\n"
          ]
        }
      ]
    },
    {
      "cell_type": "markdown",
      "source": [
        "**Nesting Python for loops**\n",
        "\n",
        "* When we have a for loop inside another for loop, it’s called a nested for loop. There are multiple applications of a nested for loop."
      ],
      "metadata": {
        "id": "Ce2kljL2gzsH"
      }
    },
    {
      "cell_type": "code",
      "source": [
        "words= [\"Apple\", \"Banana\", \"Car\", \"Dolphin\" ]\n",
        "for word in words:\n",
        "        #This loop is fetching word from the list\n",
        "        print (\"The following lines will print each letters of \"+word)\n",
        "        for letter in word:\n",
        "                #This loop is fetching letter for the word\n",
        "                print (letter)\n",
        "        print(\"\") #This print is used to print a blank line"
      ],
      "metadata": {
        "colab": {
          "base_uri": "https://localhost:8080/"
        },
        "id": "WSDJdDHshEzr",
        "outputId": "c439ee3e-82ca-40c7-a64b-cba633a8f681"
      },
      "execution_count": 5,
      "outputs": [
        {
          "output_type": "stream",
          "name": "stdout",
          "text": [
            "The following lines will print each letters of Apple\n",
            "A\n",
            "p\n",
            "p\n",
            "l\n",
            "e\n",
            "\n",
            "The following lines will print each letters of Banana\n",
            "B\n",
            "a\n",
            "n\n",
            "a\n",
            "n\n",
            "a\n",
            "\n",
            "The following lines will print each letters of Car\n",
            "C\n",
            "a\n",
            "r\n",
            "\n",
            "The following lines will print each letters of Dolphin\n",
            "D\n",
            "o\n",
            "l\n",
            "p\n",
            "h\n",
            "i\n",
            "n\n",
            "\n"
          ]
        }
      ]
    },
    {
      "cell_type": "markdown",
      "source": [
        "**Python for loop with range() function**\n",
        "\n",
        "* Python range() is one of the built-in functions. When you want the for loop to run for a specific number of times, or you need to specify a range of objects to print out, \n",
        "* the range function works really well. Consider the following example where I want to print the numbers 1, 2, and 3."
      ],
      "metadata": {
        "id": "FtpdnH-AhdZH"
      }
    },
    {
      "cell_type": "code",
      "source": [
        "for x in range(3):\n",
        "    print(\"Printing:\", x)"
      ],
      "metadata": {
        "colab": {
          "base_uri": "https://localhost:8080/"
        },
        "id": "pvJt31Bohi7h",
        "outputId": "92ec1462-4db0-417a-9fef-a6eef442a64e"
      },
      "execution_count": 6,
      "outputs": [
        {
          "output_type": "stream",
          "name": "stdout",
          "text": [
            "Printing: 0\n",
            "Printing: 1\n",
            "Printing: 2\n"
          ]
        }
      ]
    },
    {
      "cell_type": "markdown",
      "source": [
        "* The range function also takes another parameter apart from the start and the stop. This is the step parameter. It tells the range function how many numbers to skip between each count.\n",
        "\n",
        "* In the below example, I’ve used number 3 as the step and you can see the output numbers are the previous number + 3"
      ],
      "metadata": {
        "id": "Hgn_NLTWh1oH"
      }
    },
    {
      "cell_type": "code",
      "source": [
        "for n in range(1, 10, 3):\n",
        "    print(\"Printing with step:\", n)"
      ],
      "metadata": {
        "colab": {
          "base_uri": "https://localhost:8080/"
        },
        "id": "3eFncvoch6Cy",
        "outputId": "31e624e6-9bfa-4dc4-ba95-2480ccb86322"
      },
      "execution_count": 7,
      "outputs": [
        {
          "output_type": "stream",
          "name": "stdout",
          "text": [
            "Printing with step: 1\n",
            "Printing with step: 4\n",
            "Printing with step: 7\n"
          ]
        }
      ]
    },
    {
      "cell_type": "markdown",
      "source": [
        "**break statement with for loop**\n",
        "\n",
        "* The break statement is used to exit the for loop prematurely. It’s used to break the for loop when a specific condition is met.\n",
        "\n",
        "* Let’s say we have a list of numbers and we want to check if a number is present or not. We can iterate over the list of numbers and if the number is found, break out of the loop because we don’t need to keep iterating over the remaining elements."
      ],
      "metadata": {
        "id": "JHQroi1diFsP"
      }
    },
    {
      "cell_type": "code",
      "source": [
        "nums = [1, 2, 3, 4, 5, 6]\n",
        " \n",
        "n = 2\n",
        " \n",
        "found = False\n",
        "for num in nums:\n",
        "    if n == num:\n",
        "        found = True\n",
        "        break\n",
        " \n",
        "print(f'List contains {n}: {found}')"
      ],
      "metadata": {
        "colab": {
          "base_uri": "https://localhost:8080/"
        },
        "id": "qzmMvs0PiPW8",
        "outputId": "316d29a3-597d-43a6-dc8a-b309506b882d"
      },
      "execution_count": 8,
      "outputs": [
        {
          "output_type": "stream",
          "name": "stdout",
          "text": [
            "List contains 2: True\n"
          ]
        }
      ]
    },
    {
      "cell_type": "markdown",
      "source": [
        "**The continue statement with for loop**\n",
        "\n",
        "* We can use continue statements inside a for loop to skip the execution of the for loop body for a specific condition.\n",
        "\n",
        "* Let’s say we have a list of numbers and we want to print the sum of positive numbers. We can use the continue statements to skip the for loop for negative numbers.\n",
        "\n"
      ],
      "metadata": {
        "id": "LTXVJJDDi9di"
      }
    },
    {
      "cell_type": "code",
      "source": [
        "nums = [1, 2, -3, 4, -5, 6]\n",
        " \n",
        "sum_positives = 0\n",
        " \n",
        "for num in nums:\n",
        "    if num < 0:\n",
        "        continue\n",
        "    sum_positives += num\n",
        " \n",
        "print(f'Sum of Positive Numbers: {sum_positives}')"
      ],
      "metadata": {
        "colab": {
          "base_uri": "https://localhost:8080/"
        },
        "id": "eArD-xeYjHxE",
        "outputId": "42b46321-29c3-4c9c-c4f3-5af630bad8e6"
      },
      "execution_count": 9,
      "outputs": [
        {
          "output_type": "stream",
          "name": "stdout",
          "text": [
            "Sum of Positive Numbers: 13\n"
          ]
        }
      ]
    },
    {
      "cell_type": "markdown",
      "source": [
        "* **Python for loop with an else block**\n",
        "\n",
        "* **Python enables an else clause at the end of a for loop. The else part is executed if the loop terminates naturally**.\n",
        "\n",
        "\n",
        "* We can use else block with a Python for loop. The else block is executed only when the for loop is not terminated by a break statement.\n",
        "\n",
        "* Let’s say we have a function to print the sum of numbers if and only if all the numbers are even."
      ],
      "metadata": {
        "id": "8kZJW4gflKk_"
      }
    },
    {
      "cell_type": "code",
      "source": [
        "def print_sum_even_nums(even_nums):\n",
        "    total = 0\n",
        " \n",
        "    for x in even_nums:\n",
        "        if x % 2 != 0:\n",
        "            print(\"if true\")\n",
        "            break\n",
        " \n",
        "        total += x\n",
        "    else:\n",
        "        print(\"For loop executed normally\")\n",
        "        print(f'Sum of numbers {total}')\n",
        " \n",
        " \n",
        "# this will print the sum\n",
        "print_sum_even_nums([2, 4, 6, 8])\n",
        " \n",
        "# this won't print the sum because of an odd number in the sequence\n",
        "print_sum_even_nums([2, 4, 5, 8])"
      ],
      "metadata": {
        "colab": {
          "base_uri": "https://localhost:8080/"
        },
        "id": "M9XHXKKKlfbL",
        "outputId": "44197d5f-181c-45a2-ddb4-63c859bcc364"
      },
      "execution_count": 13,
      "outputs": [
        {
          "output_type": "stream",
          "name": "stdout",
          "text": [
            "For loop executed normally\n",
            "Sum of numbers 20\n",
            "if true\n"
          ]
        }
      ]
    },
    {
      "cell_type": "markdown",
      "source": [
        "**While Loop**\n",
        "\n",
        "* In python, while loop is used to execute a block of statements repeatedly until a given condition is satisfied. And when the condition becomes false, the line immediately after the loop in the program is executed.\n",
        "\n",
        "syntax:\n",
        "\n",
        "![image.png](data:image/png;base64,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)"
      ],
      "metadata": {
        "id": "7iOy-jIWnc0d"
      }
    },
    {
      "cell_type": "code",
      "source": [
        "count = 0\n",
        "while (count < 3):    \n",
        "    count = count + 1\n",
        "    print(\"Hello python\")"
      ],
      "metadata": {
        "colab": {
          "base_uri": "https://localhost:8080/"
        },
        "id": "GjVo_v0-nq6H",
        "outputId": "ef4b17bb-a16f-411e-f48b-6e1eb2179216"
      },
      "execution_count": 14,
      "outputs": [
        {
          "output_type": "stream",
          "name": "stdout",
          "text": [
            "Hello python\n",
            "Hello python\n",
            "Hello python\n"
          ]
        }
      ]
    },
    {
      "cell_type": "code",
      "source": [
        " #Program to add natural\n",
        "# numbers up to \n",
        "# sum = 1+2+3+...+n\n",
        "\n",
        "# To take input from the user,\n",
        "# n = int(input(\"Enter n: \"))\n",
        "\n",
        "n = 10\n",
        "\n",
        "# initialize sum and counter\n",
        "sum = 0\n",
        "i = 1\n",
        "\n",
        "while i <= n:\n",
        "    sum = sum + i\n",
        "    i = i+1    # update counter\n",
        "\n",
        "# print the sum\n",
        "print(\"The sum is\", sum)"
      ],
      "metadata": {
        "colab": {
          "base_uri": "https://localhost:8080/"
        },
        "id": "HuRt0T12oLq_",
        "outputId": "757285f0-e7d1-42ae-bf3d-d971cd95bec4"
      },
      "execution_count": 15,
      "outputs": [
        {
          "output_type": "stream",
          "name": "stdout",
          "text": [
            "The sum is 55\n"
          ]
        }
      ]
    },
    {
      "cell_type": "markdown",
      "source": [
        "**While loop with else**\n",
        "\n",
        "* Same as with for loops, while loops can also have an optional else block.\n",
        "\n",
        "* The else part is executed if the condition in the while loop evaluates to False.\n",
        "\n",
        "* The while loop can be terminated with a break statement. In such cases, the else part is ignored. Hence, a while loop's else part runs if no break occurs and the condition is false."
      ],
      "metadata": {
        "id": "N3kCST4ssGMK"
      }
    },
    {
      "cell_type": "code",
      "source": [
        "counter = 0\n",
        "\n",
        "while counter < 3:\n",
        "    print(\"Inside loop\")\n",
        "    counter = counter + 1\n",
        "else:\n",
        "    print(\"Inside else\")\n",
        "\n",
        "# On the fourth iteration, the condition in while becomes False. Hence, the else part is executed."
      ],
      "metadata": {
        "colab": {
          "base_uri": "https://localhost:8080/"
        },
        "id": "tDJmDOcDsR1Y",
        "outputId": "f9d51e0f-cbe4-4516-c55b-cf1d71d8a359"
      },
      "execution_count": 17,
      "outputs": [
        {
          "output_type": "stream",
          "name": "stdout",
          "text": [
            "Inside loop\n",
            "Inside loop\n",
            "Inside loop\n",
            "Inside else\n"
          ]
        }
      ]
    },
    {
      "cell_type": "markdown",
      "source": [
        "**An infinite while loop**\n",
        "\n",
        "* As we mentioned earlier, the while loop in Python works on a single condition. And as long as the condition evaluates to true, the loop continues to run."
      ],
      "metadata": {
        "id": "cn36kYA_tMP2"
      }
    },
    {
      "cell_type": "code",
      "source": [
        "var = 100\n",
        "while var == 100 :  # an infinite loop\n",
        "   data = input(\"Enter something:\")\n",
        "   print (\"You entered : \", data)\n",
        " \n",
        "print (\"Good Bye Friend!\")\n"
      ],
      "metadata": {
        "colab": {
          "base_uri": "https://localhost:8080/",
          "height": 572
        },
        "id": "sSPtxXsXtSCx",
        "outputId": "48a1816c-1d6c-4cee-85cc-3aa8b7551d11"
      },
      "execution_count": 18,
      "outputs": [
        {
          "output_type": "stream",
          "name": "stdout",
          "text": [
            "Enter something:hi\n",
            "You entered :  hi\n"
          ]
        },
        {
          "output_type": "error",
          "ename": "KeyboardInterrupt",
          "evalue": "ignored",
          "traceback": [
            "\u001b[0;31m---------------------------------------------------------------------------\u001b[0m",
            "\u001b[0;31mKeyboardInterrupt\u001b[0m                         Traceback (most recent call last)",
            "\u001b[0;32m/usr/local/lib/python3.7/dist-packages/ipykernel/kernelbase.py\u001b[0m in \u001b[0;36m_input_request\u001b[0;34m(self, prompt, ident, parent, password)\u001b[0m\n\u001b[1;32m    728\u001b[0m             \u001b[0;32mtry\u001b[0m\u001b[0;34m:\u001b[0m\u001b[0;34m\u001b[0m\u001b[0;34m\u001b[0m\u001b[0m\n\u001b[0;32m--> 729\u001b[0;31m                 \u001b[0mident\u001b[0m\u001b[0;34m,\u001b[0m \u001b[0mreply\u001b[0m \u001b[0;34m=\u001b[0m \u001b[0mself\u001b[0m\u001b[0;34m.\u001b[0m\u001b[0msession\u001b[0m\u001b[0;34m.\u001b[0m\u001b[0mrecv\u001b[0m\u001b[0;34m(\u001b[0m\u001b[0mself\u001b[0m\u001b[0;34m.\u001b[0m\u001b[0mstdin_socket\u001b[0m\u001b[0;34m,\u001b[0m \u001b[0;36m0\u001b[0m\u001b[0;34m)\u001b[0m\u001b[0;34m\u001b[0m\u001b[0;34m\u001b[0m\u001b[0m\n\u001b[0m\u001b[1;32m    730\u001b[0m             \u001b[0;32mexcept\u001b[0m \u001b[0mException\u001b[0m\u001b[0;34m:\u001b[0m\u001b[0;34m\u001b[0m\u001b[0;34m\u001b[0m\u001b[0m\n",
            "\u001b[0;32m/usr/local/lib/python3.7/dist-packages/jupyter_client/session.py\u001b[0m in \u001b[0;36mrecv\u001b[0;34m(self, socket, mode, content, copy)\u001b[0m\n\u001b[1;32m    802\u001b[0m         \u001b[0;32mtry\u001b[0m\u001b[0;34m:\u001b[0m\u001b[0;34m\u001b[0m\u001b[0;34m\u001b[0m\u001b[0m\n\u001b[0;32m--> 803\u001b[0;31m             \u001b[0mmsg_list\u001b[0m \u001b[0;34m=\u001b[0m \u001b[0msocket\u001b[0m\u001b[0;34m.\u001b[0m\u001b[0mrecv_multipart\u001b[0m\u001b[0;34m(\u001b[0m\u001b[0mmode\u001b[0m\u001b[0;34m,\u001b[0m \u001b[0mcopy\u001b[0m\u001b[0;34m=\u001b[0m\u001b[0mcopy\u001b[0m\u001b[0;34m)\u001b[0m\u001b[0;34m\u001b[0m\u001b[0;34m\u001b[0m\u001b[0m\n\u001b[0m\u001b[1;32m    804\u001b[0m         \u001b[0;32mexcept\u001b[0m \u001b[0mzmq\u001b[0m\u001b[0;34m.\u001b[0m\u001b[0mZMQError\u001b[0m \u001b[0;32mas\u001b[0m \u001b[0me\u001b[0m\u001b[0;34m:\u001b[0m\u001b[0;34m\u001b[0m\u001b[0;34m\u001b[0m\u001b[0m\n",
            "\u001b[0;32m/usr/local/lib/python3.7/dist-packages/zmq/sugar/socket.py\u001b[0m in \u001b[0;36mrecv_multipart\u001b[0;34m(self, flags, copy, track)\u001b[0m\n\u001b[1;32m    723\u001b[0m         \"\"\"\n\u001b[0;32m--> 724\u001b[0;31m         \u001b[0mparts\u001b[0m \u001b[0;34m=\u001b[0m \u001b[0;34m[\u001b[0m\u001b[0mself\u001b[0m\u001b[0;34m.\u001b[0m\u001b[0mrecv\u001b[0m\u001b[0;34m(\u001b[0m\u001b[0mflags\u001b[0m\u001b[0;34m,\u001b[0m \u001b[0mcopy\u001b[0m\u001b[0;34m=\u001b[0m\u001b[0mcopy\u001b[0m\u001b[0;34m,\u001b[0m \u001b[0mtrack\u001b[0m\u001b[0;34m=\u001b[0m\u001b[0mtrack\u001b[0m\u001b[0;34m)\u001b[0m\u001b[0;34m]\u001b[0m\u001b[0;34m\u001b[0m\u001b[0;34m\u001b[0m\u001b[0m\n\u001b[0m\u001b[1;32m    725\u001b[0m         \u001b[0;31m# have first part already, only loop while more to receive\u001b[0m\u001b[0;34m\u001b[0m\u001b[0;34m\u001b[0m\u001b[0;34m\u001b[0m\u001b[0m\n",
            "\u001b[0;32mzmq/backend/cython/socket.pyx\u001b[0m in \u001b[0;36mzmq.backend.cython.socket.Socket.recv\u001b[0;34m()\u001b[0m\n",
            "\u001b[0;32mzmq/backend/cython/socket.pyx\u001b[0m in \u001b[0;36mzmq.backend.cython.socket.Socket.recv\u001b[0;34m()\u001b[0m\n",
            "\u001b[0;32mzmq/backend/cython/socket.pyx\u001b[0m in \u001b[0;36mzmq.backend.cython.socket._recv_copy\u001b[0;34m()\u001b[0m\n",
            "\u001b[0;32m/usr/local/lib/python3.7/dist-packages/zmq/backend/cython/checkrc.pxd\u001b[0m in \u001b[0;36mzmq.backend.cython.checkrc._check_rc\u001b[0;34m()\u001b[0m\n",
            "\u001b[0;31mKeyboardInterrupt\u001b[0m: ",
            "\nDuring handling of the above exception, another exception occurred:\n",
            "\u001b[0;31mKeyboardInterrupt\u001b[0m                         Traceback (most recent call last)",
            "\u001b[0;32m<ipython-input-18-36602c89d5c9>\u001b[0m in \u001b[0;36m<module>\u001b[0;34m()\u001b[0m\n\u001b[1;32m      1\u001b[0m \u001b[0mvar\u001b[0m \u001b[0;34m=\u001b[0m \u001b[0;36m100\u001b[0m\u001b[0;34m\u001b[0m\u001b[0;34m\u001b[0m\u001b[0m\n\u001b[1;32m      2\u001b[0m \u001b[0;32mwhile\u001b[0m \u001b[0mvar\u001b[0m \u001b[0;34m==\u001b[0m \u001b[0;36m100\u001b[0m \u001b[0;34m:\u001b[0m  \u001b[0;31m# an infinite loop\u001b[0m\u001b[0;34m\u001b[0m\u001b[0;34m\u001b[0m\u001b[0m\n\u001b[0;32m----> 3\u001b[0;31m    \u001b[0mdata\u001b[0m \u001b[0;34m=\u001b[0m \u001b[0minput\u001b[0m\u001b[0;34m(\u001b[0m\u001b[0;34m\"Enter something:\"\u001b[0m\u001b[0;34m)\u001b[0m\u001b[0;34m\u001b[0m\u001b[0;34m\u001b[0m\u001b[0m\n\u001b[0m\u001b[1;32m      4\u001b[0m    \u001b[0mprint\u001b[0m \u001b[0;34m(\u001b[0m\u001b[0;34m\"You entered : \"\u001b[0m\u001b[0;34m,\u001b[0m \u001b[0mdata\u001b[0m\u001b[0;34m)\u001b[0m\u001b[0;34m\u001b[0m\u001b[0;34m\u001b[0m\u001b[0m\n\u001b[1;32m      5\u001b[0m \u001b[0;34m\u001b[0m\u001b[0m\n",
            "\u001b[0;32m/usr/local/lib/python3.7/dist-packages/ipykernel/kernelbase.py\u001b[0m in \u001b[0;36mraw_input\u001b[0;34m(self, prompt)\u001b[0m\n\u001b[1;32m    702\u001b[0m             \u001b[0mself\u001b[0m\u001b[0;34m.\u001b[0m\u001b[0m_parent_ident\u001b[0m\u001b[0;34m,\u001b[0m\u001b[0;34m\u001b[0m\u001b[0;34m\u001b[0m\u001b[0m\n\u001b[1;32m    703\u001b[0m             \u001b[0mself\u001b[0m\u001b[0;34m.\u001b[0m\u001b[0m_parent_header\u001b[0m\u001b[0;34m,\u001b[0m\u001b[0;34m\u001b[0m\u001b[0;34m\u001b[0m\u001b[0m\n\u001b[0;32m--> 704\u001b[0;31m             \u001b[0mpassword\u001b[0m\u001b[0;34m=\u001b[0m\u001b[0;32mFalse\u001b[0m\u001b[0;34m,\u001b[0m\u001b[0;34m\u001b[0m\u001b[0;34m\u001b[0m\u001b[0m\n\u001b[0m\u001b[1;32m    705\u001b[0m         )\n\u001b[1;32m    706\u001b[0m \u001b[0;34m\u001b[0m\u001b[0m\n",
            "\u001b[0;32m/usr/local/lib/python3.7/dist-packages/ipykernel/kernelbase.py\u001b[0m in \u001b[0;36m_input_request\u001b[0;34m(self, prompt, ident, parent, password)\u001b[0m\n\u001b[1;32m    732\u001b[0m             \u001b[0;32mexcept\u001b[0m \u001b[0mKeyboardInterrupt\u001b[0m\u001b[0;34m:\u001b[0m\u001b[0;34m\u001b[0m\u001b[0;34m\u001b[0m\u001b[0m\n\u001b[1;32m    733\u001b[0m                 \u001b[0;31m# re-raise KeyboardInterrupt, to truncate traceback\u001b[0m\u001b[0;34m\u001b[0m\u001b[0;34m\u001b[0m\u001b[0;34m\u001b[0m\u001b[0m\n\u001b[0;32m--> 734\u001b[0;31m                 \u001b[0;32mraise\u001b[0m \u001b[0mKeyboardInterrupt\u001b[0m\u001b[0;34m\u001b[0m\u001b[0;34m\u001b[0m\u001b[0m\n\u001b[0m\u001b[1;32m    735\u001b[0m             \u001b[0;32melse\u001b[0m\u001b[0;34m:\u001b[0m\u001b[0;34m\u001b[0m\u001b[0;34m\u001b[0m\u001b[0m\n\u001b[1;32m    736\u001b[0m                 \u001b[0;32mbreak\u001b[0m\u001b[0;34m\u001b[0m\u001b[0;34m\u001b[0m\u001b[0m\n",
            "\u001b[0;31mKeyboardInterrupt\u001b[0m: "
          ]
        }
      ]
    },
    {
      "cell_type": "markdown",
      "source": [
        "* range(n): generates a set of whole numbers starting from 0 to (n-1).\n",
        "For example:\n",
        "range(8) is equivalent to [0, 1, 2, 3, 4, 5, 6, 7]\n",
        "\n",
        "* range(start, stop): generates a set of whole numbers starting from start to stop-1.\n",
        "For example:\n",
        "range(5, 9) is equivalent to [5, 6, 7, 8]\n",
        "\n",
        "* range(start, stop, step_size): The default step_size is 1 which is why when we didn’t specify the step_size, the numbers generated are having difference of 1. However by specifying step_size we can generate numbers having the difference of step_size.\n",
        "For example:\n",
        "range(1, 10, 2) is equivalent to [1, 3, 5, 7, 9]"
      ],
      "metadata": {
        "id": "En9Bulhktnz3"
      }
    }
  ]
}