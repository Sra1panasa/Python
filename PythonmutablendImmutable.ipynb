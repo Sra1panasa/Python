{
  "nbformat": 4,
  "nbformat_minor": 0,
  "metadata": {
    "colab": {
      "name": "Untitled5.ipynb",
      "provenance": [],
      "authorship_tag": "ABX9TyMQTxkLwtX4p++NOUu7CP0P",
      "include_colab_link": true
    },
    "kernelspec": {
      "name": "python3",
      "display_name": "Python 3"
    },
    "language_info": {
      "name": "python"
    }
  },
  "cells": [
    {
      "cell_type": "markdown",
      "metadata": {
        "id": "view-in-github",
        "colab_type": "text"
      },
      "source": [
        "<a href=\"https://colab.research.google.com/github/Sra1panasa/Python/blob/main/PythonmutablendImmutable.ipynb\" target=\"_parent\"><img src=\"https://colab.research.google.com/assets/colab-badge.svg\" alt=\"Open In Colab\"/></a>"
      ]
    },
    {
      "cell_type": "markdown",
      "metadata": {
        "id": "bKS8CJUzqMmV"
      },
      "source": [
        "**immutable vs mutable:**\n",
        "\n",
        "* Mutable is a fancy way of saying that the internal state of the object is changed/mutated. So, the simplest definition is: An object whose internal state can be changed is mutable. On the other hand, immutable doesn’t allow any change in the object once it has been created.\n",
        "\n",
        "* A very simple statement if the object data can be changed that is called  as mutable else immutable.\n",
        "\n",
        "* Objects of built-in type that are mutable are:\n",
        "\n",
        " 1)Lists\n",
        "\n",
        " 2)Sets\n",
        "\n",
        " 3)Dictionaries\n",
        "\n",
        " 4)User-Defined Classes (It purely depends upon the user to define the characteristics) \n",
        "* Objects of built-in type that are immutable are:\n",
        "\n",
        " 1)Numbers (Integer, Rational, Float, Decimal, Complex & Booleans)\n",
        "\n",
        " 2)Strings\n",
        "\n",
        " 3)Tuples\n",
        "\n",
        " 4)Frozen Sets\n",
        "\n",
        " 5)User-Defined Classes (It purely depends upon the user to define the characteristics)\n",
        "\n",
        "* Object mutability is one of the characteristics that makes Python a dynamically typed language. \n",
        "\n",
        "**Objects in Python**:\n",
        "\n",
        "In Python, everything is treated as an object. Every object has these three attributes:\n",
        "\n",
        "1)Identity – This refers to the address that the object refers to in the computer’s memory.\n",
        "\n",
        "2)Type – This refers to the kind of object that is created. For example- integer, list, string etc. \n",
        "\n",
        "3)Value – This refers to the value stored by the object. For example – List=[1,2,3] would hold the numbers 1,2 and 3\n",
        "\n",
        "Note: While ID and Type cannot be changed once it’s created, values can be changed for Mutable objects.\n"
      ]
    },
    {
      "cell_type": "markdown",
      "metadata": {
        "id": "q3I2GVZ2tHND"
      },
      "source": [
        "Lets Understand with code❤\n",
        "\n",
        "**Mutable**"
      ]
    },
    {
      "cell_type": "code",
      "metadata": {
        "colab": {
          "base_uri": "https://localhost:8080/"
        },
        "id": "Ocot7Ul8tVoP",
        "outputId": "92b758df-fa43-4084-fd14-b50842a465dd"
      },
      "source": [
        "#Creating a list which contains name of Indian cities  \n",
        "\n",
        "cities = ['Delhi', 'Mumbai', 'Kolkata']\n",
        "# Printing the elements from the list cities, separated by a comma & space\n",
        "for city in cities:\n",
        "\t\tprint(city, end=',')\n",
        "#Printing the location of the object created in the memory address in hexadecimal format\n",
        "print(hex(id(cities)))\n",
        "#Output [2]: 0x1691d7de8c8\n"
      ],
      "execution_count": 3,
      "outputs": [
        {
          "output_type": "stream",
          "name": "stdout",
          "text": [
            "Delhi,Mumbai,Kolkata,0x7f87c7d0dd70\n"
          ]
        }
      ]
    },
    {
      "cell_type": "markdown",
      "metadata": {
        "id": "NkrYwv_Bt8qw"
      },
      "source": [
        "* Lets add new element to cities.\n"
      ]
    },
    {
      "cell_type": "code",
      "metadata": {
        "colab": {
          "base_uri": "https://localhost:8080/"
        },
        "id": "XkG3FyVOuT0W",
        "outputId": "c574ab61-0819-402a-b3bf-014f8da0b49a"
      },
      "source": [
        "cities.append('Chennai')\n",
        "#Printing the elements from the list cities, separated by a comma & space \n",
        "\n",
        "for city in cities:\n",
        "\tprint(city, end=',')\n",
        "#Printing the location of the object created in the memory address in hexadecimal format\n",
        "print(hex(id(cities)))\n",
        "#Output [4]: 0x1691d7de8c8"
      ],
      "execution_count": 5,
      "outputs": [
        {
          "output_type": "stream",
          "name": "stdout",
          "text": [
            "Delhi,Mumbai,Kolkata,Chennai,0x7f87c7d0dd70\n"
          ]
        }
      ]
    },
    {
      "cell_type": "markdown",
      "metadata": {
        "id": "6gmIi6oZunuH"
      },
      "source": [
        "* when we look at the memory locations before adding the element and after adding no diff.That means object data got changed.\n",
        "\n",
        "* The above example shows us that we were able to change the internal state of the object ‘cities’ by adding one more city ‘Chennai’ to it, yet, the memory address of the object did not change. This confirms that we did not create a new object, rather, the same object was changed or mutated. Hence, we can say that the object which is a type of list with reference variable name ‘cities’ is a MUTABLE OBJECT"
      ]
    },
    {
      "cell_type": "markdown",
      "metadata": {
        "id": "wErXMgwfvRza"
      },
      "source": [
        "**immutable**\n"
      ]
    },
    {
      "cell_type": "code",
      "metadata": {
        "id": "j5mLRal2vgHC"
      },
      "source": [
        "case 1)\n",
        "\n",
        "#Creating a Tuple with variable name ‘foo’\n",
        "foo = (1, 2)\n",
        "#Changing the index[0] value from 1 to 3\n",
        "foo[0] = 3\n",
        "\t\n",
        "#TypeError: 'tuple' object does not support item assignment \n"
      ],
      "execution_count": null,
      "outputs": []
    },
    {
      "cell_type": "markdown",
      "metadata": {
        "id": "MjnQaVawwFSk"
      },
      "source": [
        "* since tuple is immutable when we try to change object data it throws error.thats why it doesn't have append() or extend() method for tuples, You can't remove elements from a tuple, also because of their immutability.\n",
        "\n",
        "* The only way we have is using merge of tuples with the + operator you can add an element.Tuple can only allow adding tuple to it"
      ]
    },
    {
      "cell_type": "code",
      "metadata": {
        "colab": {
          "base_uri": "https://localhost:8080/"
        },
        "id": "LHQoNZKkzw-3",
        "outputId": "d84a41b6-c189-4d92-e82e-4a238abf4465"
      },
      "source": [
        "a_tuple = (\"element1\", \"element2\")\n",
        "print(a_tuple)\n",
        "new_element = (\"element3\",)\n",
        "a_tuple = a_tuple + new_element\n",
        "print(a_tuple)\n"
      ],
      "execution_count": 7,
      "outputs": [
        {
          "output_type": "stream",
          "name": "stdout",
          "text": [
            "('element1', 'element2')\n",
            "('element1', 'element2', 'element3')\n"
          ]
        }
      ]
    },
    {
      "cell_type": "markdown",
      "metadata": {
        "id": "7yfmq3AkzOFT"
      },
      "source": [
        "***adding with + operator we are able to add element to tuple .then is this not mutability since we are making changes?***\n",
        "\n",
        "Ans) No this is not mutability.why bcz when we add new element it will create new tuple instead of changing the data in existing object that is why tuple is immutable.lets check the example."
      ]
    },
    {
      "cell_type": "markdown",
      "metadata": {
        "id": "Gted21Mk20Om"
      },
      "source": [
        "* In Python, tuples are created by placing a sequence of values separated by ‘comma’ with or without the use of parentheses for grouping of the data sequence. Tuples can contain any number of elements and of any datatype (like strings, integers, list, etc.)."
      ]
    },
    {
      "cell_type": "code",
      "metadata": {
        "colab": {
          "base_uri": "https://localhost:8080/"
        },
        "id": "Iu5pfMtb0NvT",
        "outputId": "2ed40647-a818-49d5-f293-260e8eb2eb7b"
      },
      "source": [
        "#Creating a Tuple which contains English name of weekdays\n",
        "\n",
        "weekdays = 'Sunday', 'Monday', 'Tuesday'\n",
        "print(type(weekdays))\n",
        "# Printing the elements of tuple weekdays\n",
        "print(weekdays)\n",
        "#Printing the location of the object created in the memory address in hexadecimal format\n",
        "print(hex(id(weekdays)))\n",
        "#tuples are immutable, so you cannot add new elements, hence, using merge of tuples with the # + operator to add a new imaginary day in the tuple ‘weekdays’\n",
        "weekdays  +=  'Pythonday',\n",
        "#Printing the elements of tuple weekdays\n",
        "print(weekdays)\n",
        "#Printing the location of the object created in the memory address in hexadecimal format\n",
        "print(hex(id(weekdays)))"
      ],
      "execution_count": 14,
      "outputs": [
        {
          "output_type": "stream",
          "name": "stdout",
          "text": [
            "<class 'tuple'>\n",
            "('Sunday', 'Monday', 'Tuesday')\n",
            "0x7f87c5299f50\n",
            "('Sunday', 'Monday', 'Tuesday', 'Pythonday')\n",
            "0x7f87c5204170\n"
          ]
        }
      ]
    },
    {
      "cell_type": "markdown",
      "metadata": {
        "id": "kshe-Mv7v-W8"
      },
      "source": [
        "* This above example shows that we were able to use the same variable name that is referencing an object which is a type of tuple with 3 elements in it. However, the ID or the memory location of the old & new tuple is not the same. We were not able to change the internal state of the object ‘weekdays’. The Python program manager created a new object in the memory address and the variable name ‘weekdays’ started referencing the new object with 4 elements in it.  Hence, we can say that the object which is a type of tuple with reference variable name ‘weekdays’ is an IMMUTABLE OBJECT."
      ]
    },
    {
      "cell_type": "markdown",
      "metadata": {
        "id": "FhB_Nr0i4n-P"
      },
      "source": [
        "**mutable and immutable objects together:**\n",
        "\n",
        "* case 1: creating a tuple (immutable object) which contains 2 lists(mutable) as it’s elements\n",
        "* Since list is mutable even it is present in tuple we can make changes in its object."
      ]
    },
    {
      "cell_type": "code",
      "metadata": {
        "colab": {
          "base_uri": "https://localhost:8080/"
        },
        "id": "ue2Trwej5bFD",
        "outputId": "ce03775d-0269-44ff-92dd-8e9f300904d7"
      },
      "source": [
        "#The elements (lists) contains the name, age & gender \n",
        "person = (['Ayaan', 5, 'Male'], ['Aaradhya', 8, 'Female'])\n",
        "#printing the tuple\n",
        "print(person)\n",
        "#printing the location of the object created in the memory address in hexadecimal format\n",
        "print(hex(id(person)))\n",
        "#Changing the age for the 1st element. Selecting 1st element of tuple by using indexing [0] then 2nd element of the list by using indexing [1]\n",
        "# and assigning a new value for age as 4\n",
        "print(person[0])\n",
        "person[0][1] = 4\n",
        "#printing the updated tuple\n",
        "print(person)\n",
        "#printing the location of the object created in the memory address in hexadecimal format\n",
        "print(hex(id(person)))"
      ],
      "execution_count": 17,
      "outputs": [
        {
          "output_type": "stream",
          "name": "stdout",
          "text": [
            "(['Ayaan', 5, 'Male'], ['Aaradhya', 8, 'Female'])\n",
            "0x7f87c10ebf00\n",
            "['Ayaan', 5, 'Male']\n",
            "(['Ayaan', 4, 'Male'], ['Aaradhya', 8, 'Female'])\n",
            "0x7f87c10ebf00\n"
          ]
        }
      ]
    },
    {
      "cell_type": "markdown",
      "metadata": {
        "id": "MEnUvtcG8Dz1"
      },
      "source": [
        "* In the above code, you can see that the object ‘person’ is immutable since it is a type of tuple. However, it has two lists as it’s elements, and we can change the state of lists (lists being mutable). So, here we did not change the object reference inside the Tuple, but the referenced object was mutated."
      ]
    },
    {
      "cell_type": "markdown",
      "metadata": {
        "id": "ovezWEoI9XDD"
      },
      "source": [
        "**Case 2) creating a list (mutable object) which contains tuples(immutable) as it’s elements**"
      ]
    },
    {
      "cell_type": "code",
      "metadata": {
        "colab": {
          "base_uri": "https://localhost:8080/"
        },
        "id": "cwJ7rkEt-JAp",
        "outputId": "d4e63f1a-22ab-4f69-9351-8686c3fbb8b4"
      },
      "source": [
        "list1 = [(1, 2, 3), (4, 5, 6)]\n",
        "#printing the list\n",
        "print(list1)\n",
        "#printing the location of the object created in the memory address in hexadecimal format\n",
        "print(hex(id(list1)))\n",
        "#changing object reference at index 0\n",
        "list1[0] = (7, 8, 9)\n",
        "#printing the list\n",
        "print(list1)\n",
        "#printing the location of the object created in the memory address in hexadecimal format\n",
        "print(hex(id(list1)))"
      ],
      "execution_count": 19,
      "outputs": [
        {
          "output_type": "stream",
          "name": "stdout",
          "text": [
            "[(1, 2, 3), (4, 5, 6)]\n",
            "0x7f87c10a2280\n",
            "[(7, 8, 9), (4, 5, 6)]\n",
            "0x7f87c10a2280\n"
          ]
        }
      ]
    },
    {
      "cell_type": "markdown",
      "metadata": {
        "id": "Df7olHkb_Ok8"
      },
      "source": [
        "* Note: in both of the cases when list has tuples and tuple has list that becomes mutable.we can change the content from above we can see that memory reference is same even after changing hence its mutable."
      ]
    },
    {
      "cell_type": "markdown",
      "metadata": {
        "id": "F4IDNPS_AuEt"
      },
      "source": [
        "**Strings:**\n",
        "\n",
        "Case 1:\n",
        "* Lets see same memory concept in strings.Since strings are immutable when we try to convert it to lower case instead changing the object data/internal state it is creating new object and storing in diff location."
      ]
    },
    {
      "cell_type": "code",
      "metadata": {
        "colab": {
          "base_uri": "https://localhost:8080/"
        },
        "id": "PSCAnKHs_3wW",
        "outputId": "7e3e6e73-5195-44e2-d866-ffeb6f108b3d"
      },
      "source": [
        "S1=\"Sravan\"\n",
        "print(hex(id(S1)))\n",
        "print(hex(id(S1.lower())))\n"
      ],
      "execution_count": 26,
      "outputs": [
        {
          "output_type": "stream",
          "name": "stdout",
          "text": [
            "0x7f87c10887b0\n",
            "0x7f87c10a6eb0\n"
          ]
        }
      ]
    },
    {
      "cell_type": "markdown",
      "metadata": {
        "id": "ONBv9mJrBPGr"
      },
      "source": [
        "* Case2 : if two string values are same then both of them store in same location.internally compiler checks if value is same instead of creating new object that same reference points to the existing reference that is why for them memory ref is same.\n"
      ]
    },
    {
      "cell_type": "code",
      "metadata": {
        "colab": {
          "base_uri": "https://localhost:8080/"
        },
        "id": "6zDJlUMxBp52",
        "outputId": "2bd64c31-75b1-404a-8c02-cb959b9daf98"
      },
      "source": [
        "S1=\"Sravan\"\n",
        "S2=\"Sravan\"\n",
        "print(hex(id(S1)))\n",
        "print(hex(id(S2)))"
      ],
      "execution_count": 27,
      "outputs": [
        {
          "output_type": "stream",
          "name": "stdout",
          "text": [
            "0x7f87c10887b0\n",
            "0x7f87c10887b0\n"
          ]
        }
      ]
    },
    {
      "cell_type": "markdown",
      "metadata": {
        "id": "oBqjjVNbB5Ej"
      },
      "source": [
        "* Case 3: when we try to change the string content/string object data it will throw err bcz of immutability.\n",
        " "
      ]
    },
    {
      "cell_type": "code",
      "metadata": {
        "colab": {
          "base_uri": "https://localhost:8080/",
          "height": 183
        },
        "id": "lUN6AcGgCIWM",
        "outputId": "6ce38730-edc1-4a2f-ddcb-b885e095f8a5"
      },
      "source": [
        "S=\"Kumar\"\n",
        "S[0]='P'"
      ],
      "execution_count": 29,
      "outputs": [
        {
          "output_type": "error",
          "ename": "TypeError",
          "evalue": "ignored",
          "traceback": [
            "\u001b[0;31m---------------------------------------------------------------------------\u001b[0m",
            "\u001b[0;31mTypeError\u001b[0m                                 Traceback (most recent call last)",
            "\u001b[0;32m<ipython-input-29-8a7f9919856f>\u001b[0m in \u001b[0;36m<module>\u001b[0;34m()\u001b[0m\n\u001b[1;32m      1\u001b[0m \u001b[0mS\u001b[0m\u001b[0;34m=\u001b[0m\u001b[0;34m\"Kumar\"\u001b[0m\u001b[0;34m\u001b[0m\u001b[0;34m\u001b[0m\u001b[0m\n\u001b[0;32m----> 2\u001b[0;31m \u001b[0mS\u001b[0m\u001b[0;34m[\u001b[0m\u001b[0;36m0\u001b[0m\u001b[0;34m]\u001b[0m\u001b[0;34m=\u001b[0m\u001b[0;34m'P'\u001b[0m\u001b[0;34m\u001b[0m\u001b[0;34m\u001b[0m\u001b[0m\n\u001b[0m",
            "\u001b[0;31mTypeError\u001b[0m: 'str' object does not support item assignment"
          ]
        }
      ]
    },
    {
      "cell_type": "markdown",
      "metadata": {
        "id": "lZP3O1sJCajF"
      },
      "source": [
        "* case 4:  when we assing one mutable data to another variable and making changes in that variable will reflect to old variable as well."
      ]
    },
    {
      "cell_type": "code",
      "metadata": {
        "colab": {
          "base_uri": "https://localhost:8080/"
        },
        "id": "H4BuFHgUCqBU",
        "outputId": "d52a8212-a78e-4ae8-b8a2-e39b46dc7a7e"
      },
      "source": [
        "list1=[1,2,3]\n",
        "list2=list1\n",
        "print(hex(id(list1)))\n",
        "print(hex(id(list2)))\n",
        "list2.append(4)\n",
        "print(list1)\n",
        "print(list2)\n",
        "S1=\"Data\"\n",
        "S2=S1\n",
        "print(hex(id(S1)))\n",
        "print(hex(id(S2)))\n",
        "S2 +=\"science\"\n",
        "print(hex(id(S2)))\n",
        "print(S1)\n",
        "print(S2)\n"
      ],
      "execution_count": 35,
      "outputs": [
        {
          "output_type": "stream",
          "name": "stdout",
          "text": [
            "0x7f87c101bcd0\n",
            "0x7f87c101bcd0\n",
            "[1, 2, 3, 4]\n",
            "[1, 2, 3, 4]\n",
            "0x7f87ea15be30\n",
            "0x7f87ea15be30\n",
            "0x7f87c10580f0\n",
            "Data\n",
            "Datascience\n"
          ]
        }
      ]
    },
    {
      "cell_type": "markdown",
      "metadata": {
        "id": "QSlQmAEzD0JR"
      },
      "source": [
        "Note:  when we reassign both variables store in same location.but when we try to change the object data list will store in new memory location bcz of its immutability where as list will store in same reference since it is mutable.\n",
        "\n",
        "* thats why even we make changes with one reference either list1 or list2 for both of them it will reflect."
      ]
    }
  ]
}