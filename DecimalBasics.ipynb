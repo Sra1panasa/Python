{
  "nbformat": 4,
  "nbformat_minor": 0,
  "metadata": {
    "colab": {
      "name": "Untitled1.ipynb",
      "provenance": [],
      "authorship_tag": "ABX9TyPxVp9rQ9qzm5E+CLTpy/EC",
      "include_colab_link": true
    },
    "kernelspec": {
      "name": "python3",
      "display_name": "Python 3"
    },
    "language_info": {
      "name": "python"
    }
  },
  "cells": [
    {
      "cell_type": "markdown",
      "metadata": {
        "id": "view-in-github",
        "colab_type": "text"
      },
      "source": [
        "<a href=\"https://colab.research.google.com/github/Sra1panasa/Python/blob/main/DecimalBasics.ipynb\" target=\"_parent\"><img src=\"https://colab.research.google.com/assets/colab-badge.svg\" alt=\"Open In Colab\"/></a>"
      ]
    },
    {
      "cell_type": "markdown",
      "metadata": {
        "id": "u84nI5XfWN_n"
      },
      "source": [
        "**Python Decimal**\n",
        "\n",
        "* Normally Decimal is used to avoid the floating point precision problem. For example, the float literal 71.60 isn't mathematically 71.60, but a number very close to it.\n",
        "\n",
        "* As a result, using float to initialize Decimal won't avoid the problem. **In general, you should use strings to initialize Decimal**.\n",
        "\n",
        "* Many decimal numbers don’t have exact representations in binary floating-point such as 0.1. When using these numbers in arithmetic operations, you’ll get a result that you would not expect for example.\n",
        "\n",
        "\n",
        "* **imortance of Decimal**.\n",
        "* Python built-in class float performs some calculations that might amaze us. We all know that the sum of 1.1 and 2.2 is 3.3, but Python seems to disagree.\n",
        "* in the below example expected result is true bt the actual result is false.\n",
        "\n",
        "\n"
      ]
    },
    {
      "cell_type": "code",
      "metadata": {
        "colab": {
          "base_uri": "https://localhost:8080/"
        },
        "id": "4T63HN8wfs1J",
        "outputId": "437444ca-8ee6-4091-b272-aa481dca7ea3"
      },
      "source": [
        "(1.1 + 2.2) == 3.3"
      ],
      "execution_count": 5,
      "outputs": [
        {
          "output_type": "execute_result",
          "data": {
            "text/plain": [
              "False"
            ]
          },
          "metadata": {},
          "execution_count": 5
        }
      ]
    },
    {
      "cell_type": "markdown",
      "metadata": {
        "id": "f62g9yfEgzya"
      },
      "source": [
        "What is going on?\n",
        "\n",
        "It turns out that floating-point numbers are implemented in computer hardware as binary fractions as the computer only understands binary (0 and 1). Due to this reason, most of the decimal fractions we know, cannot be accurately stored in our computer.\n",
        "\n",
        "Let's take an example. We cannot represent the fraction 1/3 as a decimal number. This will give 0.33333333... which is infinitely long, and we can only approximate it.\n",
        "\n",
        "It turns out that the decimal fraction 0.1 will result in an infinitely long binary fraction of 0.000110011001100110011... and our computer only stores a finite number of it.\n",
        "\n",
        "This will only approximate 0.1 but never be equal. Hence, it is the limitation of our computer hardware and not an error in Python."
      ]
    },
    {
      "cell_type": "code",
      "metadata": {
        "colab": {
          "base_uri": "https://localhost:8080/"
        },
        "id": "GE8BUPOVhGVA",
        "outputId": "c9ad65d7-774d-4fc8-8cc3-34565469b304"
      },
      "source": [
        "1.1 + 2.2\n",
        "3.3000000000000003\n",
        "\n"
      ],
      "execution_count": 16,
      "outputs": [
        {
          "output_type": "execute_result",
          "data": {
            "text/plain": [
              "3.3000000000000003"
            ]
          },
          "metadata": {},
          "execution_count": 16
        }
      ]
    },
    {
      "cell_type": "code",
      "metadata": {
        "colab": {
          "base_uri": "https://localhost:8080/"
        },
        "id": "DEOL3VB45_mU",
        "outputId": "535fca65-b2d2-4af6-d743-a68df6e0e3c7"
      },
      "source": [
        "# should be same float values or string .. but one string with another int will results false.\n",
        "print(Decimal(71.60) == Decimal(71.60))\n",
        "print(Decimal('71.60') == Decimal('71.60'))\n",
        "print(Decimal(71.60) == Decimal('71.60'))"
      ],
      "execution_count": 24,
      "outputs": [
        {
          "output_type": "stream",
          "name": "stdout",
          "text": [
            "True\n",
            "True\n",
            "False\n"
          ]
        }
      ]
    },
    {
      "cell_type": "code",
      "metadata": {
        "colab": {
          "base_uri": "https://localhost:8080/"
        },
        "id": "DewwsgZ8hZih",
        "outputId": "c9cdd512-80d6-4584-f58c-091736b46817"
      },
      "source": [
        "from decimal import Decimal as D\n",
        "\n",
        "print(D('1.1') + D('2.2'))\n",
        "print(D('1.1') + D('2.2')==D(3.3))\n",
        "print(D('1.1') + D('2.2')==D('3.3'))\n"
      ],
      "execution_count": 20,
      "outputs": [
        {
          "output_type": "stream",
          "name": "stdout",
          "text": [
            "3.3\n",
            "False\n",
            "True\n"
          ]
        }
      ]
    },
    {
      "cell_type": "code",
      "metadata": {
        "colab": {
          "base_uri": "https://localhost:8080/"
        },
        "id": "9hA_zoMNYVX7",
        "outputId": "3b9f6308-203a-4f5d-e535-85a8bbc92e3b"
      },
      "source": [
        "x = 0.1\n",
        "y = 0.1\n",
        "z = 0.1\n",
        "\n",
        "s = x + y + z\n",
        "\n",
        "print(s)"
      ],
      "execution_count": 1,
      "outputs": [
        {
          "output_type": "stream",
          "name": "stdout",
          "text": [
            "0.30000000000000004\n"
          ]
        }
      ]
    },
    {
      "cell_type": "code",
      "metadata": {
        "colab": {
          "base_uri": "https://localhost:8080/"
        },
        "id": "_WRVV7-0Yiyu",
        "outputId": "b3396a00-b4fc-413d-a79c-7174dbd0c2f0"
      },
      "source": [
        "import decimal\n",
        "from decimal import Decimal\n",
        "\n",
        "x = Decimal('0.1')\n",
        "y = Decimal('0.1')\n",
        "z = Decimal('0.1')\n",
        "\n",
        "s = x + y + z\n",
        "\n",
        "print(s)\n",
        "print(Decimal('0.1') + Decimal('0.1') + Decimal('0.1') - Decimal('0.3'))"
      ],
      "execution_count": 3,
      "outputs": [
        {
          "output_type": "stream",
          "name": "stdout",
          "text": [
            "0.3\n",
            "0.0\n"
          ]
        }
      ]
    },
    {
      "cell_type": "code",
      "metadata": {
        "colab": {
          "base_uri": "https://localhost:8080/"
        },
        "id": "LZViaq0DaFls",
        "outputId": "94ab4fe9-afe1-4113-dc81-55187f3c4ac1"
      },
      "source": [
        "(1.1 + 2.2) == 3.3"
      ],
      "execution_count": 4,
      "outputs": [
        {
          "output_type": "execute_result",
          "data": {
            "text/plain": [
              "False"
            ]
          },
          "metadata": {},
          "execution_count": 4
        }
      ]
    },
    {
      "cell_type": "code",
      "metadata": {
        "colab": {
          "base_uri": "https://localhost:8080/"
        },
        "id": "djel6OA933x5",
        "outputId": "a79421e0-87b4-4834-8a4e-61a23572322d"
      },
      "source": [
        "from decimal import Decimal\n",
        "\n",
        "x = 0.1 + 0.1 + 0.1\n",
        "\n",
        "print(x == 0.3)\n",
        "print(x)\n",
        "\n",
        "print(\"----------------------\")\n",
        "\n",
        "x = Decimal('0.1') + Decimal('0.1') + Decimal('0.1')\n",
        "\n",
        "print(x == Decimal('0.3'))\n",
        "print(float(x) == 0.3)\n",
        "print(x)"
      ],
      "execution_count": 21,
      "outputs": [
        {
          "output_type": "stream",
          "name": "stdout",
          "text": [
            "False\n",
            "0.30000000000000004\n",
            "----------------------\n",
            "True\n",
            "True\n",
            "0.3\n"
          ]
        }
      ]
    }
  ]
}