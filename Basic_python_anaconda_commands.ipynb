{
  "nbformat": 4,
  "nbformat_minor": 0,
  "metadata": {
    "colab": {
      "name": "Untitled10.ipynb",
      "provenance": [],
      "authorship_tag": "ABX9TyNlt5bu08cYk/krN/I/kQ/z",
      "include_colab_link": true
    },
    "kernelspec": {
      "name": "python3",
      "display_name": "Python 3"
    },
    "language_info": {
      "name": "python"
    }
  },
  "cells": [
    {
      "cell_type": "markdown",
      "metadata": {
        "id": "view-in-github",
        "colab_type": "text"
      },
      "source": [
        "<a href=\"https://colab.research.google.com/github/Sra1panasa/Python/blob/main/Basic_python_anaconda_commands.ipynb\" target=\"_parent\"><img src=\"https://colab.research.google.com/assets/colab-badge.svg\" alt=\"Open In Colab\"/></a>"
      ]
    },
    {
      "cell_type": "markdown",
      "source": [
        "Basic python commands:\n",
        "\n",
        "1) What is Anaconda?\n",
        "\n",
        "Anaconda is a Python distribution for data science and machine learning.\n",
        "\n",
        "* To create a new python environment use the following command:\n",
        "\n",
        "  $ conda create --name environment-name\n",
        "\n",
        "* Before you can use an environment, you need to activate it. You can activate your environment using:\n",
        "\n",
        "  $ conda activate environment-name\n",
        "\n"
      ],
      "metadata": {
        "id": "Fza8oCiJFa4-"
      }
    },
    {
      "cell_type": "code",
      "source": [
        "!pwd\n"
      ],
      "metadata": {
        "colab": {
          "base_uri": "https://localhost:8080/"
        },
        "id": "BXlwDItKLD9t",
        "outputId": "4b257198-5448-4dfc-8427-b03f6a8b0837"
      },
      "execution_count": null,
      "outputs": [
        {
          "output_type": "stream",
          "name": "stdout",
          "text": [
            "/content\n"
          ]
        }
      ]
    },
    {
      "cell_type": "markdown",
      "source": [
        "fallow this link for more commands: [link text](https://towardsdatascience.com/manage-your-python-virtual-environment-with-conda-a0d2934d5195)"
      ],
      "metadata": {
        "id": "F5E7rrrj2mRc"
      }
    }
  ]
}