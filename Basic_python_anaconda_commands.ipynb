{
  "nbformat": 4,
  "nbformat_minor": 0,
  "metadata": {
    "colab": {
      "name": "Untitled10.ipynb",
      "provenance": [],
      "include_colab_link": true
    },
    "kernelspec": {
      "name": "python3",
      "display_name": "Python 3"
    },
    "language_info": {
      "name": "python"
    }
  },
  "cells": [
    {
      "cell_type": "markdown",
      "metadata": {
        "id": "view-in-github",
        "colab_type": "text"
      },
      "source": [
        "<a href=\"https://colab.research.google.com/github/Sra1panasa/Python/blob/main/Basic_python_anaconda_commands.ipynb\" target=\"_parent\"><img src=\"https://colab.research.google.com/assets/colab-badge.svg\" alt=\"Open In Colab\"/></a>"
      ]
    },
    {
      "cell_type": "markdown",
      "source": [
        "Basic python commands:\n",
        "\n",
        "1) What is Anaconda?\n",
        "\n",
        "Anaconda is a Python distribution for data science and machine learning.\n",
        "\n",
        "* To create a new python environment use the following command:\n",
        "\n",
        "  $ conda create --name environment-name\n",
        "\n",
        "  $ conda create --name myenv python=3.8\n",
        "\n",
        "* copying contents of repo to another repo\n",
        "\n",
        "  conda create --name new_env_name --clone old_env_name\n",
        "\n",
        "* remove env\n",
        "\n",
        "  $ conda remove --name env_name --all\n",
        "\n",
        "* Before you can use an environment, you need to activate it. You can activate your environment using:\n",
        "\n",
        "  $ conda activate environment-name\n",
        "\n"
      ],
      "metadata": {
        "id": "Fza8oCiJFa4-"
      }
    },
    {
      "cell_type": "markdown",
      "source": [
        "fallow this link for more commands: [link text](https://towardsdatascience.com/manage-your-python-virtual-environment-with-conda-a0d2934d5195)"
      ],
      "metadata": {
        "id": "F5E7rrrj2mRc"
      }
    },
    {
      "cell_type": "markdown",
      "source": [
        "**issue with Transformers installation:**\n",
        "\n",
        "* installed transformers using\n",
        "pip install transformers\n",
        "* but some imports are not resolived..like\n",
        "\n",
        "from transformers import AutoModelForTokenClassification, TrainingArguments, Trainer, AutoTokenizer\n",
        "\n",
        "error:\n",
        "Traceback (most recent call last):\n",
        "  File \"C:/Users/sravan.kumar.panasa/Documents/Imaginea/Mageswaran_layoutLM/witnew_changes/mozhi-datasets/sroie2019-layoutlm/hf_model_train.py\", line 3, in <module>\n",
        "    from transformers import AutoModelForTokenClassification, TrainingArguments, Trainer, AutoTokenizer\n",
        "ImportError: cannot import name 'TrainingArguments' from 'transformers' (C:\\Users\\sravan.kumar.panasa\\Documents\\Softwares\\Anaconda\\envs\\receiptff\\lib\\site-packages\\transformers\\__init__.py)\n",
        "\n",
        "**issue resolusion:**\n",
        "* after re installation with below command it worked fine.\n",
        "conda install -c huggingface transformers\n",
        "\n",
        "* wts the difference check the below installation of transormers steps to get an idea:\n",
        "\n",
        "\n",
        "\n",
        "\n",
        "\n"
      ],
      "metadata": {
        "id": "Ykv51Z1wnO53"
      }
    },
    {
      "cell_type": "markdown",
      "source": [
        "**Installation:**\n",
        "\n",
        "**With pip**\n",
        "\n",
        "This repository is tested on Python 3.6+, PyTorch 1.0.0+ (PyTorch 1.3.1+ for examples) and TensorFlow 2.0.\n",
        "\n",
        "You should install 🤗 Transformers in a virtual environment. If you're unfamiliar with Python virtual environments, check out the user guide.\n",
        "\n",
        "First, create a virtual environment with the version of Python you're going to use and activate it.\n",
        "\n",
        "Then, you will need to install at least one of TensorFlow 2.0, PyTorch or Flax. Please refer to TensorFlow installation page, PyTorch installation page regarding the specific install command for your platform and/or Flax installation page.\n",
        "\n",
        "When TensorFlow 2.0 and/or PyTorch has been installed, 🤗 Transformers can be installed using pip as follows:\n",
        "\n",
        "pip install transformers\n",
        "If you'd like to play with the examples or need the bleeding edge of the code and can't wait for a new release, you must install the library from source.\n",
        "\n",
        "**With conda**\n",
        "\n",
        "**Since Transformers version v4.0.0, we now have a conda channel:- huggingface.**\n",
        "\n",
        "**🤗 Transformers can be installed using conda as follows**:\n",
        "\n",
        "**conda install -c huggingface transformers**\n",
        "\n",
        "Follow the installation pages of TensorFlow, PyTorch or Flax to see how to install them with conda.\n",
        "\n",
        "[link text](https://pythonrepo.com/repo/huggingface-transformers-python-natural-language-processing)"
      ],
      "metadata": {
        "id": "z1_h5LHPp7rq"
      }
    }
  ]
}