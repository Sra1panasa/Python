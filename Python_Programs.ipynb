{
  "nbformat": 4,
  "nbformat_minor": 0,
  "metadata": {
    "colab": {
      "provenance": [],
      "authorship_tag": "ABX9TyPud/ipDXLZqVf06ekkalTt",
      "include_colab_link": true
    },
    "kernelspec": {
      "name": "python3",
      "display_name": "Python 3"
    },
    "language_info": {
      "name": "python"
    }
  },
  "cells": [
    {
      "cell_type": "markdown",
      "metadata": {
        "id": "view-in-github",
        "colab_type": "text"
      },
      "source": [
        "<a href=\"https://colab.research.google.com/github/Sra1panasa/Python/blob/main/Python_Programs.ipynb\" target=\"_parent\"><img src=\"https://colab.research.google.com/assets/colab-badge.svg\" alt=\"Open In Colab\"/></a>"
      ]
    },
    {
      "cell_type": "markdown",
      "source": [
        "Python Programs:\n",
        "\n"
      ],
      "metadata": {
        "id": "ZLmihtKEHeE6"
      }
    },
    {
      "cell_type": "code",
      "source": [
        "# Reverese Of String\n",
        "\n",
        "s = \"i like this program very much\"\n",
        "\n",
        "string_list=s.split()\n",
        "reverse_string=[]\n",
        "for word in string_list:\n",
        "  reverse_string.insert(0,word)\n",
        "\n",
        "print(\"\".join(reverse_string))\n",
        "print(\" \".join(reverse_string))\n",
        "\n"
      ],
      "metadata": {
        "colab": {
          "base_uri": "https://localhost:8080/"
        },
        "id": "t1i2rHrvHhoh",
        "outputId": "cb5df549-df62-46cf-f0b6-e5f35b38d8fb"
      },
      "execution_count": 10,
      "outputs": [
        {
          "output_type": "stream",
          "name": "stdout",
          "text": [
            "muchveryprogramthislikei\n",
            "much very program this like i\n"
          ]
        }
      ]
    },
    {
      "cell_type": "code",
      "source": [
        "# Inset method inserts value at particular position\n",
        "# In Above example every time it inserts value at zero index.\n",
        "\n",
        "fruits = ['apple', 'banana', 'cherry']\n",
        "\n",
        "fruits.insert(0, \"orange\")\n",
        "\n",
        "print(fruits)\n"
      ],
      "metadata": {
        "colab": {
          "base_uri": "https://localhost:8080/"
        },
        "id": "qFt4RQywIwn7",
        "outputId": "3ba7e026-4922-4bf2-f276-c1f061aea36c"
      },
      "execution_count": 11,
      "outputs": [
        {
          "output_type": "stream",
          "name": "stdout",
          "text": [
            "['orange', 'apple', 'banana', 'cherry']\n"
          ]
        }
      ]
    },
    {
      "cell_type": "code",
      "source": [
        "s='python'\n",
        "\n",
        "print(s[::-1])"
      ],
      "metadata": {
        "colab": {
          "base_uri": "https://localhost:8080/"
        },
        "id": "Vw2OM8HuKCQV",
        "outputId": "e9b30c86-f23e-4564-e12a-4b8a7cffc0cd"
      },
      "execution_count": 15,
      "outputs": [
        {
          "output_type": "stream",
          "name": "stdout",
          "text": [
            "nohtyp\n"
          ]
        }
      ]
    },
    {
      "cell_type": "code",
      "source": [
        "# check string present in another string\n",
        "#Case sensitive\n",
        "s=\"python is awesome\"\n",
        "s1=\"python\"\n",
        "s2=\"Python\"\n",
        "print(s1 in s)\n",
        "print(s2 in s)"
      ],
      "metadata": {
        "colab": {
          "base_uri": "https://localhost:8080/"
        },
        "id": "Mb_KBZxVLWdT",
        "outputId": "4abca3d5-e405-476f-9319-6d6addc64958"
      },
      "execution_count": 16,
      "outputs": [
        {
          "output_type": "stream",
          "name": "stdout",
          "text": [
            "True\n",
            "False\n"
          ]
        }
      ]
    },
    {
      "cell_type": "code",
      "source": [
        "# string slicing\n",
        "\n",
        "s='python'\n",
        "print(s[0:2])"
      ],
      "metadata": {
        "colab": {
          "base_uri": "https://localhost:8080/"
        },
        "id": "hAE6lNgnLznC",
        "outputId": "c1119e58-6090-4a5c-f6a5-95652932e1b3"
      },
      "execution_count": 17,
      "outputs": [
        {
          "output_type": "stream",
          "name": "stdout",
          "text": [
            "py\n"
          ]
        }
      ]
    },
    {
      "cell_type": "code",
      "source": [
        "# find vowels in string\n",
        "\n",
        "s='python is'\n",
        "vowels=['a','e','i','o','u','A','E','I','O','U']\n",
        "count=0\n",
        "for char in s:\n",
        "  if char in vowels:\n",
        "    count+=1\n",
        "\n",
        "print(count)"
      ],
      "metadata": {
        "colab": {
          "base_uri": "https://localhost:8080/"
        },
        "id": "IOdgUnHSMWUB",
        "outputId": "5ffe402c-2cc7-444e-a297-16310964cf7c"
      },
      "execution_count": 20,
      "outputs": [
        {
          "output_type": "stream",
          "name": "stdout",
          "text": [
            "2\n"
          ]
        }
      ]
    },
    {
      "cell_type": "code",
      "source": [
        "# Even odd\n",
        "\n",
        "num=10\n",
        "\n",
        "if num%2==0:\n",
        "  print(\"even\")"
      ],
      "metadata": {
        "colab": {
          "base_uri": "https://localhost:8080/"
        },
        "id": "FCvDt2zWOUcu",
        "outputId": "71881fcd-4c25-4ddc-9114-32b6eaeb53b5"
      },
      "execution_count": 21,
      "outputs": [
        {
          "output_type": "stream",
          "name": "stdout",
          "text": [
            "even\n"
          ]
        }
      ]
    },
    {
      "cell_type": "code",
      "source": [
        "# prime number\n",
        "\n",
        "num=10\n",
        "\n",
        "print(num/2)\n",
        "print(round(round(num/2)))\n",
        "for i in range(2,round(num/2)):\n",
        "  print(i)\n",
        "  if num%i==0:\n",
        "    print(\"not prime\")\n",
        "\n"
      ],
      "metadata": {
        "colab": {
          "base_uri": "https://localhost:8080/"
        },
        "id": "hLFTK34TOieo",
        "outputId": "3e21c36b-f2f0-42d7-e1a2-1b0054c30520"
      },
      "execution_count": 30,
      "outputs": [
        {
          "output_type": "stream",
          "name": "stdout",
          "text": [
            "5.0\n",
            "5\n",
            "2\n",
            "not prime\n",
            "3\n",
            "4\n"
          ]
        }
      ]
    },
    {
      "cell_type": "code",
      "source": [
        "# in the above code it is iterating for 3 and 4 also even after we know result at 2 nd itself to stop this give break if its divisible then and there\n",
        "\n",
        "num=7\n",
        "prime=True\n",
        "if num>1:\n",
        "  for i in range(2,int(num/2)):\n",
        "    if num%2==0:\n",
        "      print(\"not prime\")\n",
        "      prime=False\n",
        "      break\n",
        "  if prime:\n",
        "    print(\"prime\")\n"
      ],
      "metadata": {
        "colab": {
          "base_uri": "https://localhost:8080/"
        },
        "id": "1zlAQUkQQcl9",
        "outputId": "44ee6da2-2196-49bc-82f6-852e15191fa4"
      },
      "execution_count": 32,
      "outputs": [
        {
          "output_type": "stream",
          "name": "stdout",
          "text": [
            "prime\n"
          ]
        }
      ]
    },
    {
      "cell_type": "code",
      "source": [
        "num=3\n",
        "fact=1\n",
        "for i in range(1,num+1):\n",
        "  fact=fact*i\n",
        "\n",
        "print(fact)"
      ],
      "metadata": {
        "colab": {
          "base_uri": "https://localhost:8080/"
        },
        "id": "4wi55_QgSo8d",
        "outputId": "2294ef6e-7a12-43ba-fab3-89d65132c5e1"
      },
      "execution_count": 34,
      "outputs": [
        {
          "output_type": "stream",
          "name": "stdout",
          "text": [
            "6\n"
          ]
        }
      ]
    },
    {
      "cell_type": "code",
      "source": [
        " #Write a program to print fibonacci series upto n terms in python\n",
        "\n",
        "num=10\n",
        "n1,n2=0,1\n",
        "for i in range(2,num+1):\n",
        "  n3=n1+n2\n",
        "  n1=n2\n",
        "  n2=n3\n",
        "  print(n3,end=\",\")\n"
      ],
      "metadata": {
        "colab": {
          "base_uri": "https://localhost:8080/"
        },
        "id": "DsSt6jsmS8HM",
        "outputId": "f6a3ece4-0397-40cf-b438-63f15c2fd0cc"
      },
      "execution_count": 38,
      "outputs": [
        {
          "output_type": "stream",
          "name": "stdout",
          "text": [
            "1,2,3,5,8,13,21,34,55,"
          ]
        }
      ]
    },
    {
      "cell_type": "code",
      "source": [
        "my_dict = {'nikhil': 1, 'manjeet': 10, 'Amit': 15}\n",
        "new_dict = {}\n",
        "for key, value in my_dict.items():\n",
        "    if key == 'Amit':\n",
        "        new_dict['Suraj'] = value\n",
        "    else:\n",
        "        new_dict[key] = value\n",
        "del my_dict\n",
        "my_dict = new_dict\n",
        "print(my_dict)"
      ],
      "metadata": {
        "colab": {
          "base_uri": "https://localhost:8080/"
        },
        "id": "a2D7s3vvW9aM",
        "outputId": "48935324-8f25-4f7a-ffdf-5377243c6c12"
      },
      "execution_count": 39,
      "outputs": [
        {
          "output_type": "stream",
          "name": "stdout",
          "text": [
            "{'nikhil': 1, 'manjeet': 10, 'Suraj': 15}\n"
          ]
        }
      ]
    }
  ]
}