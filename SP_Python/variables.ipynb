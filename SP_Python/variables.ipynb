{
  "nbformat": 4,
  "nbformat_minor": 0,
  "metadata": {
    "colab": {
      "name": "Untitled11.ipynb",
      "provenance": []
    },
    "kernelspec": {
      "name": "python3",
      "display_name": "Python 3"
    },
    "language_info": {
      "name": "python"
    }
  },
  "cells": [
    {
      "cell_type": "markdown",
      "source": [
        "**Variables:**"
      ],
      "metadata": {
        "id": "X2jSIec5RsIO"
      }
    },
    {
      "cell_type": "code",
      "source": [
        "print(\"welcome to python\")"
      ],
      "metadata": {
        "colab": {
          "base_uri": "https://localhost:8080/"
        },
        "id": "5qkOOWn9Rs1q",
        "outputId": "400af224-4cd7-4cf8-a717-7eb98b81baf1"
      },
      "execution_count": 5,
      "outputs": [
        {
          "output_type": "stream",
          "name": "stdout",
          "text": [
            "welcome to python\n"
          ]
        }
      ]
    },
    {
      "cell_type": "code",
      "source": [
        "_a=10\n"
      ],
      "metadata": {
        "id": "u7YcKZq1Sjj7"
      },
      "execution_count": 9,
      "outputs": []
    },
    {
      "cell_type": "code",
      "source": [
        "b=10"
      ],
      "metadata": {
        "id": "FvKn3RNsSowr"
      },
      "execution_count": 7,
      "outputs": []
    },
    {
      "cell_type": "code",
      "source": [
        "print(_a+b)"
      ],
      "metadata": {
        "colab": {
          "base_uri": "https://localhost:8080/"
        },
        "id": "sxc82kJbSqQ3",
        "outputId": "8e7ab33f-9c98-4d48-9d0e-9819b901cf89"
      },
      "execution_count": 10,
      "outputs": [
        {
          "output_type": "stream",
          "name": "stdout",
          "text": [
            "20\n"
          ]
        }
      ]
    },
    {
      "cell_type": "code",
      "source": [
        "print(\"Hello world\")\n",
        "a=10\n",
        "b=10\n",
        "print(a+b)"
      ],
      "metadata": {
        "colab": {
          "base_uri": "https://localhost:8080/"
        },
        "id": "-54yLLyIXqDX",
        "outputId": "5ec3f34b-c082-4ff2-cc07-e24d79b0406f"
      },
      "execution_count": 11,
      "outputs": [
        {
          "output_type": "stream",
          "name": "stdout",
          "text": [
            "Hello world\n",
            "20\n"
          ]
        }
      ]
    },
    {
      "cell_type": "markdown",
      "source": [
        "Variable naming convention:"
      ],
      "metadata": {
        "id": "yPGxBIhlZYul"
      }
    },
    {
      "cell_type": "code",
      "source": [
        "name= \"Raju\"\n",
        "rollno=12345\n",
        "clas=5\n",
        "age=10\n",
        "address=\"xyiio\"\n",
        "\n"
      ],
      "metadata": {
        "id": "3ACRAqBsYLAY"
      },
      "execution_count": null,
      "outputs": []
    },
    {
      "cell_type": "code",
      "source": [
        "a= \"Raju\"\n",
        "b=12345\n",
        "c=5\n",
        "d=10\n",
        "e=\"xyiio\"\n",
        "\n"
      ],
      "metadata": {
        "id": "ED1xC1APY0RB"
      },
      "execution_count": null,
      "outputs": []
    }
  ]
}