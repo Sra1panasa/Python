{
  "nbformat": 4,
  "nbformat_minor": 0,
  "metadata": {
    "colab": {
      "name": "Untitled18.ipynb",
      "provenance": [],
      "authorship_tag": "ABX9TyPS3lE78N83xxvOkwW8XIba",
      "include_colab_link": true
    },
    "kernelspec": {
      "name": "python3",
      "display_name": "Python 3"
    },
    "language_info": {
      "name": "python"
    }
  },
  "cells": [
    {
      "cell_type": "markdown",
      "metadata": {
        "id": "view-in-github",
        "colab_type": "text"
      },
      "source": [
        "<a href=\"https://colab.research.google.com/github/Sra1panasa/Python/blob/main/SP_Python/datatypes_keywords.ipynb\" target=\"_parent\"><img src=\"https://colab.research.google.com/assets/colab-badge.svg\" alt=\"Open In Colab\"/></a>"
      ]
    },
    {
      "cell_type": "markdown",
      "source": [
        "Data types:"
      ],
      "metadata": {
        "id": "fnnbLejG77gn"
      }
    },
    {
      "cell_type": "code",
      "source": [
        "a=10\n",
        "b=\"Python\"\n",
        "c=2.5\n",
        "d=True\n",
        "\n",
        "x=[1,2,3,4,5] #list -> mutable\n",
        "y=(1,2,3,4,5) # tuple -immutable\n",
        "z={1,2,3,4} # set- duplicates not allowed\n",
        "v={'name':'raju',\n",
        "   'id':10,\n",
        "    'age':10,\n",
        "   'sal':1000}  # dictionary - stores data in key value pairs\n",
        "\n",
        "print(type(a))\n",
        "print(type(b))\n",
        "print(type(c))\n",
        "print(type(d))\n",
        "print(type(x))\n",
        "print(type(y))\n",
        "print(type(z))\n",
        "print(type(v))\n"
      ],
      "metadata": {
        "colab": {
          "base_uri": "https://localhost:8080/"
        },
        "id": "byLZpKYX8LCi",
        "outputId": "d1048c66-2703-403a-e75a-d586e4951e5e"
      },
      "execution_count": 3,
      "outputs": [
        {
          "output_type": "stream",
          "name": "stdout",
          "text": [
            "<class 'int'>\n",
            "<class 'str'>\n",
            "<class 'float'>\n",
            "<class 'bool'>\n",
            "<class 'list'>\n",
            "<class 'tuple'>\n",
            "<class 'set'>\n",
            "<class 'dict'>\n"
          ]
        }
      ]
    },
    {
      "cell_type": "markdown",
      "source": [
        "type converion:"
      ],
      "metadata": {
        "id": "xLkqgRccDjgk"
      }
    },
    {
      "cell_type": "code",
      "source": [
        "a=10\n",
        "print(a)\n",
        "print(type(a))\n",
        "\n",
        "# converting int to float\n",
        "print(float(a))\n",
        "print(type(b))\n",
        "\n",
        "print(\"******\")\n",
        "\n",
        "s=\"20\"\n",
        "print(type(s))\n",
        "\n",
        "c=int(s)\n",
        "print(c)\n",
        "print(type(c))"
      ],
      "metadata": {
        "colab": {
          "base_uri": "https://localhost:8080/"
        },
        "id": "mRPHDbpkDyA7",
        "outputId": "036c916f-a37c-485d-9a38-0adac2ad9dfb"
      },
      "execution_count": 14,
      "outputs": [
        {
          "output_type": "stream",
          "name": "stdout",
          "text": [
            "10\n",
            "<class 'int'>\n",
            "10.0\n",
            "<class 'float'>\n",
            "******\n",
            "<class 'str'>\n",
            "20\n",
            "<class 'int'>\n"
          ]
        }
      ]
    },
    {
      "cell_type": "markdown",
      "source": [
        "Keywords:\n",
        "\n",
        "pre reserved words each word wil have its own function."
      ],
      "metadata": {
        "id": "GiEQHNLPFyTy"
      }
    },
    {
      "cell_type": "code",
      "source": [
        "age=15\n",
        "iq=100\n",
        "\n",
        "if age>18:\n",
        "  print(\"eligible for vote since age greater than 18\")\n",
        "\n",
        "elif iq>90:\n",
        "  print(\"eligible for vote since iq is more than 90\")\n",
        "\n",
        "else:\n",
        " print(\"not eligible for vote\")"
      ],
      "metadata": {
        "colab": {
          "base_uri": "https://localhost:8080/"
        },
        "id": "iBmlpMaoH35C",
        "outputId": "1fbdca71-8b84-4546-d07d-80bf687b1390"
      },
      "execution_count": 17,
      "outputs": [
        {
          "output_type": "stream",
          "name": "stdout",
          "text": [
            "eligible for vote since iq is more than 90\n"
          ]
        }
      ]
    }
  ]
}