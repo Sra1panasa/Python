{
  "nbformat": 4,
  "nbformat_minor": 0,
  "metadata": {
    "colab": {
      "name": "Untitled23.ipynb",
      "provenance": [],
      "authorship_tag": "ABX9TyNscLJ9JCekhA+iJU+u6vbd",
      "include_colab_link": true
    },
    "kernelspec": {
      "name": "python3",
      "display_name": "Python 3"
    },
    "language_info": {
      "name": "python"
    }
  },
  "cells": [
    {
      "cell_type": "markdown",
      "metadata": {
        "id": "view-in-github",
        "colab_type": "text"
      },
      "source": [
        "<a href=\"https://colab.research.google.com/github/Sra1panasa/Python/blob/main/zip_Enumerate.ipynb\" target=\"_parent\"><img src=\"https://colab.research.google.com/assets/colab-badge.svg\" alt=\"Open In Colab\"/></a>"
      ]
    },
    {
      "cell_type": "markdown",
      "source": [
        "**Zip and enumerate:**\n",
        "\n",
        "* Python zip() method takes iterable or containers and returns a single iterator object, having mapped values from all the containers. \n",
        "\n",
        "* It is used to map the **similar index** of multiple containers so that they can be used just using a single entity.\n",
        "\n",
        "* Syntax :  zip(*iterators) \n",
        "\n",
        "* Parameters : Python iterables or containers ( list, string etc ) \n",
        "* Return Value : Returns a single iterator object, **having mapped values from all the containers.**"
      ],
      "metadata": {
        "id": "fmpA_-HwOCpu"
      }
    },
    {
      "cell_type": "code",
      "source": [
        "name = [ \"Manjeet\", \"sravan\", \"Shambhavi\", \"Astha\" ]\n",
        "roll_no = [ 4, 1, 3, 2 ]\n",
        " \n",
        "# using zip() to map values\n",
        "mapped = zip(name, roll_no)\n",
        "print(mapped)\n",
        " \n",
        "print(set(mapped))"
      ],
      "metadata": {
        "colab": {
          "base_uri": "https://localhost:8080/"
        },
        "id": "8xHfWXwiPy5i",
        "outputId": "fb606dc8-410b-496a-a94f-5b570971f5c8"
      },
      "execution_count": null,
      "outputs": [
        {
          "output_type": "stream",
          "name": "stdout",
          "text": [
            "<zip object at 0x7f5f6ea33be0>\n",
            "{('Astha', 2), ('sravan', 1), ('Shambhavi', 3), ('Manjeet', 4)}\n"
          ]
        }
      ]
    },
    {
      "cell_type": "code",
      "source": [
        "names = ['Mukesh', 'Roni', 'Chari']\n",
        "ages = [24, 50, 18]\n",
        " \n",
        "for i, (name, age) in enumerate(zip(names, ages)):\n",
        "    print(i, name, age)"
      ],
      "metadata": {
        "colab": {
          "base_uri": "https://localhost:8080/"
        },
        "id": "5R64j2vkQcYw",
        "outputId": "c0920be9-953b-436f-c726-6340d8902ce2"
      },
      "execution_count": null,
      "outputs": [
        {
          "output_type": "stream",
          "name": "stdout",
          "text": [
            "0 Mukesh 24\n",
            "1 Roni 50\n",
            "2 Chari 18\n"
          ]
        }
      ]
    },
    {
      "cell_type": "markdown",
      "source": [
        "**How to unzip**\n",
        "\n",
        "* Unzipping means converting the zipped values back to the individual self as they were. This is done with the help of “*” operator."
      ],
      "metadata": {
        "id": "qhhttsphR6E3"
      }
    },
    {
      "cell_type": "code",
      "source": [
        "# initializing lists\n",
        "name = [\"Manjeet\", \"Nikhil\", \"Shambhavi\", \"Astha\"]\n",
        "roll_no = [4, 1, 3, 2]\n",
        "marks = [40, 50, 60, 70]\n",
        " \n",
        "# using zip() to map values\n",
        "mapped = zip(name, roll_no, marks)\n",
        " \n",
        "# converting values to print as list\n",
        "mapped = list(mapped)\n",
        " \n",
        "# printing resultant values\n",
        "print(\"The zipped result is : \", end=\"\")\n",
        "print(mapped)\n",
        " \n",
        "print(\"\\n\")\n",
        " \n",
        "# unzipping values\n",
        "namz, roll_noz, marksz = zip(*mapped)\n",
        " \n",
        "print(\"The unzipped result: \\n\", end=\"\")\n",
        " \n",
        "# printing initial lists\n",
        "print(\"The name list is : \", end=\"\")\n",
        "print(namz)\n",
        " \n",
        "print(\"The roll_no list is : \", end=\"\")\n",
        "print(roll_noz)\n",
        " \n",
        "print(\"The marks list is : \", end=\"\")\n",
        "print(marksz)"
      ],
      "metadata": {
        "colab": {
          "base_uri": "https://localhost:8080/"
        },
        "id": "xL9ns2TXRu3w",
        "outputId": "be1b6fc0-3ba2-4bf7-8418-7cd8c56110d5"
      },
      "execution_count": null,
      "outputs": [
        {
          "output_type": "stream",
          "name": "stdout",
          "text": [
            "The zipped result is : [('Manjeet', 4, 40), ('Nikhil', 1, 50), ('Shambhavi', 3, 60), ('Astha', 2, 70)]\n",
            "\n",
            "\n",
            "The unzipped result: \n",
            "The name list is : ('Manjeet', 'Nikhil', 'Shambhavi', 'Astha')\n",
            "The roll_no list is : (4, 1, 3, 2)\n",
            "The marks list is : (40, 50, 60, 70)\n"
          ]
        }
      ]
    },
    {
      "cell_type": "markdown",
      "source": [
        " **Practical Applications**\n",
        "* There are many possible applications that can be said to be executed using zip, be it student database or scorecard or any other utility that requires mapping of groups. A small example of scorecard is demonstrated below. "
      ],
      "metadata": {
        "id": "w-PR7rwmSPKU"
      }
    },
    {
      "cell_type": "code",
      "source": [
        "# initializing list of players.\n",
        "players = [\"Sachin\", \"Sehwag\", \"Gambhir\", \"Dravid\", \"Raina\"]\n",
        " \n",
        "# initializing their scores\n",
        "scores = [100, 15, 17, 28, 43]\n",
        " \n",
        "# printing players and scores.\n",
        "for pl, sc in zip(players, scores):\n",
        "    print(\"Player :  %s     Score : %d\" % (pl, sc))"
      ],
      "metadata": {
        "colab": {
          "base_uri": "https://localhost:8080/"
        },
        "id": "kZXhnzbkSYNo",
        "outputId": "93a608d0-7677-4c1d-cf07-0378e0cd2050"
      },
      "execution_count": null,
      "outputs": [
        {
          "output_type": "stream",
          "name": "stdout",
          "text": [
            "Player :  Sachin     Score : 100\n",
            "Player :  Sehwag     Score : 15\n",
            "Player :  Gambhir     Score : 17\n",
            "Player :  Dravid     Score : 28\n",
            "Player :  Raina     Score : 43\n"
          ]
        }
      ]
    },
    {
      "cell_type": "markdown",
      "source": [
        "**what will happen if indexes are not same from the lists:**\n",
        "\n",
        "* if indexes are not same it will not through the error it simply maps the values up to the shorter list.\n",
        "* it doesn't matter whether first list is shorter or secnd list is shorter.\n",
        "it will shorter list size of mapping."
      ],
      "metadata": {
        "id": "omnbISG0S0Ri"
      }
    },
    {
      "cell_type": "code",
      "source": [
        "# initializing list of players.\n",
        "players = [\"Sachin\", \"Sehwag\", \"Gambhir\"]\n",
        " \n",
        "# initializing their scores\n",
        "scores = [100, 15, 17, 28, 43]\n",
        " \n",
        "# printing players and scores.\n",
        "for pl, sc in zip(players, scores):\n",
        "    print(\"Player :  %s     Score : %d\" % (pl, sc))"
      ],
      "metadata": {
        "colab": {
          "base_uri": "https://localhost:8080/"
        },
        "id": "2cH8ll67TZ4F",
        "outputId": "d9fd7591-45c3-4d96-8c83-66a4961205ea"
      },
      "execution_count": null,
      "outputs": [
        {
          "output_type": "stream",
          "name": "stdout",
          "text": [
            "Player :  Sachin     Score : 100\n",
            "Player :  Sehwag     Score : 15\n",
            "Player :  Gambhir     Score : 17\n"
          ]
        }
      ]
    },
    {
      "cell_type": "markdown",
      "source": [
        "**Enumerate**\n",
        "\n",
        "* Often, when dealing with iterators, we also get a need to keep a count of iterations. Python eases the programmers’ task by providing a built-in function enumerate() for this task. \n",
        "* **Enumerate() method adds a counter to an iterable and returns it in a form of enumerating object**. This enumerated object can then be used directly for loops or converted into a list of tuples using the list() method.\n",
        "\n",
        "Syntax: \n",
        "\n",
        "enumerate(iterable, start=0)\n",
        "\n",
        "Parameters:\n",
        "Iterable: any object that supports iteration\n",
        "Start: **the index value from which the counter is \n",
        "              to be started, by default it is 0** "
      ],
      "metadata": {
        "id": "oYqo-qtmUC0D"
      }
    },
    {
      "cell_type": "code",
      "source": [
        "languages = ['Python', 'Java', 'JavaScript']\n",
        "\n",
        "enumerate_prime = enumerate(languages)\n",
        "\n",
        "# convert enumerate object to list\n",
        "print(list(enumerate_prime))\n",
        "\n",
        "# Output: [(0, 'Python'), (1, 'Java'), (2, 'JavaScript')]"
      ],
      "metadata": {
        "colab": {
          "base_uri": "https://localhost:8080/"
        },
        "id": "wk25pAwzVUCa",
        "outputId": "46a9deec-42b0-463e-d986-abf59ad23d76"
      },
      "execution_count": null,
      "outputs": [
        {
          "output_type": "stream",
          "name": "stdout",
          "text": [
            "[(0, 'Python'), (1, 'Java'), (2, 'JavaScript')]\n"
          ]
        }
      ]
    },
    {
      "cell_type": "code",
      "source": [
        "l1 = [\"eat\",\"sleep\",\"repeat\"]\n",
        "s1 = \"geek\"\n",
        " \n",
        "# creating enumerate objects\n",
        "obj1 = enumerate(l1)\n",
        "obj2 = enumerate(s1)\n",
        " \n",
        "print (\"Return type:\",type(obj1))\n",
        "print (list(enumerate(l1)))\n",
        " \n",
        "# changing start index to 2 from 0\n",
        "print (list(enumerate(s1,2)))"
      ],
      "metadata": {
        "colab": {
          "base_uri": "https://localhost:8080/"
        },
        "id": "uSghdR6qVcdZ",
        "outputId": "029cb81e-d0c8-4e25-cfe1-7da5a12bb302"
      },
      "execution_count": null,
      "outputs": [
        {
          "output_type": "stream",
          "name": "stdout",
          "text": [
            "Return type: <class 'enumerate'>\n",
            "[(0, 'eat'), (1, 'sleep'), (2, 'repeat')]\n",
            "[(2, 'g'), (3, 'e'), (4, 'e'), (5, 'k')]\n"
          ]
        }
      ]
    },
    {
      "cell_type": "code",
      "source": [
        "l1 = [\"eat\",\"sleep\",\"repeat\"]\n",
        " \n",
        "# printing the tuples in object directly\n",
        "for ele in enumerate(l1):\n",
        "    print (ele)\n",
        "print(\"\\n\")\n",
        "# changing index and printing separately\n",
        "for count,ele in enumerate(l1,100):\n",
        "    print (count,ele)\n",
        "print(\"\\n\")\n",
        "#getting desired output from tuple\n",
        "for count,ele in enumerate(l1):\n",
        "  print(count)\n",
        "  print(ele)"
      ],
      "metadata": {
        "colab": {
          "base_uri": "https://localhost:8080/"
        },
        "id": "XdXsE6gEVrk2",
        "outputId": "5083cfee-eeaf-47bd-d6f8-9b2086855ba4"
      },
      "execution_count": null,
      "outputs": [
        {
          "output_type": "stream",
          "name": "stdout",
          "text": [
            "(0, 'eat')\n",
            "(1, 'sleep')\n",
            "(2, 'repeat')\n",
            "\n",
            "\n",
            "100 eat\n",
            "101 sleep\n",
            "102 repeat\n",
            "\n",
            "\n",
            "0\n",
            "eat\n",
            "1\n",
            "sleep\n",
            "2\n",
            "repeat\n"
          ]
        }
      ]
    },
    {
      "cell_type": "markdown",
      "source": [
        "* Zip with Enumerator\n",
        "\n"
      ],
      "metadata": {
        "id": "ZF2srszMacjA"
      }
    },
    {
      "cell_type": "code",
      "source": [
        "# initializing list of players.\n",
        "players = [\"Sachin\", \"Sehwag\", \"Gambhir\"]\n",
        " \n",
        "# initializing their scores\n",
        "scores = [100, 15, 17, 28, 43]\n",
        " \n",
        "# printing players and scores.\n",
        "for i, label_bbox in enumerate(zip(players, scores)):\n",
        "  #label, bbox = label_bbox[0], label_bbox[1]\n",
        "  print(label_bbox)\n",
        "\n"
      ],
      "metadata": {
        "id": "cDCUaqIlaiWX",
        "outputId": "dc05e51c-1e86-47cd-de8f-3cd73b53177f",
        "colab": {
          "base_uri": "https://localhost:8080/"
        }
      },
      "execution_count": 1,
      "outputs": [
        {
          "output_type": "stream",
          "name": "stdout",
          "text": [
            "('Sachin', 100)\n",
            "('Sehwag', 15)\n",
            "('Gambhir', 17)\n"
          ]
        }
      ]
    }
  ]
}