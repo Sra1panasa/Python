{
  "nbformat": 4,
  "nbformat_minor": 0,
  "metadata": {
    "colab": {
      "provenance": [],
      "authorship_tag": "ABX9TyMAUH9r5OkqXi1d1PEMw8QX",
      "include_colab_link": true
    },
    "kernelspec": {
      "name": "python3",
      "display_name": "Python 3"
    },
    "language_info": {
      "name": "python"
    }
  },
  "cells": [
    {
      "cell_type": "markdown",
      "metadata": {
        "id": "view-in-github",
        "colab_type": "text"
      },
      "source": [
        "<a href=\"https://colab.research.google.com/github/Sra1panasa/Python/blob/main/Pandas_Grandham/pandas_Basics.ipynb\" target=\"_parent\"><img src=\"https://colab.research.google.com/assets/colab-badge.svg\" alt=\"Open In Colab\"/></a>"
      ]
    },
    {
      "cell_type": "markdown",
      "source": [
        "**Python Formulas:**"
      ],
      "metadata": {
        "id": "VyDvgsyjGIpd"
      }
    },
    {
      "cell_type": "code",
      "source": [
        "import pandas as pd"
      ],
      "metadata": {
        "id": "OjqGT2tTGNiS"
      },
      "execution_count": null,
      "outputs": []
    },
    {
      "cell_type": "code",
      "source": [
        "#creating Dataframe\n",
        "df=pd.DataFrame()\n",
        "print(df)"
      ],
      "metadata": {
        "colab": {
          "base_uri": "https://localhost:8080/"
        },
        "id": "vQZln7mTGQgB",
        "outputId": "92e160b5-b842-4e1c-9a4e-182d82ed7e9c"
      },
      "execution_count": null,
      "outputs": [
        {
          "output_type": "stream",
          "name": "stdout",
          "text": [
            "Empty DataFrame\n",
            "Columns: []\n",
            "Index: []\n"
          ]
        }
      ]
    },
    {
      "cell_type": "code",
      "source": [
        "# creating dataframe with list\n",
        "\n",
        "lst = ['Java', 'Python', 'C', 'C++',  \n",
        "         'JavaScript', 'Swift', 'Go']  \n",
        "dframe = pd.DataFrame(lst)  \n",
        "print(type(dframe))\n",
        "print(dframe)  "
      ],
      "metadata": {
        "colab": {
          "base_uri": "https://localhost:8080/"
        },
        "id": "1tNBcH4_Gbjy",
        "outputId": "c751c7db-a120-4dcf-b997-6adef13d1847"
      },
      "execution_count": null,
      "outputs": [
        {
          "output_type": "stream",
          "name": "stdout",
          "text": [
            "<class 'pandas.core.frame.DataFrame'>\n",
            "            0\n",
            "0        Java\n",
            "1      Python\n",
            "2           C\n",
            "3         C++\n",
            "4  JavaScript\n",
            "5       Swift\n",
            "6          Go\n"
          ]
        }
      ]
    },
    {
      "cell_type": "code",
      "source": [
        "#creating dataframe from dict\n",
        "\n",
        "data = {'Name': ['Tom', 'Joseph', 'Krish', 'John'], 'Age': [20, 21, 19, 18]}  \n",
        "  \n",
        "# Create DataFrame  \n",
        "df = pd.DataFrame(data)  \n",
        "  \n",
        "# Print the output.  \n",
        "print(df)  "
      ],
      "metadata": {
        "colab": {
          "base_uri": "https://localhost:8080/"
        },
        "id": "t292y9XSHgrT",
        "outputId": "6344b561-3a47-4532-bc6b-22ce0ec1e426"
      },
      "execution_count": null,
      "outputs": [
        {
          "output_type": "stream",
          "name": "stdout",
          "text": [
            "     Name  Age\n",
            "0     Tom   20\n",
            "1  Joseph   21\n",
            "2   Krish   19\n",
            "3    John   18\n"
          ]
        }
      ]
    },
    {
      "cell_type": "code",
      "source": [
        "# creating dataframe from dict with index\n",
        "\n",
        "data = {'Name':['Renault', 'Duster', 'Maruti', 'Honda City'], 'Ratings':[9.0, 8.0, 5.0, 3.0]}  \n",
        "  \n",
        "# Creates pandas DataFrame.  \n",
        "df = pd.DataFrame(data, index =['position1', 'position2', 'position3', 'position4'])  \n",
        "  \n",
        "# print the data  \n",
        "print(df)  "
      ],
      "metadata": {
        "colab": {
          "base_uri": "https://localhost:8080/"
        },
        "id": "bwyPZLRMHxhR",
        "outputId": "437b0f6b-b077-4349-a510-9f3e8dd7b9c4"
      },
      "execution_count": null,
      "outputs": [
        {
          "output_type": "stream",
          "name": "stdout",
          "text": [
            "                 Name  Ratings\n",
            "position1     Renault      9.0\n",
            "position2      Duster      8.0\n",
            "position3      Maruti      5.0\n",
            "position4  Honda City      3.0\n"
          ]
        }
      ]
    },
    {
      "cell_type": "code",
      "source": [],
      "metadata": {
        "id": "y-hfMn5LH5X0"
      },
      "execution_count": null,
      "outputs": []
    }
  ]
}