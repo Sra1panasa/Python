{
  "nbformat": 4,
  "nbformat_minor": 0,
  "metadata": {
    "colab": {
      "name": "Untitled14.ipynb",
      "provenance": [],
      "authorship_tag": "ABX9TyPJBz+zN51nDoocfjVmWJlk",
      "include_colab_link": true
    },
    "kernelspec": {
      "name": "python3",
      "display_name": "Python 3"
    },
    "language_info": {
      "name": "python"
    }
  },
  "cells": [
    {
      "cell_type": "markdown",
      "metadata": {
        "id": "view-in-github",
        "colab_type": "text"
      },
      "source": [
        "<a href=\"https://colab.research.google.com/github/Sra1panasa/Python/blob/main/Python_Interview_Programs.ipynb\" target=\"_parent\"><img src=\"https://colab.research.google.com/assets/colab-badge.svg\" alt=\"Open In Colab\"/></a>"
      ]
    },
    {
      "cell_type": "markdown",
      "source": [
        "Python Interview Programs:"
      ],
      "metadata": {
        "id": "w-6BRhIElaHp"
      }
    },
    {
      "cell_type": "markdown",
      "source": [
        "https://quescol.com/interview-preparation/python-coding-question\n",
        "\n",
        "\n",
        "\n",
        "first work on numbers 1 to 15\n",
        "> string 1 to 15\n",
        "> array 5 to 10\n"
      ],
      "metadata": {
        "id": "Jhp0DxN8lxgz"
      }
    },
    {
      "cell_type": "code",
      "source": [
        ""
      ],
      "metadata": {
        "id": "cHwvcmk-lg7Q"
      },
      "execution_count": null,
      "outputs": []
    }
  ]
}