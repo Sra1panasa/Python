{
  "nbformat": 4,
  "nbformat_minor": 0,
  "metadata": {
    "colab": {
      "name": "Untitled16.ipynb",
      "provenance": [],
      "authorship_tag": "ABX9TyNCQMBgpTYB5StV7ueI1OI+",
      "include_colab_link": true
    },
    "kernelspec": {
      "name": "python3",
      "display_name": "Python 3"
    },
    "language_info": {
      "name": "python"
    }
  },
  "cells": [
    {
      "cell_type": "markdown",
      "metadata": {
        "id": "view-in-github",
        "colab_type": "text"
      },
      "source": [
        "<a href=\"https://colab.research.google.com/github/Sra1panasa/Python/blob/main/singlestarargusnddoublestarkwargs.ipynb\" target=\"_parent\"><img src=\"https://colab.research.google.com/assets/colab-badge.svg\" alt=\"Open In Colab\"/></a>"
      ]
    },
    {
      "cell_type": "markdown",
      "source": [
        "**Use of * args and **kwargs** :`"
      ],
      "metadata": {
        "id": "2LiuQjQXPfSd"
      }
    },
    {
      "cell_type": "markdown",
      "source": [
        "*args = list of arguments - as positional arguments\n",
        "\n",
        "**kwargs = dictionary - whose keys become separate keyword arguments and the values become values of these arguments.\n",
        "\n",
        "\n",
        "* The syntax is the * and **.\n",
        "* The names *args and **kwargs are only by convention but there's no hard requirement to use them.\n",
        "\n",
        "**You would use * args when you're not sure how many arguments might be passed to your function, i.e. it allows you pass an arbitrary number of arguments to your function. For example**"
      ],
      "metadata": {
        "id": "xNG7UjYCP7Gp"
      }
    },
    {
      "cell_type": "code",
      "source": [
        "def print_everything(*args):\n",
        "  for count, thing in enumerate(args):\n",
        "    print( '{0}. {1}'.format(count, thing))\n",
        "\n",
        "print_everything('apple', 'banana', 'cabbage')\n"
      ],
      "metadata": {
        "colab": {
          "base_uri": "https://localhost:8080/"
        },
        "id": "Z7zqoDdfQWDV",
        "outputId": "32cef5e1-a5ba-44d7-a8e3-e51e83f1b9d5"
      },
      "execution_count": 1,
      "outputs": [
        {
          "output_type": "stream",
          "name": "stdout",
          "text": [
            "0. apple\n",
            "1. banana\n",
            "2. cabbage\n"
          ]
        }
      ]
    },
    {
      "cell_type": "markdown",
      "source": [
        "* similarly, **kwargs allows you to handle named arguments that you have not defined in advance:"
      ],
      "metadata": {
        "id": "LlO8vDjfQt3w"
      }
    },
    {
      "cell_type": "code",
      "source": [
        "def table_things(**kwargs):\n",
        "  for name, value in kwargs.items():\n",
        "     print( '{0} = {1}'.format(name, value))\n",
        "\n",
        "table_things(apple = 'fruit', cabbage = 'vegetable')\n"
      ],
      "metadata": {
        "colab": {
          "base_uri": "https://localhost:8080/"
        },
        "id": "Hbto3U2SRBeM",
        "outputId": "82f39ff7-6d57-4a45-9fd6-4a286e627e8b"
      },
      "execution_count": 2,
      "outputs": [
        {
          "output_type": "stream",
          "name": "stdout",
          "text": [
            "apple = fruit\n",
            "cabbage = vegetable\n"
          ]
        }
      ]
    },
    {
      "cell_type": "code",
      "source": [
        "#Here's an example that uses 3 different types of parameters.\n",
        "def func(required_arg, *args, **kwargs):\n",
        "  # required_arg is a positional-only parameter.\n",
        "  print(required_arg)\n",
        "\n",
        "  # args is a tuple of positional arguments,\n",
        "  # because the parameter name has * prepended.\n",
        "  if args: # If args is not empty.\n",
        "    print(args)\n",
        "\n",
        "  # kwargs is a dictionary of keyword arguments,\n",
        "  # because the parameter name has ** prepended.\n",
        "  if kwargs: # If kwargs is not empty.\n",
        "    print(kwargs)\n",
        "\n",
        "func(\"required argument\")\n",
        "func(\"required argument\", 1, 2, '3', keyword1=4, keyword2=\"foo\")\n",
        "func()\n"
      ],
      "metadata": {
        "colab": {
          "base_uri": "https://localhost:8080/",
          "height": 270
        },
        "id": "ioI43RgBSsBd",
        "outputId": "790cb857-bcff-4dc4-8990-a259179c4f8a"
      },
      "execution_count": 7,
      "outputs": [
        {
          "output_type": "stream",
          "name": "stdout",
          "text": [
            "required argument\n",
            "required argument\n",
            "(1, 2, '3')\n",
            "{'keyword1': 4, 'keyword2': 'foo'}\n"
          ]
        },
        {
          "output_type": "error",
          "ename": "TypeError",
          "evalue": "ignored",
          "traceback": [
            "\u001b[0;31m---------------------------------------------------------------------------\u001b[0m",
            "\u001b[0;31mTypeError\u001b[0m                                 Traceback (most recent call last)",
            "\u001b[0;32m<ipython-input-7-b264a731ba67>\u001b[0m in \u001b[0;36m<module>\u001b[0;34m()\u001b[0m\n\u001b[1;32m     16\u001b[0m \u001b[0mfunc\u001b[0m\u001b[0;34m(\u001b[0m\u001b[0;34m\"required argument\"\u001b[0m\u001b[0;34m)\u001b[0m\u001b[0;34m\u001b[0m\u001b[0;34m\u001b[0m\u001b[0m\n\u001b[1;32m     17\u001b[0m \u001b[0mfunc\u001b[0m\u001b[0;34m(\u001b[0m\u001b[0;34m\"required argument\"\u001b[0m\u001b[0;34m,\u001b[0m \u001b[0;36m1\u001b[0m\u001b[0;34m,\u001b[0m \u001b[0;36m2\u001b[0m\u001b[0;34m,\u001b[0m \u001b[0;34m'3'\u001b[0m\u001b[0;34m,\u001b[0m \u001b[0mkeyword1\u001b[0m\u001b[0;34m=\u001b[0m\u001b[0;36m4\u001b[0m\u001b[0;34m,\u001b[0m \u001b[0mkeyword2\u001b[0m\u001b[0;34m=\u001b[0m\u001b[0;34m\"foo\"\u001b[0m\u001b[0;34m)\u001b[0m\u001b[0;34m\u001b[0m\u001b[0;34m\u001b[0m\u001b[0m\n\u001b[0;32m---> 18\u001b[0;31m \u001b[0mfunc\u001b[0m\u001b[0;34m(\u001b[0m\u001b[0;34m)\u001b[0m\u001b[0;34m\u001b[0m\u001b[0;34m\u001b[0m\u001b[0m\n\u001b[0m",
            "\u001b[0;31mTypeError\u001b[0m: func() missing 1 required positional argument: 'required_arg'"
          ]
        }
      ]
    },
    {
      "cell_type": "code",
      "source": [
        "#One place where the use of *args and **kwargs is quite useful is for subclassing.\n",
        "\n",
        "class Foo(object):\n",
        "    def __init__(self, value1, value2):\n",
        "        # do something with the values\n",
        "        print(\"from super class\")\n",
        "        print(value1, value2)\n",
        "\n",
        "class MyFoo(Foo):\n",
        "    def __init__(self, *args, **kwargs):\n",
        "        # do something else, don't care about the args\n",
        "        print(\"myfoo\")\n",
        "        super(MyFoo, self).__init__(*args, **kwargs)\n",
        "\n",
        "print(MyFoo(\"a\",\"b\"))"
      ],
      "metadata": {
        "colab": {
          "base_uri": "https://localhost:8080/"
        },
        "id": "DZVigvkpTtyQ",
        "outputId": "2dc42faf-4c50-4240-8aa5-fd30e3fdd9bf"
      },
      "execution_count": 9,
      "outputs": [
        {
          "output_type": "stream",
          "name": "stdout",
          "text": [
            "myfoo\n",
            "calling super class\n",
            "a b\n",
            "<__main__.MyFoo object at 0x7fb738ad1e50>\n"
          ]
        }
      ]
    },
    {
      "cell_type": "markdown",
      "source": [
        "* This way you can extend the behaviour of the Foo class, without having to know too much about Foo. This can be quite convenient if you are programming to an API which might change. MyFoo just passes all arguments to the Foo class."
      ],
      "metadata": {
        "id": "wAya46UWUKKZ"
      }
    }
  ]
}