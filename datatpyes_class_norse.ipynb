{
  "nbformat": 4,
  "nbformat_minor": 0,
  "metadata": {
    "colab": {
      "name": "Untitled18.ipynb",
      "provenance": [],
      "authorship_tag": "ABX9TyOmhZOHHIxsJJPXzn0+U6pR",
      "include_colab_link": true
    },
    "kernelspec": {
      "name": "python3",
      "display_name": "Python 3"
    },
    "language_info": {
      "name": "python"
    }
  },
  "cells": [
    {
      "cell_type": "markdown",
      "metadata": {
        "id": "view-in-github",
        "colab_type": "text"
      },
      "source": [
        "<a href=\"https://colab.research.google.com/github/Sra1panasa/Python/blob/main/datatpyes_class_norse.ipynb\" target=\"_parent\"><img src=\"https://colab.research.google.com/assets/colab-badge.svg\" alt=\"Open In Colab\"/></a>"
      ]
    },
    {
      "cell_type": "markdown",
      "source": [
        "Data types:"
      ],
      "metadata": {
        "id": "fnnbLejG77gn"
      }
    },
    {
      "cell_type": "code",
      "source": [
        "a=10\n",
        "b=\"Python\"\n",
        "c=2.5\n",
        "d=True\n",
        "\n",
        "x=[1,2,3,4,5] #list -> mutable\n",
        "y=(1,2,3,4,5) # tuple -immutable\n",
        "z={1,2,3,4} # set- duplicates not allowed\n",
        "v={'name':'raju',\n",
        "   'id':10,\n",
        "    'age':10,\n",
        "   'sal':1000}  # dictionary - stores data in key value pairs\n",
        "\n",
        "print(type(a))\n",
        "print(type(b))\n",
        "print(type(c))\n",
        "print(type(d))\n",
        "print(type(x))\n",
        "print(type(y))\n",
        "print(type(z))\n",
        "print(type(v))\n"
      ],
      "metadata": {
        "colab": {
          "base_uri": "https://localhost:8080/"
        },
        "id": "byLZpKYX8LCi",
        "outputId": "d1048c66-2703-403a-e75a-d586e4951e5e"
      },
      "execution_count": 3,
      "outputs": [
        {
          "output_type": "stream",
          "name": "stdout",
          "text": [
            "<class 'int'>\n",
            "<class 'str'>\n",
            "<class 'float'>\n",
            "<class 'bool'>\n",
            "<class 'list'>\n",
            "<class 'tuple'>\n",
            "<class 'set'>\n",
            "<class 'dict'>\n"
          ]
        }
      ]
    }
  ]
}