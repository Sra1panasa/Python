{
  "nbformat": 4,
  "nbformat_minor": 0,
  "metadata": {
    "colab": {
      "name": "Untitled7.ipynb",
      "provenance": [],
      "authorship_tag": "ABX9TyMIRT3EpKf6jaAVT3FtvkGm",
      "include_colab_link": true
    },
    "kernelspec": {
      "name": "python3",
      "display_name": "Python 3"
    },
    "language_info": {
      "name": "python"
    }
  },
  "cells": [
    {
      "cell_type": "markdown",
      "metadata": {
        "id": "view-in-github",
        "colab_type": "text"
      },
      "source": [
        "<a href=\"https://colab.research.google.com/github/Sra1panasa/Python/blob/main/oops.ipynb\" target=\"_parent\"><img src=\"https://colab.research.google.com/assets/colab-badge.svg\" alt=\"Open In Colab\"/></a>"
      ]
    },
    {
      "cell_type": "markdown",
      "source": [
        "**Main Concepts of Object-Oriented Programming (OOPs) :**\n",
        "\n",
        "1)Class\n",
        "\n",
        "2)Objects\n",
        "\n",
        "3)Inheritance\n",
        "4)Polymorphism\n",
        "\n",
        "4)Encapsulation\n",
        "6) Abstraction"
      ],
      "metadata": {
        "id": "1fISXg0ODD6w"
      }
    },
    {
      "cell_type": "markdown",
      "source": [
        "An object has two characteristics:\n",
        "\n",
        "1)attributes\n",
        "\n",
        "2)behavior\n",
        "Let's take an example:\n",
        "\n",
        "**A parrot is an object, as it has the following properties:**\n",
        "\n",
        "name, age, color as attributes\n",
        "singing, dancing as behavior"
      ],
      "metadata": {
        "id": "7oWYcz1fDRi9"
      }
    },
    {
      "cell_type": "markdown",
      "source": [
        "Class\n",
        "\n",
        "A class is a blueprint for the object.\n",
        "\n",
        "![image.png](data:image/png;base64,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)"
      ],
      "metadata": {
        "id": "8vJyTyqXDqH3"
      }
    },
    {
      "cell_type": "markdown",
      "source": [
        "Object\n",
        "\n",
        "![image.png](data:image/png;base64,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)"
      ],
      "metadata": {
        "id": "ndECv5aFEi8E"
      }
    },
    {
      "cell_type": "markdown",
      "source": [
        "why we are creating object for a class?\n",
        "\n",
        "-> to initialize class data in memory."
      ],
      "metadata": {
        "id": "iy0-xHhPEt2S"
      }
    },
    {
      "cell_type": "code",
      "source": [
        "class Employee:\n",
        "    \n",
        "    def __init__(self,a,b):\n",
        "        print(\" i am from construtr \"+ a+b)\n",
        "  \n",
        "    id=10\n",
        "    # instance method\n",
        "    def display(self, name):\n",
        "        print(\"hi \"+ str(name))\n",
        "\n",
        "# instantiate the object\n",
        "obj = Employee(\"ravi\",\"raju\")\n",
        "\n",
        "# call our instance methods\n",
        "obj.display(\"Ramu\")\n",
        "print(obj.id)\n"
      ],
      "metadata": {
        "colab": {
          "base_uri": "https://localhost:8080/"
        },
        "id": "vgheRCWzF1il",
        "outputId": "c44aab04-f4d2-4a06-ba80-7a056603d0cc"
      },
      "execution_count": 24,
      "outputs": [
        {
          "output_type": "stream",
          "name": "stdout",
          "text": [
            " i am from construtr raviraju\n",
            "hi Ramu\n",
            "10\n"
          ]
        }
      ]
    },
    {
      "cell_type": "code",
      "source": [
        "class Parrot:\n",
        "    \n",
        "    # instance attributes\n",
        "    def __init__(self, name, age):\n",
        "        self.name = name\n",
        "        self.age = age\n",
        "    \n",
        "    # instance method\n",
        "    def sing(self, song):\n",
        "        return \"{} sings {}\".format(self.name, song)\n",
        "\n",
        "    def dance(self):\n",
        "        return \"{} is now dancing\".format(self.name)\n",
        "\n",
        "# instantiate the object\n",
        "blu = Parrot(\"Blu\", 10)\n",
        "\n",
        "# call our instance methods\n",
        "print(blu.sing(\"'Happy'\"))\n",
        "print(blu.dance())"
      ],
      "metadata": {
        "colab": {
          "base_uri": "https://localhost:8080/"
        },
        "id": "HaRcopQ1HXF7",
        "outputId": "e9d5f955-bc18-49b3-d6fb-4c26ac9ac684"
      },
      "execution_count": 11,
      "outputs": [
        {
          "output_type": "stream",
          "name": "stdout",
          "text": [
            "Blu sings 'Happy'\n",
            "Blu is now dancing\n"
          ]
        }
      ]
    },
    {
      "cell_type": "markdown",
      "source": [
        "Inheritance:\n",
        "\n",
        "-> used to create relationship between two independent classes.\n",
        "-> creating child class object and accessing parent class members also."
      ],
      "metadata": {
        "id": "U22LPJ3_HnGT"
      }
    },
    {
      "cell_type": "code",
      "source": [
        "class BaseClass():\n",
        "  def method1(self):\n",
        "      print(\"Guru99\")\n",
        "        \n",
        "class childClass(BaseClass):\n",
        "  \n",
        "  def method2(self):\n",
        "    print(\"childClass method2\")     \n",
        "         \n",
        "\n",
        "c2 = childClass()\n",
        "c2.method2()\n",
        "c2.method1()\n"
      ],
      "metadata": {
        "colab": {
          "base_uri": "https://localhost:8080/"
        },
        "id": "llDqkoIRTlUA",
        "outputId": "6f8ae828-4b2d-467b-b8fa-4e5f2e32dc23"
      },
      "execution_count": 18,
      "outputs": [
        {
          "output_type": "stream",
          "name": "stdout",
          "text": [
            "childClass method2\n",
            "Guru99\n"
          ]
        }
      ]
    },
    {
      "cell_type": "markdown",
      "source": [
        "Polymorphism:\n",
        "\n",
        "> Function with same name in different classes"
      ],
      "metadata": {
        "id": "7lm32IELVnEV"
      }
    },
    {
      "cell_type": "code",
      "source": [
        "class Audi:\n",
        "  def A(self):\n",
        "    print(\"This the description function of class AUDI.\")\n",
        "\n",
        "class BMW:\n",
        "  def A(self):\n",
        "    print(\"This the description function of class BMW.\")\n",
        "\n",
        "\n",
        "audi = Audi()\n",
        "bmw = BMW()\n",
        "\n",
        "audi.A()\n",
        "bmw.A()"
      ],
      "metadata": {
        "colab": {
          "base_uri": "https://localhost:8080/"
        },
        "id": "IsOFnqb2clZy",
        "outputId": "6871363d-223c-438c-c56e-cc9ac385d34f"
      },
      "execution_count": 26,
      "outputs": [
        {
          "output_type": "stream",
          "name": "stdout",
          "text": [
            "This the description function of class AUDI.\n",
            "This the description function of class BMW.\n"
          ]
        }
      ]
    }
  ]
}