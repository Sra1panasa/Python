{
 "cells": [
  {
   "cell_type": "markdown",
   "metadata": {},
   "source": [
    "# POC for Elastic Search\n",
    "\n",
    "  Steps 1: Import data as Pandas Dataframe and insert the records on Elastic Search (Local Host)\n",
    "\n",
    "  Steps 2: Search option using Elastic Search\n",
    "\n",
    "Note: \n",
    "Elastic Search is installed in Local with basic settings. Main purpose of this POC is implementing suitable searching pattern."
   ]
  },
  {
   "cell_type": "markdown",
   "metadata": {},
   "source": [
    "# Import data as Pandas Dataframe\n",
    "For this POC this is taken from CSV file."
   ]
  },
  {
   "cell_type": "code",
   "execution_count": 6,
   "metadata": {},
   "outputs": [
    {
     "data": {
      "text/html": [
       "<div>\n",
       "<style scoped>\n",
       "    .dataframe tbody tr th:only-of-type {\n",
       "        vertical-align: middle;\n",
       "    }\n",
       "\n",
       "    .dataframe tbody tr th {\n",
       "        vertical-align: top;\n",
       "    }\n",
       "\n",
       "    .dataframe thead th {\n",
       "        text-align: right;\n",
       "    }\n",
       "</style>\n",
       "<table border=\"1\" class=\"dataframe\">\n",
       "  <thead>\n",
       "    <tr style=\"text-align: right;\">\n",
       "      <th></th>\n",
       "      <th>id</th>\n",
       "      <th>name</th>\n",
       "      <th>nickname</th>\n",
       "    </tr>\n",
       "  </thead>\n",
       "  <tbody>\n",
       "    <tr>\n",
       "      <th>0</th>\n",
       "      <td>1</td>\n",
       "      <td>Aaron</td>\n",
       "      <td>Erin</td>\n",
       "    </tr>\n",
       "    <tr>\n",
       "      <th>1</th>\n",
       "      <td>2</td>\n",
       "      <td>Aaron</td>\n",
       "      <td>Ron</td>\n",
       "    </tr>\n",
       "    <tr>\n",
       "      <th>2</th>\n",
       "      <td>3</td>\n",
       "      <td>Aaron</td>\n",
       "      <td>Ronnie</td>\n",
       "    </tr>\n",
       "    <tr>\n",
       "      <th>3</th>\n",
       "      <td>4</td>\n",
       "      <td>Abel</td>\n",
       "      <td>Ab</td>\n",
       "    </tr>\n",
       "    <tr>\n",
       "      <th>4</th>\n",
       "      <td>5</td>\n",
       "      <td>Abel</td>\n",
       "      <td>Abe</td>\n",
       "    </tr>\n",
       "  </tbody>\n",
       "</table>\n",
       "</div>"
      ],
      "text/plain": [
       "   id    name  nickname\n",
       "0   1   Aaron      Erin\n",
       "1   2   Aaron       Ron\n",
       "2   3   Aaron    Ronnie\n",
       "3   4    Abel        Ab\n",
       "4   5    Abel       Abe"
      ]
     },
     "execution_count": 6,
     "metadata": {},
     "output_type": "execute_result"
    }
   ],
   "source": [
    "import pandas as pd\n",
    "import warnings\n",
    "warnings.filterwarnings('ignore')\n",
    "\n",
    "inp_df = pd.read_csv('nicknames_proper_format.csv')\n",
    "inp_df.head()"
   ]
  },
  {
   "cell_type": "code",
   "execution_count": 11,
   "metadata": {},
   "outputs": [],
   "source": [
    "inp_df.columns = ['id', 'name_o', 'nickname']"
   ]
  },
  {
   "cell_type": "markdown",
   "metadata": {},
   "source": [
    "# Insert the records on Elastic Search (Local Host)"
   ]
  },
  {
   "cell_type": "code",
   "execution_count": 12,
   "metadata": {},
   "outputs": [],
   "source": [
    "# Initilize Elastic Search\n",
    "\n",
    "from elasticsearch import Elasticsearch, helpers\n",
    "\n",
    "es = Elasticsearch(host='34.71.36.166', port=9200,timeout=60)"
   ]
  },
  {
   "cell_type": "code",
   "execution_count": 13,
   "metadata": {},
   "outputs": [],
   "source": [
    "# Function for creating documents in ElasticSearch\n",
    "\n",
    "def doc_generator(df,header_keys,document_index):\n",
    "    \"\"\"\n",
    "    This generator creates documents for ElasticSearch. For each rows in pandas dataframe, one document is created.\n",
    "    Rows are stored in \"_source\" and row number is stored as \"index\" \n",
    "    \n",
    "    Inputs:\n",
    "        df             => Input Dataframe containing Data\n",
    "        header_keys    => Containing attribute names\n",
    "        document_index => Index name for ElasticSearch\n",
    "    \"\"\"\n",
    "    try:\n",
    "        \n",
    "        filterKeys = lambda docs , attributes : {key: document[key] for key in attributes }\n",
    "        \n",
    "        df_iter = df.iterrows()\n",
    "        for index, document in df_iter:\n",
    "            yield {\n",
    "                    \"_index\": document_index,\n",
    "                    \"_type\": \"_doc\",\n",
    "                    \"_id\" : f\"{index}\",\n",
    "                    \"_source\": filterKeys(document, header_keys),\n",
    "                }\n",
    "            \n",
    "            \n",
    "    except StopIteration:\n",
    "        return\n",
    "    \n",
    "    except err:\n",
    "        print('Error on document generation on elastic search'+err)\n",
    "    "
   ]
  },
  {
   "cell_type": "code",
   "execution_count": 14,
   "metadata": {},
   "outputs": [
    {
     "data": {
      "text/plain": [
       "[{'epoch': '1657552342', 'timestamp': '15:12:22', 'count': '1431'}]"
      ]
     },
     "execution_count": 14,
     "metadata": {},
     "output_type": "execute_result"
    }
   ],
   "source": [
    "# Add documents from Pandas Dataframe\n",
    "\n",
    "header_keys = ['id', 'name_o', 'nickname']\n",
    "index_name = \"crime_names\"\n",
    "\n",
    "helpers.bulk(es, doc_generator(inp_df,header_keys,index_name))\n",
    "\n",
    "# Check the Count of Records in Elastic Search \n",
    "es.indices.refresh(index = index_name)\n",
    "es.cat.count(index= index_name, params={\"format\": \"json\"})"
   ]
  },
  {
   "cell_type": "markdown",
   "metadata": {},
   "source": [
    "# Basic Search Option using Elastic Search\n",
    "> Search on one attribute (Product Type = 'Small Table')\n",
    "\n",
    "> Difference Uses of Seaerch :  match , match_phrase , query_string"
   ]
  },
  {
   "cell_type": "code",
   "execution_count": 5,
   "metadata": {},
   "outputs": [],
   "source": [
    "# Creting customized methods for searching\n",
    "\n",
    "#def search_data_from_elastic():\n",
    "\n",
    "def build_single_query(relation,attribute,val):\n",
    "    # building the elasticsearch query\n",
    "    query = {\n",
    "            relation: {\n",
    "                attribute: val\n",
    "            }\n",
    "        }\n",
    "    return query\n",
    "\n",
    "\n",
    "def display_search(es_client, document_index,relation,attribute,val):\n",
    "    \"\"\"\n",
    "    This function search in ElasticSearch and display the recordsets\n",
    "    \"\"\"\n",
    "    res = es.search(index=document_index, query=build_single_query(relation,attribute,val))\n",
    "    result = res['hits']['hits']\n",
    "    \n",
    "    for searched_records in result:\n",
    "        print(searched_records['_source'])"
   ]
  },
  {
   "cell_type": "code",
   "execution_count": 6,
   "metadata": {},
   "outputs": [
    {
     "name": "stdout",
     "output_type": "stream",
     "text": [
      "{'product_id': 'O1', 'product_type': 'Small Table', 'product_line': 'Office-use', 'rating': 5, 'review': 'This is a good Product. Material used Carbon steel, aluminium, and stainless steel'}\n",
      "{'product_id': 'O4', 'product_type': 'Table Small', 'product_line': 'Office-use', 'rating': 4, 'review': 'Material used Carbon steel, aluminium, and stainless steel'}\n",
      "{'product_id': 'O10', 'product_type': 'small-table', 'product_line': 'Office-use', 'rating': 4, 'review': 'Material used Carbon steel, aluminium, and stainless steel'}\n",
      "{'product_id': 'O5', 'product_type': 'Desk small', 'product_line': 'Office-use', 'rating': 3, 'review': 'Material used Carbon steel. Colour Grey.'}\n",
      "{'product_id': 'O13', 'product_type': 'table', 'product_line': 'Office-use', 'rating': 5, 'review': 'This is a good Product. Material used Carbon steel, aluminium, and stainless steel'}\n",
      "{'product_id': 'O7', 'product_type': 'WFH Table', 'product_line': 'Office-use', 'rating': 5, 'review': 'This is a good Product. Material used Carbon steel, aluminium, and stainless steel'}\n",
      "{'product_id': 'O8', 'product_type': 'School Table', 'product_line': 'Office-use', 'rating': 5, 'review': 'Good for using at School'}\n",
      "{'product_id': 'O16', 'product_type': 'wfh-table', 'product_line': 'Office-use', 'rating': 4, 'review': 'Material used Carbon steel, aluminium, and stainless steel'}\n",
      "{'product_id': 'O17', 'product_type': 'school-table', 'product_line': 'Office-use', 'rating': 3, 'review': 'Material used Carbon steel. Colour Grey.'}\n",
      "{'product_id': 'F2', 'product_type': 'Wooden Table', 'product_line': 'Furniture', 'rating': 2, 'review': 'Not recommanded'}\n"
     ]
    }
   ],
   "source": [
    "# using match\n",
    "display_search(es,'mozila_reviews','match','product_type','small Table')"
   ]
  },
  {
   "cell_type": "code",
   "execution_count": 7,
   "metadata": {},
   "outputs": [
    {
     "name": "stdout",
     "output_type": "stream",
     "text": [
      "{'product_id': 'O1', 'product_type': 'Small Table', 'product_line': 'Office-use', 'rating': 5, 'review': 'This is a good Product. Material used Carbon steel, aluminium, and stainless steel'}\n",
      "{'product_id': 'O10', 'product_type': 'small-table', 'product_line': 'Office-use', 'rating': 4, 'review': 'Material used Carbon steel, aluminium, and stainless steel'}\n"
     ]
    }
   ],
   "source": [
    "# using match_phrase\n",
    "display_search(es,'mozila_reviews','match_phrase','product_type','small Table')"
   ]
  },
  {
   "cell_type": "code",
   "execution_count": 8,
   "metadata": {},
   "outputs": [
    {
     "name": "stdout",
     "output_type": "stream",
     "text": [
      "{'product_id': 'O8', 'product_type': 'School Table', 'product_line': 'Office-use', 'rating': 5, 'review': 'Good for using at School'}\n",
      "{'product_id': 'O17', 'product_type': 'school-table', 'product_line': 'Office-use', 'rating': 3, 'review': 'Material used Carbon steel. Colour Grey.'}\n",
      "{'product_id': 'O5', 'product_type': 'Desk small', 'product_line': 'Office-use', 'rating': 3, 'review': 'Material used Carbon steel. Colour Grey.'}\n",
      "{'product_id': 'O1', 'product_type': 'Small Table', 'product_line': 'Office-use', 'rating': 5, 'review': 'This is a good Product. Material used Carbon steel, aluminium, and stainless steel'}\n",
      "{'product_id': 'O4', 'product_type': 'Table Small', 'product_line': 'Office-use', 'rating': 4, 'review': 'Material used Carbon steel, aluminium, and stainless steel'}\n",
      "{'product_id': 'O10', 'product_type': 'small-table', 'product_line': 'Office-use', 'rating': 4, 'review': 'Material used Carbon steel, aluminium, and stainless steel'}\n",
      "{'product_id': 'O2', 'product_type': 'Desk', 'product_line': 'Office-use', 'rating': 5, 'review': 'Good for using at School'}\n",
      "{'product_id': 'O9', 'product_type': 'Daily Desk', 'product_line': 'Office-use', 'rating': 3, 'review': 'Not suitable for daily use'}\n",
      "{'product_id': 'O11', 'product_type': 'best-desk', 'product_line': 'Office-use', 'rating': 3, 'review': 'Material used Carbon steel. Colour Grey.'}\n",
      "{'product_id': 'O18', 'product_type': 'daily-desk', 'product_line': 'Office-use', 'rating': 2, 'review': 'Material used Carbon steel, aluminium, and stainless steel. Green Colour.'}\n"
     ]
    }
   ],
   "source": [
    "# using query_string \n",
    "\n",
    "query = {\"query_string\": { \"query\": \"(school-table) OR (Desk small)\",\n",
    "      \"default_field\": \"product_type\"}}\n",
    "         \n",
    "res = es.search(index='mozila_reviews', query=query)\n",
    "result = res['hits']['hits']\n",
    "    \n",
    "for searched_records in result:\n",
    "    print(searched_records['_source'])"
   ]
  },
  {
   "cell_type": "markdown",
   "metadata": {},
   "source": [
    "# Combining queries\n",
    "\n",
    "> Search on Multiple attribute (Product Type = 'Table' and Product Line is not for Office use)"
   ]
  },
  {
   "cell_type": "code",
   "execution_count": 9,
   "metadata": {},
   "outputs": [
    {
     "name": "stdout",
     "output_type": "stream",
     "text": [
      "0.70569915 \t {'product_id': 'F2', 'product_type': 'Wooden Table', 'product_line': 'Furniture', 'rating': 2, 'review': 'Not recommanded'}\n",
      "0.5884773 \t {'product_id': 'F1', 'product_type': 'All Purpose Table', 'product_line': 'Furniture', 'rating': 4, 'review': 'Useful product for home'}\n",
      "0.5884773 \t {'product_id': 'F4', 'product_type': 'Dining Table Set', 'product_line': 'Furniture', 'rating': 5, 'review': 'Useful and economical'}\n"
     ]
    }
   ],
   "source": [
    "# Find all records where Product Type = 'Table' and Product Line is not for Office use\n",
    "\n",
    "query = {\n",
    "        \"bool\": {\n",
    "            \"must_not\": {\n",
    "                \"match\": {\n",
    "                    \"product_line\":\"Office\"\n",
    "                }\n",
    "            },\n",
    "            \"should\": {\n",
    "                \"match\": {\n",
    "                    \"product_type\": \"table\"\n",
    "                }\n",
    "            }\n",
    "        }\n",
    "}\n",
    "\n",
    "res = es.search(index='mozila_reviews', query=query)\n",
    "result = res['hits']['hits']\n",
    "    \n",
    "for searched_records in result:\n",
    "    print(searched_records['_score'] ,\"\\t\", searched_records['_source'])"
   ]
  },
  {
   "cell_type": "markdown",
   "metadata": {},
   "source": [
    "# relative Search using fuzzy"
   ]
  },
  {
   "cell_type": "code",
   "execution_count": 10,
   "metadata": {},
   "outputs": [
    {
     "name": "stdout",
     "output_type": "stream",
     "text": [
      "{'product_id': 'O3', 'product_type': 'Wooden Chair', 'product_line': 'Office-use', 'rating': 3, 'review': 'Not suitable for daily use'}\n",
      "{'product_id': 'O12', 'product_type': 'wooden-chair', 'product_line': 'Office-use', 'rating': 2, 'review': 'Material used Carbon steel, aluminium, and stainless steel. Green Colour.'}\n",
      "{'product_id': 'O15', 'product_type': 'best-chair', 'product_line': 'Office-use', 'rating': 3, 'review': 'Not suitable for daily use'}\n",
      "{'product_id': 'F3', 'product_type': 'Dining Chair', 'product_line': 'Furniture', 'rating': 4, 'review': 'Good quality but overpriced'}\n",
      "{'product_id': 'O6', 'product_type': 'Best Chair WFH', 'product_line': 'Office-use', 'rating': 2, 'review': 'Material used Carbon steel, aluminium, and stainless steel. Green Colour.'}\n"
     ]
    }
   ],
   "source": [
    "# Find approximate records where product type is given wrong\n",
    "\n",
    "res = es.search(index='mozila_reviews', query={\"fuzzy\": {\"product_type\": { \"value\": \"chaer\", \"fuzziness\": 1}}})\n",
    "result = res['hits']['hits']\n",
    "\n",
    "for searched_records in result:\n",
    "    print(searched_records['_source'])"
   ]
  },
  {
   "cell_type": "code",
   "execution_count": 11,
   "metadata": {},
   "outputs": [
    {
     "name": "stdout",
     "output_type": "stream",
     "text": [
      "{'product_id': 'O13', 'product_type': 'table', 'product_line': 'Office-use', 'rating': 5, 'review': 'This is a good Product. Material used Carbon steel, aluminium, and stainless steel'}\n",
      "{'product_id': 'O1', 'product_type': 'Small Table', 'product_line': 'Office-use', 'rating': 5, 'review': 'This is a good Product. Material used Carbon steel, aluminium, and stainless steel'}\n",
      "{'product_id': 'O4', 'product_type': 'Table Small', 'product_line': 'Office-use', 'rating': 4, 'review': 'Material used Carbon steel, aluminium, and stainless steel'}\n",
      "{'product_id': 'O7', 'product_type': 'WFH Table', 'product_line': 'Office-use', 'rating': 5, 'review': 'This is a good Product. Material used Carbon steel, aluminium, and stainless steel'}\n",
      "{'product_id': 'O8', 'product_type': 'School Table', 'product_line': 'Office-use', 'rating': 5, 'review': 'Good for using at School'}\n",
      "{'product_id': 'O10', 'product_type': 'small-table', 'product_line': 'Office-use', 'rating': 4, 'review': 'Material used Carbon steel, aluminium, and stainless steel'}\n",
      "{'product_id': 'O16', 'product_type': 'wfh-table', 'product_line': 'Office-use', 'rating': 4, 'review': 'Material used Carbon steel, aluminium, and stainless steel'}\n",
      "{'product_id': 'O17', 'product_type': 'school-table', 'product_line': 'Office-use', 'rating': 3, 'review': 'Material used Carbon steel. Colour Grey.'}\n",
      "{'product_id': 'F2', 'product_type': 'Wooden Table', 'product_line': 'Furniture', 'rating': 2, 'review': 'Not recommanded'}\n",
      "{'product_id': 'F1', 'product_type': 'All Purpose Table', 'product_line': 'Furniture', 'rating': 4, 'review': 'Useful product for home'}\n"
     ]
    }
   ],
   "source": [
    "res = es.search(index='mozila_reviews', query={\"fuzzy\": {\"product_type\": { \"value\": \"tablue\", \"fuzziness\": 2}}})\n",
    "result = res['hits']['hits']\n",
    "\n",
    "for searched_records in result:\n",
    "    print(searched_records['_source'])"
   ]
  },
  {
   "cell_type": "code",
   "execution_count": null,
   "metadata": {},
   "outputs": [],
   "source": []
  }
 ],
 "metadata": {
  "kernelspec": {
   "display_name": "mozilla-py3",
   "language": "python",
   "name": "mozillapy3"
  },
  "language_info": {
   "codemirror_mode": {
    "name": "ipython",
    "version": 3
   },
   "file_extension": ".py",
   "mimetype": "text/x-python",
   "name": "python",
   "nbconvert_exporter": "python",
   "pygments_lexer": "ipython3",
   "version": "3.8.11"
  }
 },
 "nbformat": 4,
 "nbformat_minor": 4
}
