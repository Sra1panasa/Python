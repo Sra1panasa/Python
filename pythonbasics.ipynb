{
  "nbformat": 4,
  "nbformat_minor": 0,
  "metadata": {
    "colab": {
      "name": "Untitled0.ipynb",
      "provenance": [],
      "include_colab_link": true
    },
    "kernelspec": {
      "name": "python3",
      "display_name": "Python 3"
    },
    "language_info": {
      "name": "python"
    },
    "accelerator": "GPU"
  },
  "cells": [
    {
      "cell_type": "markdown",
      "metadata": {
        "id": "view-in-github",
        "colab_type": "text"
      },
      "source": [
        "<a href=\"https://colab.research.google.com/github/Sra1panasa/Python/blob/main/pythonbasics.ipynb\" target=\"_parent\"><img src=\"https://colab.research.google.com/assets/colab-badge.svg\" alt=\"Open In Colab\"/></a>"
      ]
    },
    {
      "cell_type": "markdown",
      "metadata": {
        "id": "GD6IJASyvkjX"
      },
      "source": [
        "**Python Basics:**\n",
        "\n",
        "1)What is the difference between a .py file and .ipynb file?\n",
        "\n",
        "*   .py is a regular python file. It's plain text and contains just your code.\n",
        "*   .ipynb is a python notebook and it contains the notebook code, the execution results and other internal settings in a specific format. \n",
        "Note: You can run .ipynb on the jupyter environment only that is in either jypter notebood or in google colab.\n",
        "Note: will not be able to view .ipynb file in pycharm to view in pycharm we have to install jupter package and open in jupyter environment mode.\n",
        "\n",
        "2) what is .pyc python file ?\n",
        "\n",
        "* The.pyc contain the compiled bytecode of Python source files.\n",
        "This code is then executed by Python's virtual machine. There's no harm in deleting them (.pyc), but they will save compilation time if you're doing lots of processing.\n",
        "\n",
        "* pyc files are created by the Python interpreter when a . py file is imported. They contain the \"compiled bytecode\" of the imported module/program so that the \"translation\" from source code to bytecode (which only needs to be done once) can be skipped on subsequent imports if the . \n",
        "pyc is newer than the corresponding .\n",
        "\n",
        "3)What is the difference between .py and .PYC files?\n",
        "* py files contain the source code of a program. Whereas, pyc file contains the bytecode of your program. ... Before executing a python program python interpreter checks for the compiled files\n",
        "\n",
        "\n",
        "\n",
        "\n",
        "\n",
        "\n"
      ]
    },
    {
      "cell_type": "markdown",
      "metadata": {
        "id": "EudsZLT5WN_y"
      },
      "source": [
        "**Variables, Numbers, and Strings**\n",
        "\n",
        "Quick Notes:\n",
        "\n",
        "* A Variable is a location in memory where we store the data.\n",
        "\n",
        "* A variable can be integer, float, or a string.\n",
        "\n",
        "* We can use type(variable_name) to find the type of given variable_name.\n",
        "\n",
        "* In Python, we use # to add comments. Comments do not change anything and are not compiled.\n",
        "\n",
        "* We also use = to assign a value to the name of variable. Example: var_name = 1. Be ware that it's different to comparison operator of equal to (==).\n",
        "\n",
        "* We can use print() to display the value of variable or the results of any expression.\n",
        "\n",
        "* Each line of the code start on the new line.\n"
      ]
    },
    {
      "cell_type": "code",
      "metadata": {
        "id": "tyQEe-zdwks7"
      },
      "source": [
        "#### EXAMPLE OF CREATING A VARIABLE ####\n",
        "\n",
        "# You use # to add comment, it won’t run or affect the code\n",
        "# You use = to assign a value to the name of the variable. \n",
        "# Each code starts on the new line. No semicolon or {}\n",
        "\n",
        "var_name = 1\n",
        "str_var2 = 'Hundred'"
      ],
      "execution_count": 1,
      "outputs": []
    },
    {
      "cell_type": "markdown",
      "metadata": {
        "id": "BWqySX7TXREC"
      },
      "source": [
        "**Numbers:**\n",
        "\n",
        "* Numbers in Python can either be integers int or floats float. Integer numbers are all numbers without any decimal. Take an example: 1,2,3,4 are integers. But 4.6, 6.0, 7.7 are floats."
      ]
    },
    {
      "cell_type": "code",
      "metadata": {
        "id": "4rzRN6A7XhJt",
        "outputId": "e953ab4a-2588-4ea1-a88c-3b5b6db669d3",
        "colab": {
          "base_uri": "https://localhost:8080/"
        }
      },
      "source": [
        "int_var = 10\n",
        "float_var = 12.8\n",
        "\n",
        "type(int_var)"
      ],
      "execution_count": 2,
      "outputs": [
        {
          "output_type": "execute_result",
          "data": {
            "text/plain": [
              "int"
            ]
          },
          "metadata": {},
          "execution_count": 2
        }
      ]
    }
  ]
}