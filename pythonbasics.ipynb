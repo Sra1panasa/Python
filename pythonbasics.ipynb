{
  "nbformat": 4,
  "nbformat_minor": 0,
  "metadata": {
    "colab": {
      "name": "Untitled0.ipynb",
      "provenance": [],
      "authorship_tag": "ABX9TyNgPpXiUWAi+I/c8wsckYMX",
      "include_colab_link": true
    },
    "kernelspec": {
      "name": "python3",
      "display_name": "Python 3"
    },
    "language_info": {
      "name": "python"
    },
    "accelerator": "GPU"
  },
  "cells": [
    {
      "cell_type": "markdown",
      "metadata": {
        "id": "view-in-github",
        "colab_type": "text"
      },
      "source": [
        "<a href=\"https://colab.research.google.com/github/Sra1panasa/Python/blob/main/pythonbasics.ipynb\" target=\"_parent\"><img src=\"https://colab.research.google.com/assets/colab-badge.svg\" alt=\"Open In Colab\"/></a>"
      ]
    },
    {
      "cell_type": "markdown",
      "metadata": {
        "id": "GD6IJASyvkjX"
      },
      "source": [
        "**Python Basics:**\n",
        "\n",
        "1)What is the difference between a .py file and .ipynb file?\n",
        "\n",
        "*   .py is a regular python file. It's plain text and contains just your code.\n",
        "*   .ipynb is a python notebook and it contains the notebook code, the execution results and other internal settings in a specific format. \n",
        "Note: You can run .ipynb on the jupyter environment only that is in either jypter notebood or in google colab.\n",
        "Note: will not be able to view .ipynb file in pycharm to view in pycharm we have to install jupter package and open in jupyter environment mode.\n",
        "\n",
        "2) what is .pyc python file ?\n",
        "\n",
        "* The.pyc contain the compiled bytecode of Python source files.\n",
        "This code is then executed by Python's virtual machine. There's no harm in deleting them (.pyc), but they will save compilation time if you're doing lots of processing.\n",
        "\n",
        "* pyc files are created by the Python interpreter when a . py file is imported. They contain the \"compiled bytecode\" of the imported module/program so that the \"translation\" from source code to bytecode (which only needs to be done once) can be skipped on subsequent imports if the . \n",
        "pyc is newer than the corresponding .\n",
        "\n",
        "3)What is the difference between .py and .PYC files?\n",
        "* py files contain the source code of a program. Whereas, pyc file contains the bytecode of your program. ... Before executing a python program python interpreter checks for the compiled files\n",
        "\n",
        "\n",
        "\n",
        "\n",
        "\n",
        "\n"
      ]
    },
    {
      "cell_type": "code",
      "metadata": {
        "id": "tyQEe-zdwks7"
      },
      "source": [
        ""
      ],
      "execution_count": null,
      "outputs": []
    }
  ]
}