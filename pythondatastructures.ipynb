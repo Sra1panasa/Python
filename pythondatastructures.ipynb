{
  "nbformat": 4,
  "nbformat_minor": 0,
  "metadata": {
    "colab": {
      "name": "Untitled4.ipynb",
      "provenance": [],
      "authorship_tag": "ABX9TyO1eVHv2AlGUvrcX7PJD4fW",
      "include_colab_link": true
    },
    "kernelspec": {
      "name": "python3",
      "display_name": "Python 3"
    },
    "language_info": {
      "name": "python"
    }
  },
  "cells": [
    {
      "cell_type": "markdown",
      "metadata": {
        "id": "view-in-github",
        "colab_type": "text"
      },
      "source": [
        "<a href=\"https://colab.research.google.com/github/Sra1panasa/Python/blob/main/pythondatastructures.ipynb\" target=\"_parent\"><img src=\"https://colab.research.google.com/assets/colab-badge.svg\" alt=\"Open In Colab\"/></a>"
      ]
    },
    {
      "cell_type": "markdown",
      "metadata": {
        "id": "ayqebQH0Yqz4"
      },
      "source": [
        "**Python Data Structures**\n",
        "\n",
        "Data Structures are used to organize the data.\n",
        "\n",
        "Python data structures: Lists, Dictionaries, Tuples and Sets.\n",
        "\n",
        "**Lists:**\n",
        "* A list in Python is used to store the sequence of various types of data. Python lists are mutable type its mean we can modify its element after it created. However, Python consists of six data-types that are capable to store the sequences, but the most common and reliable type is the list.\n",
        "A list can be defined as a collection of values or items of different types.\n",
        "* The items in the list are separated with the comma (,) and enclosed with the square brackets []. Unlike Sets, a list doesn’t need a built-in **function** for the creation of a list.\n",
        "* The list has the following characteristics:\n",
        "\n",
        " * The lists are ordered.\n",
        " * The element of the list can access by index.\n",
        " * The lists are the mutable type.\n",
        " * A list can store the number of various elements.\n",
        " * The list() constructor can be used to create a new list.\n",
        " * A list of subsequent integers can be created by using the range() function inside the list() constructor.\n",
        "\n",
        "* How list is ordered.\n",
        " \n"
      ]
    },
    {
      "cell_type": "code",
      "metadata": {
        "colab": {
          "base_uri": "https://localhost:8080/"
        },
        "id": "9DJvL4Iq5txD",
        "outputId": "89d409d1-e9c3-4a8b-f9fe-82b918f6ba08"
      },
      "source": [
        "a = [1,2,\"Peter\",4.50,\"Ricky\",5,6]  \n",
        "b = [1,2,5,\"Peter\",4.50,\"Ricky\",6]  \n",
        "a ==b  "
      ],
      "execution_count": 1,
      "outputs": [
        {
          "output_type": "execute_result",
          "data": {
            "text/plain": [
              "False"
            ]
          },
          "metadata": {},
          "execution_count": 1
        }
      ]
    },
    {
      "cell_type": "markdown",
      "metadata": {
        "id": "cghQSblj58Ei"
      },
      "source": [
        "* Both lists have consisted of the same elements, but the second list changed the index position of the 5th element that violates the order of lists. When compare both lists it returns the false.\n",
        "\n",
        "   **Lists maintain the order of the element for the lifetime. That's why it is the ordered collection of objects**\n",
        "\n"
      ]
    },
    {
      "cell_type": "code",
      "metadata": {
        "colab": {
          "base_uri": "https://localhost:8080/"
        },
        "id": "FPHgf6BK5b5N",
        "outputId": "207086d7-d888-40ac-8c91-baf4e46f4309"
      },
      "source": [
        "a = [1, 2,\"Peter\", 4.50,\"Ricky\",5, 6]  \n",
        "b = [1, 2,\"Peter\", 4.50,\"Ricky\",5, 6]  \n",
        "a == b  "
      ],
      "execution_count": 2,
      "outputs": [
        {
          "output_type": "execute_result",
          "data": {
            "text/plain": [
              "True"
            ]
          },
          "metadata": {},
          "execution_count": 2
        }
      ]
    },
    {
      "cell_type": "code",
      "metadata": {
        "colab": {
          "base_uri": "https://localhost:8080/"
        },
        "id": "VEaVPuhbJwKO",
        "outputId": "ba5afd60-0304-4e3a-e054-29c762e68fde"
      },
      "source": [
        "# list of integers\n",
        "my_list = [1, 2, 3]\n",
        "\n",
        "# list with mixed data types\n",
        "my_list = [1, \"Hello\", 3.4]\n",
        "\n",
        "#A list can also have another list as an item. This is called a nested list.\n",
        "# nested list\n",
        "my_list = [\"mouse\", [8, 4, 6], ['a']]\n",
        "print(my_list[1])\n",
        "# # Nested indexing - accessing nested list elements\n",
        "print(my_list[1][1])\n",
        "# We can access a range of items in a list by using the slicing operator : same like string\n",
        "week_days = ['Mon', 'Tue', 'Wed', 'Thur','Fri']\n",
        "print(week_days[0:2]) # note : 2 nd index element will not be picked up.\n",
        "## list also supports nagative indexing like string \n",
        "print(week_days[-1])"
      ],
      "execution_count": 2,
      "outputs": [
        {
          "output_type": "stream",
          "name": "stdout",
          "text": [
            "[8, 4, 6]\n",
            "4\n",
            "['Mon', 'Tue']\n",
            "Fri\n"
          ]
        }
      ]
    },
    {
      "cell_type": "markdown",
      "metadata": {
        "id": "HbaPuPPUNada"
      },
      "source": [
        "* Since lists are mutable we can change the list.i.e list object data can be changed.in case of string we can't make changes in the string object data.\n",
        "\n",
        "\n"
      ]
    },
    {
      "cell_type": "code",
      "metadata": {
        "colab": {
          "base_uri": "https://localhost:8080/"
        },
        "id": "VMDYG6mdN2zY",
        "outputId": "495484f3-73c6-4da5-87f3-cf2deca9d717"
      },
      "source": [
        "# list mutable proof:\n",
        "#Updating the value of the list\n",
        "even_numbers = [2,4,6,8,10]\n",
        "\n",
        "# Change the value at index or position 3 (position starts at 0) to 12\n",
        "even_numbers[3] = 12\n",
        "even_numbers\n"
      ],
      "execution_count": 6,
      "outputs": [
        {
          "output_type": "execute_result",
          "data": {
            "text/plain": [
              "[2, 4, 6, 12, 10]"
            ]
          },
          "metadata": {},
          "execution_count": 6
        }
      ]
    },
    {
      "cell_type": "markdown",
      "metadata": {
        "id": "kuLtPaIr_lhk"
      },
      "source": [
        "**List Methods**\n",
        "\n",
        "* append() -\tadds an element to the end of the list\n",
        "* extend()-\tadds all elements of a list to another list\n",
        "* insert()-\tinserts an item at the defined index\n",
        "* remove() -\tremoves an item from the list\n",
        "* pop() -\treturns and removes an element at the given index\n",
        "* clear()-\tremoves all items from the list\n",
        "* index() -\treturns the index of the first matched item\n",
        "* count() -\treturns the count of the number of items passed as an argument\n",
        "* sort() -\tsort items in a list in ascending order\n",
        "* reverse()-\treverse the order of items in the list\n",
        "* copy() -\treturns a shallow copy of the list\n",
        "* len() - returns length of the list.\n",
        "* max(list)-\tIt returns the maximum element of the list.\t\n",
        "* min(list)\t- It returns the minimum element of the list.\n",
        "* list(seq)\t-It converts any sequence to the list.\n",
        "* cmp(list1, list2): It compares elements of both lists list1 and list2 - for python 3 and above version this will not work.\n",
        "\n",
        "[examples of above funs: ](https://blog.devgenius.io/python-list-operations-56bf7f93e39c)\n",
        "\n",
        "\n"
      ]
    }
  ]
}