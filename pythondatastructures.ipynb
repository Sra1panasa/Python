{
  "nbformat": 4,
  "nbformat_minor": 0,
  "metadata": {
    "colab": {
      "name": "Untitled4.ipynb",
      "provenance": [],
      "authorship_tag": "ABX9TyOgzFLVhY5CqQ/2tqLcbbwx",
      "include_colab_link": true
    },
    "kernelspec": {
      "name": "python3",
      "display_name": "Python 3"
    },
    "language_info": {
      "name": "python"
    }
  },
  "cells": [
    {
      "cell_type": "markdown",
      "metadata": {
        "id": "view-in-github",
        "colab_type": "text"
      },
      "source": [
        "<a href=\"https://colab.research.google.com/github/Sra1panasa/Python/blob/main/pythondatastructures.ipynb\" target=\"_parent\"><img src=\"https://colab.research.google.com/assets/colab-badge.svg\" alt=\"Open In Colab\"/></a>"
      ]
    },
    {
      "cell_type": "markdown",
      "metadata": {
        "id": "ayqebQH0Yqz4"
      },
      "source": [
        "**Python Data Structures**\n",
        "\n",
        "Data Structures are used to organize the data.\n",
        "\n",
        "Python data structures: Lists, Dictionaries, Tuples and Sets.\n",
        "\n",
        "**Lists:**\n",
        "* A list in Python is used to store the sequence of various types of data. Python lists are mutable type its mean we can modify its element after it created. However, Python consists of six data-types that are capable to store the sequences, but the most common and reliable type is the list.\n",
        "A list can be defined as a collection of values or items of different types.\n",
        "* The items in the list are separated with the comma (,) and enclosed with the square brackets []. Unlike Sets, a list doesn’t need a built-in **function** for the creation of a list.\n",
        "* The list has the following characteristics:\n",
        "\n",
        " * The lists are ordered.\n",
        " * The element of the list can access by index.\n",
        " * The lists are the mutable type.\n",
        " * A list can store the number of various elements.\n",
        " * The list() constructor can be used to create a new list.\n",
        " * A list of subsequent integers can be created by using the range() function inside the list() constructor.\n",
        "\n",
        "* How list is ordered.\n",
        " \n"
      ]
    },
    {
      "cell_type": "code",
      "metadata": {
        "colab": {
          "base_uri": "https://localhost:8080/"
        },
        "id": "9DJvL4Iq5txD",
        "outputId": "89d409d1-e9c3-4a8b-f9fe-82b918f6ba08"
      },
      "source": [
        "a = [1,2,\"Peter\",4.50,\"Ricky\",5,6]  \n",
        "b = [1,2,5,\"Peter\",4.50,\"Ricky\",6]  \n",
        "a ==b  "
      ],
      "execution_count": null,
      "outputs": [
        {
          "output_type": "execute_result",
          "data": {
            "text/plain": [
              "False"
            ]
          },
          "metadata": {},
          "execution_count": 1
        }
      ]
    },
    {
      "cell_type": "markdown",
      "metadata": {
        "id": "cghQSblj58Ei"
      },
      "source": [
        "* Both lists have consisted of the same elements, but the second list changed the index position of the 5th element that violates the order of lists. When compare both lists it returns the false.\n",
        "\n",
        "   **Lists maintain the order of the element for the lifetime. That's why it is the ordered collection of objects**\n",
        "\n"
      ]
    },
    {
      "cell_type": "code",
      "metadata": {
        "colab": {
          "base_uri": "https://localhost:8080/"
        },
        "id": "FPHgf6BK5b5N",
        "outputId": "207086d7-d888-40ac-8c91-baf4e46f4309"
      },
      "source": [
        "a = [1, 2,\"Peter\", 4.50,\"Ricky\",5, 6]  \n",
        "b = [1, 2,\"Peter\", 4.50,\"Ricky\",5, 6]  \n",
        "a == b  "
      ],
      "execution_count": null,
      "outputs": [
        {
          "output_type": "execute_result",
          "data": {
            "text/plain": [
              "True"
            ]
          },
          "metadata": {},
          "execution_count": 2
        }
      ]
    },
    {
      "cell_type": "code",
      "metadata": {
        "colab": {
          "base_uri": "https://localhost:8080/"
        },
        "id": "VEaVPuhbJwKO",
        "outputId": "ba5afd60-0304-4e3a-e054-29c762e68fde"
      },
      "source": [
        "# list of integers\n",
        "my_list = [1, 2, 3]\n",
        "\n",
        "# list with mixed data types\n",
        "my_list = [1, \"Hello\", 3.4]\n",
        "\n",
        "#A list can also have another list as an item. This is called a nested list.\n",
        "# nested list\n",
        "my_list = [\"mouse\", [8, 4, 6], ['a']]\n",
        "print(my_list[1])\n",
        "# # Nested indexing - accessing nested list elements\n",
        "print(my_list[1][1])\n",
        "# We can access a range of items in a list by using the slicing operator : same like string\n",
        "week_days = ['Mon', 'Tue', 'Wed', 'Thur','Fri']\n",
        "print(week_days[0:2]) # note : 2 nd index element will not be picked up.\n",
        "## list also supports nagative indexing like string \n",
        "print(week_days[-1])"
      ],
      "execution_count": null,
      "outputs": [
        {
          "output_type": "stream",
          "name": "stdout",
          "text": [
            "[8, 4, 6]\n",
            "4\n",
            "['Mon', 'Tue']\n",
            "Fri\n"
          ]
        }
      ]
    },
    {
      "cell_type": "markdown",
      "metadata": {
        "id": "HbaPuPPUNada"
      },
      "source": [
        "* Since lists are mutable we can change the list.i.e list object data can be changed.in case of string we can't make changes in the string object data.\n",
        "\n",
        "\n"
      ]
    },
    {
      "cell_type": "code",
      "metadata": {
        "colab": {
          "base_uri": "https://localhost:8080/"
        },
        "id": "VMDYG6mdN2zY",
        "outputId": "495484f3-73c6-4da5-87f3-cf2deca9d717"
      },
      "source": [
        "# list mutable proof:\n",
        "#Updating the value of the list\n",
        "even_numbers = [2,4,6,8,10]\n",
        "\n",
        "# Change the value at index or position 3 (position starts at 0) to 12\n",
        "even_numbers[3] = 12\n",
        "even_numbers\n"
      ],
      "execution_count": null,
      "outputs": [
        {
          "output_type": "execute_result",
          "data": {
            "text/plain": [
              "[2, 4, 6, 12, 10]"
            ]
          },
          "metadata": {},
          "execution_count": 6
        }
      ]
    },
    {
      "cell_type": "code",
      "metadata": {
        "id": "pTZF5pgVXAHO",
        "outputId": "9fb5414a-b518-47ac-edb1-58edb5cf4cb1",
        "colab": {
          "base_uri": "https://localhost:8080/"
        }
      },
      "source": [
        "list1=[1,2,3]\n",
        "list2=list1\n",
        "print(hex(id(list1)))\n",
        "print(hex(id(list2)))\n",
        "list2.append(4)\n",
        "print(list1)\n",
        "print(list2)\n",
        "S1=\"Data\"\n",
        "S2=S1\n",
        "print(hex(id(S1)))\n",
        "print(hex(id(S2)))\n",
        "S2 +=\"science\"\n",
        "print(hex(id(S2)))\n",
        "print(S1)\n",
        "print(S2)"
      ],
      "execution_count": 1,
      "outputs": [
        {
          "output_type": "stream",
          "name": "stdout",
          "text": [
            "0x7fc71d661eb0\n",
            "0x7fc71d661eb0\n",
            "[1, 2, 3, 4]\n",
            "[1, 2, 3, 4]\n",
            "0x7fc73fabfcf0\n",
            "0x7fc73fabfcf0\n",
            "0x7fc71d66ccb0\n",
            "Data\n",
            "Datascience\n"
          ]
        }
      ]
    },
    {
      "cell_type": "markdown",
      "metadata": {
        "id": "kuLtPaIr_lhk"
      },
      "source": [
        "**List Methods**\n",
        "\n",
        "* append() -\tadds an element to the end of the list\n",
        "* extend()-\tadds all elements of a list to another list\n",
        "* insert()-\tinserts an item at the defined index\n",
        "* remove() -\tremoves an item from the list\n",
        "* pop() -\treturns and removes an element at the given index\n",
        "* clear()-\tremoves all items from the list\n",
        "* index() -\treturns the index of the first matched item\n",
        "* count() -\treturns the count of the number of items passed as an argument\n",
        "* sort() -\tsort items in a list in ascending order\n",
        "* reverse()-\treverse the order of items in the list\n",
        "* copy() -\treturns a shallow copy of the list\n",
        "* len() - returns length of the list.\n",
        "* max(list)-\tIt returns the maximum element of the list.\t\n",
        "* min(list)\t- It returns the minimum element of the list.\n",
        "* list(seq)\t-It converts any sequence to the list.\n",
        "* cmp(list1, list2): It compares elements of both lists list1 and list2 - for python 3 and above version this will not work.\n",
        "\n",
        "[examples of above funs: ](https://blog.devgenius.io/python-list-operations-56bf7f93e39c)\n",
        "\n",
        "https://blog.devgenius.io/python-list-operations-56bf7f93e39c\n",
        "\n",
        "\n",
        "\n",
        "\n"
      ]
    },
    {
      "cell_type": "markdown",
      "metadata": {
        "id": "P6K0z32ZiyFq"
      },
      "source": [
        "**tuple:**\n",
        "* Tuple is similar to list but the difference is that you can't change the values once it is defined (termed as immutability). Due to this property it can be used to keep things that you do not want to change in your program. Example can be a country codes, zipcodes, etc...\n",
        "\n",
        "* A tuple can be written as the collection of comma-separated (,) values enclosed with the small () brackets. \n",
        "* **Tuple is a collection which is ordered and unchangeable**. \n",
        "\n",
        "* **The parentheses are optional but it is good practice to use. A tuple can be defined as follows.**\n",
        "\n"
      ]
    },
    {
      "cell_type": "code",
      "metadata": {
        "id": "KNMZ4te-qvqR"
      },
      "source": [
        "T1 = (101, \"Peter\", 22)    \n",
        "T2 = (\"Apple\", \"Banana\", \"Orange\")     \n",
        "T3 = 10,20,30,40,50   # this is also valid. parentheses are optional\n"
      ],
      "execution_count": null,
      "outputs": []
    },
    {
      "cell_type": "code",
      "metadata": {
        "id": "OZOqjj1rrMs6"
      },
      "source": [
        "# An empty tuple can be created as follows.\n",
        "T4 = ()"
      ],
      "execution_count": null,
      "outputs": []
    },
    {
      "cell_type": "markdown",
      "metadata": {
        "id": "zTaHGx1Ar7uZ"
      },
      "source": [
        " * Creating a tuple with single element is slightly different. **We will need to put comma after the element to declare the tuple.**\n",
        "\n",
        " "
      ]
    },
    {
      "cell_type": "code",
      "metadata": {
        "id": "3y7Zo0C2rnEn",
        "outputId": "0007aeec-c7a8-459e-d1fe-b79b5658c009",
        "colab": {
          "base_uri": "https://localhost:8080/"
        }
      },
      "source": [
        "tup1 = (\"JavaTpoint\")  \n",
        "print(type(tup1))  \n",
        "#Creating a tuple with single element   \n",
        "tup2 = (\"JavaTpoint\",)  # We will need to put comma after the element to declare the tuple.\n",
        "print(type(tup2))  \n",
        "tuple = (1,2,3,4,5,6,7)  \n",
        "#element 1 to end  \n",
        "print(tuple[1:])  \n",
        "#element 0 to 3 element   \n",
        "print(tuple[:4])  \n",
        "#element 1 to 4 element  \n",
        "print(tuple[1:5])   \n",
        "# element 0 to 6 and take step of 2  \n",
        "print(tuple[0:6:2])  "
      ],
      "execution_count": 3,
      "outputs": [
        {
          "output_type": "stream",
          "name": "stdout",
          "text": [
            "<class 'str'>\n",
            "<class 'tuple'>\n",
            "(2, 3, 4, 5, 6, 7)\n",
            "(1, 2, 3, 4)\n",
            "(2, 3, 4, 5)\n",
            "(1, 3, 5)\n"
          ]
        }
      ]
    },
    {
      "cell_type": "markdown",
      "metadata": {
        "id": "tTRVN-UzBw1U"
      },
      "source": [
        "**Nagative Indexing**\n",
        "\n"
      ]
    },
    {
      "cell_type": "code",
      "metadata": {
        "id": "QaJ0V2i6CRe_",
        "outputId": "bafe8458-a78f-45b8-b3f5-1cb9c4389137",
        "colab": {
          "base_uri": "https://localhost:8080/"
        }
      },
      "source": [
        "tuple1 = (1, 2, 3, 4, 5)    \n",
        "print(tuple1[-1])    \n",
        "print(tuple1[-4])    \n",
        "print(tuple1[-3:-1])  \n",
        "print(tuple1[:-1])  \n",
        "print(tuple1[-2:])  "
      ],
      "execution_count": 4,
      "outputs": [
        {
          "output_type": "stream",
          "name": "stdout",
          "text": [
            "5\n",
            "2\n",
            "(3, 4)\n",
            "(1, 2, 3, 4)\n",
            "(4, 5)\n"
          ]
        }
      ]
    },
    {
      "cell_type": "markdown",
      "metadata": {
        "id": "H6teFLhdGSVh"
      },
      "source": [
        "* Functions\n",
        "\n",
        "   1) cmp(tuple1, tuple2)-\tIt compares two tuples and returns true if tuple1 is greater than tuple2 otherwise false.\n",
        "\n",
        "   2)len(tuple) -\tIt calculates the length of the tuple.\n",
        "\n",
        "   3)max(tuple) -\tIt returns the maximum element of the tuple\n",
        "\n",
        "   4)min(tuple) - It returns the minimum element of the tuple.\n",
        "\n",
        "   5)tuple(seq) -\tIt converts the specified sequence to the tuple.\n"
      ]
    },
    {
      "cell_type": "markdown",
      "metadata": {
        "id": "ZFs13qkkGw5M"
      },
      "source": [
        "* Tuples are not changeable. Running below code will cause an error\n",
        "\n",
        "  tup[2] = 10\n",
        "* You can not also add other values to the tuple. This will be error\n",
        "  tup.append(12)\n",
        "\n",
        "* we can't delete elements from tuple."
      ]
    },
    {
      "cell_type": "markdown",
      "metadata": {
        "id": "5wzD---oFfpN"
      },
      "source": [
        "![diff.PNG](data:image/png;base64,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)"
      ]
    },
    {
      "cell_type": "markdown",
      "metadata": {
        "id": "Sw-gHKcaF-yA"
      },
      "source": [
        "**Set:**\n",
        "\n",
        "* In Python, a set is a data structure that stores **unordered items**. The set items are also unindexed. Like a list, a set allows the addition and removal of elements. However, there are a few unique characteristics that define a set and separate it from other data structures:\n",
        "\n",
        "* A set does not hold duplicate items.\n",
        "The elements of the set are immutable, that is, they cannot be changed, but the set itself is mutable, that is, it can be changed.\n",
        "* **Since set items are not indexed, sets don't support any slicing or indexing operations.**\n",
        "In this article, we will be discussing the various operations that can be performed on sets in Python.\n",
        "\n",
        "**How to Create a Set**\n",
        "\n",
        "There are two ways through which we can create sets in Python.\n",
        "\n",
        "* We can create a set by passing all the set elements inside curly braces {} and separate the elements using commas (,). \n",
        "* The creation of an empty set is some-what tricky. If you use empty curly braces {} in Python, you create an empty dictionary rather than an empty set. For example:\n",
        "\n",
        "\n",
        "\n"
      ]
    },
    {
      "cell_type": "code",
      "metadata": {
        "id": "9jFX7Z8YtaCB",
        "outputId": "d6f594d8-5e8f-4cb0-bc53-9ef805e4d4ce",
        "colab": {
          "base_uri": "https://localhost:8080/"
        }
      },
      "source": [
        "x = {}\n",
        "print(type(x))\n",
        "x = set()\n",
        "print(type(x))"
      ],
      "execution_count": 1,
      "outputs": [
        {
          "output_type": "stream",
          "name": "stdout",
          "text": [
            "<class 'dict'>\n",
            "<class 'set'>\n"
          ]
        }
      ]
    },
    {
      "cell_type": "markdown",
      "metadata": {
        "id": "ttITRWdytr1A"
      },
      "source": [
        "* **A set can hold any number of items and the items can be of different types, for example, integers, strings, tuples, etc. However, a set does not accept an element that is mutable, for example, a list, dictionary, etc**"
      ]
    },
    {
      "cell_type": "code",
      "metadata": {
        "id": "oUcCLxdTt16C",
        "outputId": "6c1a5297-dd44-4c9d-abd9-b8ae846329f0",
        "colab": {
          "base_uri": "https://localhost:8080/"
        }
      },
      "source": [
        "num_set = {1, 2, 3, 4, 5, 6}\n",
        "print(num_set)\n",
        "string_set = {\"Nicholas\", \"Michelle\", \"John\", \"Mercy\"}\n",
        "print(string_set)"
      ],
      "execution_count": 2,
      "outputs": [
        {
          "output_type": "stream",
          "name": "stdout",
          "text": [
            "{1, 2, 3, 4, 5, 6}\n",
            "{'Mercy', 'Nicholas', 'Michelle', 'John'}\n"
          ]
        }
      ]
    },
    {
      "cell_type": "markdown",
      "metadata": {
        "id": "RcIxpx2duL4u"
      },
      "source": [
        "* You must have noticed that the elements in the above output are not ordered in the same way we added them to the set. The reason for this is that set items are not ordered. If you run the same code again, it is possible that you will get an output with the elements arranged in a different order\n",
        "\n",
        "* We can also create a set with elements of different types. For example:\n"
      ]
    },
    {
      "cell_type": "code",
      "metadata": {
        "id": "Qzp4dP4quTtl",
        "outputId": "55dcb95b-2ae8-495a-8d13-d9fed5f41321",
        "colab": {
          "base_uri": "https://localhost:8080/"
        }
      },
      "source": [
        "mixed_set = {2.0, \"Nicholas\", (1, 2, 3)}\n",
        "print(mixed_set)"
      ],
      "execution_count": 3,
      "outputs": [
        {
          "output_type": "stream",
          "name": "stdout",
          "text": [
            "{2.0, 'Nicholas', (1, 2, 3)}\n"
          ]
        }
      ]
    },
    {
      "cell_type": "markdown",
      "metadata": {
        "id": "ZwDeXgFxuhIs"
      },
      "source": [
        "* We can also create a set from a list. This can be done by calling the Python's built-in set() function. For example:"
      ]
    },
    {
      "cell_type": "code",
      "metadata": {
        "id": "Bei30U1YumRA",
        "outputId": "5049f41a-928c-4b06-d027-4df035c4ab31",
        "colab": {
          "base_uri": "https://localhost:8080/"
        }
      },
      "source": [
        "num_set = set([1, 2, 3, 4, 5, 6])\n",
        "print(num_set)"
      ],
      "execution_count": 4,
      "outputs": [
        {
          "output_type": "stream",
          "name": "stdout",
          "text": [
            "{1, 2, 3, 4, 5, 6}\n"
          ]
        }
      ]
    },
    {
      "cell_type": "markdown",
      "metadata": {
        "id": "GCN5-pUdu4jq"
      },
      "source": [
        "* As stated above, sets do not hold duplicate items. Suppose our list had duplicate items.\n",
        "* **The set has removed the duplicates and returned only one of each duplicate items**. This also happens when we are creating a set from scratch. For example:"
      ]
    },
    {
      "cell_type": "code",
      "metadata": {
        "id": "6fB9gO3hvK_-",
        "outputId": "9e538724-4d3a-4fcb-fd6f-19aa9addcfe6",
        "colab": {
          "base_uri": "https://localhost:8080/"
        }
      },
      "source": [
        "num_set = set([1, 2, 3, 1, 2])\n",
        "print(num_set)\n",
        "num_set = {1, 2, 3, 1, 2}\n",
        "print(num_set)"
      ],
      "execution_count": 5,
      "outputs": [
        {
          "output_type": "stream",
          "name": "stdout",
          "text": [
            "{1, 2, 3}\n",
            "{1, 2, 3}\n"
          ]
        }
      ]
    },
    {
      "cell_type": "markdown",
      "metadata": {
        "id": "TU_uWaWHveOU"
      },
      "source": [
        "**Accessing Set Items:**\n",
        "* **Python does not provide us with a way of accessing an individual set item. However, we can use a for loop to iterate through all the items of a set.since it is not ordered.**\n",
        "\n"
      ]
    },
    {
      "cell_type": "code",
      "metadata": {
        "id": "UHNFh3givxm8",
        "outputId": "78940f81-64d0-464c-9e31-bcf7c8984504",
        "colab": {
          "base_uri": "https://localhost:8080/"
        }
      },
      "source": [
        "months = set([\"Jan\", \"Feb\", \"March\", \"Apr\", \"May\", \"June\", \"July\", \"Aug\", \"Sep\", \"Oct\", \"Nov\", \"Dec\"])\n",
        "\n",
        "for m in months:\n",
        "    print(m)"
      ],
      "execution_count": 6,
      "outputs": [
        {
          "output_type": "stream",
          "name": "stdout",
          "text": [
            "May\n",
            "Oct\n",
            "Apr\n",
            "March\n",
            "Nov\n",
            "July\n",
            "Feb\n",
            "Dec\n",
            "June\n",
            "Jan\n",
            "Aug\n",
            "Sep\n"
          ]
        }
      ]
    },
    {
      "cell_type": "markdown",
      "metadata": {
        "id": "VdVW1bEywGDx"
      },
      "source": [
        "**Python functions:**\n",
        "\n",
        "1)add()- allows us to add new items to a set via the add() function.\n",
        "* The item \"Feb\" has been successfully added to the set. If it was a set of numbers, we would not have passed the new element within quotes as we had to do for a string. For example:"
      ]
    },
    {
      "cell_type": "code",
      "metadata": {
        "id": "JSYY1mqUwNdx",
        "outputId": "f4786eb3-83f4-4fb5-fbac-47e3adff8d1e",
        "colab": {
          "base_uri": "https://localhost:8080/"
        }
      },
      "source": [
        "months = set([\"Jan\", \"March\", \"Apr\", \"May\", \"June\", \"July\", \"Aug\", \"Sep\", \"Oct\", \"Nov\", \"Dec\"])\n",
        "\n",
        "months.add(\"Feb\")\n",
        "print(months)\n",
        "num_set = {1, 2, 3}\n",
        "num_set.add(4)\n",
        "print(num_set)"
      ],
      "execution_count": 7,
      "outputs": [
        {
          "output_type": "stream",
          "name": "stdout",
          "text": [
            "{'May', 'Oct', 'Apr', 'March', 'Nov', 'July', 'Feb', 'Dec', 'June', 'Jan', 'Aug', 'Sep'}\n",
            "{1, 2, 3, 4}\n"
          ]
        }
      ]
    },
    {
      "cell_type": "markdown",
      "metadata": {
        "id": "S5E1I_lpyBun"
      },
      "source": [
        "**2) Removing Items from a Set**\n",
        "\n",
        "* Python allows us to remove an item from a set, but not using an index as set elements are not indexed. The items can be removed using either the discard() or remove() methods.\n",
        "\n",
        "* Keep in mind that the discard() method will not raise an error if the item is not found in the set. However, if the remove() method is used and the item is not found, an error will be raised.\n",
        "\n",
        "  Let us demonstrate how to remove an element using the discard() method:\n",
        "\n"
      ]
    },
    {
      "cell_type": "code",
      "metadata": {
        "id": "A1yEk7oIyXK-",
        "outputId": "c5f59cae-aa48-4004-df1e-eac67e0edfaa",
        "colab": {
          "base_uri": "https://localhost:8080/"
        }
      },
      "source": [
        "num_set = {1, 2, 3, 4, 5, 6}\n",
        "num_set.discard(3)\n",
        "print(num_set)\n",
        "\n",
        "num_set = {1, 2, 3, 4, 5, 6}\n",
        "num_set.remove(3)\n",
        "print(num_set)"
      ],
      "execution_count": 9,
      "outputs": [
        {
          "output_type": "stream",
          "name": "stdout",
          "text": [
            "{1, 2, 4, 5, 6}\n",
            "{1, 2, 4, 5, 6}\n"
          ]
        }
      ]
    },
    {
      "cell_type": "markdown",
      "metadata": {
        "id": "Ip--LDHGyoTJ"
      },
      "source": [
        "* 3) With the pop() method, we can remove and return an element. Since the elements are unordered, we cannot tell or predict the item that will be removed. For example"
      ]
    },
    {
      "cell_type": "code",
      "metadata": {
        "id": "Pa32eR98y1fp",
        "outputId": "b6954d62-4fd7-4fdb-9e6e-281133649dfc",
        "colab": {
          "base_uri": "https://localhost:8080/"
        }
      },
      "source": [
        "num_set = {1, 2, 3, 4, 5, 6}\n",
        "num_set.pop()\n",
        "print(num_set)"
      ],
      "execution_count": 10,
      "outputs": [
        {
          "output_type": "stream",
          "name": "stdout",
          "text": [
            "{2, 3, 4, 5, 6}\n"
          ]
        }
      ]
    },
    {
      "cell_type": "markdown",
      "metadata": {
        "id": "AhOOj-nXzBHQ"
      },
      "source": [
        "* The Python's clear() method helps us remove all elements from a set. For example:"
      ]
    },
    {
      "cell_type": "code",
      "metadata": {
        "id": "EuXBXF_zzNSs",
        "outputId": "be38fba8-1667-4644-d576-31e535f07786",
        "colab": {
          "base_uri": "https://localhost:8080/"
        }
      },
      "source": [
        "num_set = {1, 2, 3, 4, 5, 6}\n",
        "num_set.clear()\n",
        "print(num_set)"
      ],
      "execution_count": 11,
      "outputs": [
        {
          "output_type": "stream",
          "name": "stdout",
          "text": [
            "set()\n"
          ]
        }
      ]
    },
    {
      "cell_type": "markdown",
      "metadata": {
        "id": "0j1p35lDzTLW"
      },
      "source": [
        "[For More set functions and for detailed explanation visit this link](https://stackabuse.com/sets-in-python/)"
      ]
    },
    {
      "cell_type": "markdown",
      "metadata": {
        "id": "Fh1gEAyHzjTK"
      },
      "source": [
        "**Dictionary**\n",
        "\n",
        "* Python comes with a variety of built-in data structures, capable of storing different types of data. A Python dictionary is one such data structure that can store data in the form of key-value pairs. The values in a Python dictionary can be accessed using the keys. In this article, we will be discussing the Python dictionary in detail.\n",
        "\n",
        "**Creating a Dictionary**\n",
        "\n",
        "* To create a Python dictionary, we need to pass a sequence of items inside curly braces {}, and separate them using a comma (,). Each item has a key and a value expressed as a \"key:value\" pair.\n",
        "\n",
        "* While the values can be of any data type and can repeat, keys must be of immutable type (string, number or tuple with immutable elements) and must be unique\n"
      ]
    },
    {
      "cell_type": "code",
      "metadata": {
        "id": "-ENSxpB54FlQ",
        "outputId": "d9caad06-e7cd-45e7-cf94-236ccc838648",
        "colab": {
          "base_uri": "https://localhost:8080/"
        }
      },
      "source": [
        "#Creating an empty dictionary:\n",
        "\n",
        "dict_sample = {}\n",
        "#Creating a dictionary with integer keys:\n",
        "dict_sample1 = {1: 'mango', 2: 'pawpaw'}\n",
        "\n",
        "#Creating a dictionary with mixed keys:\n",
        "dict_sample2 = {'fruit': 'mango', 1: [4, 6, 8]}\n",
        "\n",
        "#We can also create a dictionary by explicitly calling the Python's dict() method:\n",
        "\n",
        "dict_sample3 = dict({1:'mango', 2:'pawpaw'})\n",
        "\n",
        "#A dictionary can also be created from a sequence as shown below:\n",
        "dic4 = dict([(1,'mango'), (2,'pawpaw')])\n",
        "print(dic4)"
      ],
      "execution_count": 12,
      "outputs": [
        {
          "output_type": "stream",
          "name": "stdout",
          "text": [
            "{1: 'mango', 2: 'pawpaw'}\n"
          ]
        }
      ]
    },
    {
      "cell_type": "markdown",
      "metadata": {
        "id": "u6pcfCYe4jX-"
      },
      "source": [
        "* Dictionaries can also be nested, which means that we can create a dictionary inside another dictionary. \n",
        "\n"
      ]
    },
    {
      "cell_type": "code",
      "metadata": {
        "id": "FymgNMG14wmP",
        "outputId": "5339ae9e-dc39-4ba5-a7bf-e75049a9b853",
        "colab": {
          "base_uri": "https://localhost:8080/"
        }
      },
      "source": [
        "dict5 = {1: {'student1' : 'Nicholas', 'student2' : 'John', 'student3' : 'Mercy'},\n",
        "        2: {'course1' : 'Computer Science', 'course2' : 'Mathematics', 'course3' : 'Accounting'}}\n",
        "\n",
        "print(dict5)"
      ],
      "execution_count": 15,
      "outputs": [
        {
          "output_type": "stream",
          "name": "stdout",
          "text": [
            "{1: {'student1': 'Nicholas', 'student2': 'John', 'student3': 'Mercy'}, 2: {'course1': 'Computer Science', 'course2': 'Mathematics', 'course3': 'Accounting'}}\n"
          ]
        }
      ]
    },
    {
      "cell_type": "markdown",
      "metadata": {
        "id": "Owh4Wm3d5DHB"
      },
      "source": [
        "* To print the dictionary contents, we can use the Python's print() function and pass the dictionary name as the argument to the function. For example:"
      ]
    },
    {
      "cell_type": "code",
      "metadata": {
        "id": "A_dkteO_5E7Z",
        "outputId": "86fb7e62-4f54-4e19-d6b5-cb30b164bd78",
        "colab": {
          "base_uri": "https://localhost:8080/"
        }
      },
      "source": [
        "dict_sample = {\n",
        "  \"Company\": \"Toyota\",\n",
        "  \"model\": \"Premio\",\n",
        "  \"year\": 2012\n",
        "}\n",
        "print(dict_sample)"
      ],
      "execution_count": 16,
      "outputs": [
        {
          "output_type": "stream",
          "name": "stdout",
          "text": [
            "{'Company': 'Toyota', 'model': 'Premio', 'year': 2012}\n"
          ]
        }
      ]
    },
    {
      "cell_type": "markdown",
      "metadata": {
        "id": "-SZ6h0xA5NLe"
      },
      "source": [
        "**1)Accessing Elements:**\n",
        "* To access dictionary items, pass the key inside square brackets []. For example:\n"
      ]
    },
    {
      "cell_type": "code",
      "metadata": {
        "id": "g5mNmLb65YV8",
        "outputId": "eda12baa-5d5d-4e41-e1eb-27ee9a104fdf",
        "colab": {
          "base_uri": "https://localhost:8080/"
        }
      },
      "source": [
        "dict_sample = {\n",
        "  \"Company\": \"Toyota\",\n",
        "  \"model\": \"Premio\",\n",
        "  \"year\": 2012\n",
        "}\n",
        "x = dict_sample[\"model\"]\n",
        "print(x)\n",
        "\n",
        "dict = {'Name': 'Mercy', 'Age': 23, 'Course': 'Accounting'}\n",
        "print(\"Student Name:\", dict['Name'])\n",
        "print(\"Course:\", dict['Course'])\n",
        "print(\"Age:\", dict['Age'])"
      ],
      "execution_count": 18,
      "outputs": [
        {
          "output_type": "stream",
          "name": "stdout",
          "text": [
            "Premio\n",
            "Student Name: Mercy\n",
            "Course: Accounting\n",
            "Age: 23\n"
          ]
        }
      ]
    },
    {
      "cell_type": "markdown",
      "metadata": {
        "id": "K-EPOf4H5sEG"
      },
      "source": [
        "* The dictionary object also provides the get() function, which can be used to access dictionary elements as well. We append the function with the dictionary name using the dot operator and then pass the name of the key as the argument to the function. For example:"
      ]
    },
    {
      "cell_type": "code",
      "metadata": {
        "id": "jaT1Vols5wRZ",
        "outputId": "dd091d62-d4a7-4e4e-f5c4-81eebe630a14",
        "colab": {
          "base_uri": "https://localhost:8080/"
        }
      },
      "source": [
        "dict_sample = {\n",
        "  \"Company\": \"Toyota\",\n",
        "  \"model\": \"Premio\",\n",
        "  \"year\": 2012\n",
        "}\n",
        "x = dict_sample.get(\"model\")\n",
        "print(x)"
      ],
      "execution_count": 19,
      "outputs": [
        {
          "output_type": "stream",
          "name": "stdout",
          "text": [
            "Premio\n"
          ]
        }
      ]
    },
    {
      "cell_type": "markdown",
      "metadata": {
        "id": "zK0L1Bd350BQ"
      },
      "source": [
        "**2) Adding Elements**\n",
        "\n",
        "* There are numerous ways to add new elements to a dictionary. We can use a new index key and assign a value to it. For example:"
      ]
    },
    {
      "cell_type": "code",
      "metadata": {
        "id": "ZXgeIn7E6NTw",
        "outputId": "c0f0c82c-09de-45bb-e6f9-bb41e5a3c213",
        "colab": {
          "base_uri": "https://localhost:8080/"
        }
      },
      "source": [
        "dict_sample = {\n",
        "  \"Company\": \"Toyota\",\n",
        "  \"model\": \"Premio\",\n",
        "  \"year\": 2012\n",
        "}\n",
        "dict_sample[\"Capacity\"] = \"1800CC\"\n",
        "print(dict_sample)"
      ],
      "execution_count": 20,
      "outputs": [
        {
          "output_type": "stream",
          "name": "stdout",
          "text": [
            "{'Company': 'Toyota', 'model': 'Premio', 'year': 2012, 'Capacity': '1800CC'}\n"
          ]
        }
      ]
    },
    {
      "cell_type": "markdown",
      "metadata": {
        "id": "DEKMGKEi6YyH"
      },
      "source": [
        "* Here is another example. First let's first create an empty dictionary:"
      ]
    },
    {
      "cell_type": "code",
      "metadata": {
        "id": "6cKU-yfJ6ayK",
        "outputId": "1e636ab8-acd3-4708-d51b-a843eed99e22",
        "colab": {
          "base_uri": "https://localhost:8080/"
        }
      },
      "source": [
        "MyDictionary = {}\n",
        "MyDictionary[0] = 'Apples'\n",
        "MyDictionary[2] = 'Mangoes'\n",
        "MyDictionary[3] = 20\n",
        "print(\"\\n3 elements have been added: \")\n",
        "print(MyDictionary)"
      ],
      "execution_count": 25,
      "outputs": [
        {
          "output_type": "stream",
          "name": "stdout",
          "text": [
            "\n",
            "3 elements have been added: \n",
            "{0: 'Apples', 2: 'Mangoes', 3: 20}\n"
          ]
        }
      ]
    },
    {
      "cell_type": "markdown",
      "metadata": {
        "id": "X5TMpZb07C54"
      },
      "source": [
        "***It is even possible for us to add a set of values to one key. For example: in real time this will be used alot*** ❤"
      ]
    },
    {
      "cell_type": "code",
      "metadata": {
        "id": "oPxllr4h7EEA",
        "outputId": "3402f5f2-fc3b-4e76-ffb4-93aeec6da867",
        "colab": {
          "base_uri": "https://localhost:8080/"
        }
      },
      "source": [
        "MyDictionary[4] = 1, \"Pairs\", 4\n",
        "MyDictionary['Values'] = 1, \"Pairs\", 4\n",
        "print(MyDictionary)"
      ],
      "execution_count": 29,
      "outputs": [
        {
          "output_type": "stream",
          "name": "stdout",
          "text": [
            "{0: 'Apples', 2: 'Mangoes', 3: 20, 4: (1, 'Pairs', 4), 'Values': (1, 'Pairs', 4)}\n"
          ]
        }
      ]
    },
    {
      "cell_type": "markdown",
      "metadata": {
        "id": "C3ODe07o7qlv"
      },
      "source": [
        "**3)  Updating Elements - very useful in real time **♥\n",
        "* After adding a value to a dictionary **we can then modify the existing dictionary element. You use the key of the element to change the corresponding value.** For example:\n",
        "\n"
      ]
    },
    {
      "cell_type": "code",
      "metadata": {
        "id": "xZ7hs4hU8AwV",
        "outputId": "c958fc6e-2a8a-4e1c-aa4b-18cb1f3a96cc",
        "colab": {
          "base_uri": "https://localhost:8080/"
        }
      },
      "source": [
        "dict_sample = {\n",
        "  \"Company\": \"Toyota\",\n",
        "  \"model\": \"Premio\",\n",
        "  \"year\": 2012\n",
        "}\n",
        "\n",
        "dict_sample[\"year\"] = 2014\n",
        "\n",
        "print(dict_sample)"
      ],
      "execution_count": 30,
      "outputs": [
        {
          "output_type": "stream",
          "name": "stdout",
          "text": [
            "{'Company': 'Toyota', 'model': 'Premio', 'year': 2014}\n"
          ]
        }
      ]
    },
    {
      "cell_type": "markdown",
      "metadata": {
        "id": "Ly96M8HG8GUx"
      },
      "source": [
        "**Removing Elements**\n",
        "* removal of an element from a dictionary can be done in several ways, which we'll discuss one-by-one in this section:\n",
        "\n",
        "* The del keyword can be used to remove the element with the specified key. For example:"
      ]
    },
    {
      "cell_type": "code",
      "metadata": {
        "id": "W0cw-15K8SQ5",
        "outputId": "08ee4b00-7641-4ad5-a5e4-1ebf5ecb0e14",
        "colab": {
          "base_uri": "https://localhost:8080/"
        }
      },
      "source": [
        "dict_sample = {\n",
        "  \"Company\": \"Toyota\",\n",
        "  \"model\": \"Premio\",\n",
        "  \"year\": 2012\n",
        "}\n",
        "del dict_sample[\"year\"]\n",
        "print(dict_sample)\n",
        "\n",
        "# way 2 with pop\n",
        "\n",
        "dict_sample = {\n",
        "  \"Company\": \"Toyota\",\n",
        "  \"model\": \"Premio\",\n",
        "  \"year\": 2012\n",
        "}\n",
        "dict_sample.pop(\"year\")\n",
        "print(dict_sample)\n",
        "\n",
        "#The popitem() function removes the last item inserted into the dictionary,\n",
        "# without needing to specify the key. Take a look at the following example:\n",
        "dict_sample = {\n",
        "  \"Company\": \"Toyota\",\n",
        "  \"model\": \"Premio\",\n",
        "  \"year\": 2012\n",
        "}\n",
        "dict_sample.popitem()\n",
        "print(dict_sample)\n",
        "\n",
        "# you can use the del keyword to delete the entire dictionary. For example:\n",
        "\n",
        "dict_sample = {\n",
        "  \"Company\": \"Toyota\",\n",
        "  \"model\": \"Premio\",\n",
        "  \"year\": 2012\n",
        "}\n",
        "#del dict_sample\n",
        "print(dict_sample)\n",
        "\n",
        "#However, your use-case may require you to just remove all dictionary elements and be left with an empty dictionary.\n",
        "# This can be achieved by calling the clear() function on the dictionary:\n",
        "\n",
        "dict_sample = {\n",
        "  \"Company\": \"Toyota\",\n",
        "  \"model\": \"Premio\",\n",
        "  \"year\": 2012\n",
        "}\n",
        "dict_sample.clear()\n",
        "print(dict_sample)"
      ],
      "execution_count": 35,
      "outputs": [
        {
          "output_type": "stream",
          "name": "stdout",
          "text": [
            "{'Company': 'Toyota', 'model': 'Premio'}\n",
            "{'Company': 'Toyota', 'model': 'Premio'}\n",
            "{'Company': 'Toyota', 'model': 'Premio'}\n",
            "{'Company': 'Toyota', 'model': 'Premio', 'year': 2012}\n",
            "{}\n"
          ]
        }
      ]
    },
    {
      "cell_type": "markdown",
      "metadata": {
        "id": "mDAscQWq9O8T"
      },
      "source": [
        "**Other useful methods:**\n",
        "\n",
        "* 1) The keys() Method\n",
        "\n",
        "* This method also returns an iterable object. The object returned is a list of all keys in the dictionary. And just like with the items() method, the returned object can be used to reflect the changes made to the dictionary.\n",
        "\n",
        "* To use this method, we only call it on the name of the dictionary, as shown below:\n"
      ]
    },
    {
      "cell_type": "code",
      "metadata": {
        "id": "GaIYYpf29qca",
        "outputId": "61f3342b-0ea5-4ea6-949f-ee0a5fb0f9fc",
        "colab": {
          "base_uri": "https://localhost:8080/"
        }
      },
      "source": [
        "dict_sample = {\n",
        "  \"Company\": \"Toyota\",\n",
        "  \"model\": \"Premio\",\n",
        "  \"year\": 2012\n",
        "}\n",
        "\n",
        "x = dict_sample.keys()\n",
        "\n",
        "print(x)"
      ],
      "execution_count": 36,
      "outputs": [
        {
          "output_type": "stream",
          "name": "stdout",
          "text": [
            "dict_keys(['Company', 'model', 'year'])\n"
          ]
        }
      ]
    },
    {
      "cell_type": "markdown",
      "metadata": {
        "id": "ReQgYxSY9v3a"
      },
      "source": [
        "2) The items() Method\n",
        "\n",
        "* When called, this method returns an iterable object. The iterable object has key-value pairs for the dictionary, as tuples in a list. This method is primarily used when you want to iterate through a dictionary.\n",
        "\n",
        "* The method is simply called on the dictionary object name as shown below:\n",
        "\n",
        "\n"
      ]
    },
    {
      "cell_type": "code",
      "metadata": {
        "id": "X0F6rnqs9_ea",
        "outputId": "adf58e38-d7c5-405e-aa6f-d84b292bf332",
        "colab": {
          "base_uri": "https://localhost:8080/"
        }
      },
      "source": [
        "dict_sample = {\n",
        "  \"Company\": \"Toyota\",\n",
        "  \"model\": \"Premio\",\n",
        "  \"year\": 2012\n",
        "}\n",
        "\n",
        "for k, v in dict_sample.items():\n",
        "  print(k, v)"
      ],
      "execution_count": 37,
      "outputs": [
        {
          "output_type": "stream",
          "name": "stdout",
          "text": [
            "Company Toyota\n",
            "model Premio\n",
            "year 2012\n"
          ]
        }
      ]
    },
    {
      "cell_type": "markdown",
      "metadata": {
        "id": "ha-tZX1Q-XpQ"
      },
      "source": [
        "* 4 ) values-values() method returns a view object that displays a list of all the values in the dictionary.\n",
        "\n"
      ]
    },
    {
      "cell_type": "code",
      "metadata": {
        "id": "t9FRoGrJ-mSQ",
        "outputId": "ba2bfccb-7c9d-48fc-b940-0a054351cf5f",
        "colab": {
          "base_uri": "https://localhost:8080/"
        }
      },
      "source": [
        "marks = {'Physics':67, 'Maths':87}\n",
        "\n",
        "print(marks.values())"
      ],
      "execution_count": 38,
      "outputs": [
        {
          "output_type": "stream",
          "name": "stdout",
          "text": [
            "dict_values([67, 87])\n"
          ]
        }
      ]
    },
    {
      "cell_type": "code",
      "metadata": {
        "id": "Xs6oMmmd-yyh",
        "outputId": "cddf5159-884d-4e2b-b703-d93fa9eeb9d0",
        "colab": {
          "base_uri": "https://localhost:8080/"
        }
      },
      "source": [
        "#The len() Method\n",
        "#With this method, you can count the number of elements in a dictionary. For example:\n",
        "\n",
        "dict_sample = {\n",
        "  \"Company\": \"Toyota\",\n",
        "  \"model\": \"Premio\",\n",
        "  \"year\": 2012\n",
        "}\n",
        "print(len(dict_sample))\n",
        "#There are three entries in the dictionary, hence the method returned 3.\n",
        "\n",
        "#The copy() Method\n",
        "#This method returns a copy of the existing dictionary. For example:\n",
        "\n",
        "dict_sample = {\n",
        "  \"Company\": \"Toyota\",\n",
        "  \"model\": \"Premio\",\n",
        "  \"year\": 2012\n",
        "}\n",
        "x = dict_sample.copy()\n",
        "\n",
        "print(x)"
      ],
      "execution_count": 39,
      "outputs": [
        {
          "output_type": "stream",
          "name": "stdout",
          "text": [
            "3\n",
            "{'Company': 'Toyota', 'model': 'Premio', 'year': 2012}\n"
          ]
        }
      ]
    },
    {
      "cell_type": "markdown",
      "metadata": {
        "id": "WM0cuGpi_Hzs"
      },
      "source": [
        "[visit for more details and functions](https://stackabuse.com/python-dictionary-tutorial/)\n",
        "\n",
        "[visit for more details and functions](https://www.programiz.com/python-programming/methods/dictionary/values)"
      ]
    }
  ]
}