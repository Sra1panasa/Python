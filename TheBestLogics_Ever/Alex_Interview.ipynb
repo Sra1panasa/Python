{
  "nbformat": 4,
  "nbformat_minor": 0,
  "metadata": {
    "colab": {
      "name": "Alex_Interview.ipynb",
      "provenance": [],
      "authorship_tag": "ABX9TyNRxz5d19ZBeWub0Tqz1C5p",
      "include_colab_link": true
    },
    "kernelspec": {
      "name": "python3",
      "display_name": "Python 3"
    },
    "language_info": {
      "name": "python"
    }
  },
  "cells": [
    {
      "cell_type": "markdown",
      "metadata": {
        "id": "view-in-github",
        "colab_type": "text"
      },
      "source": [
        "<a href=\"https://colab.research.google.com/github/Sra1panasa/Python/blob/main/TheBestLogics_Ever/Alex_Interview.ipynb\" target=\"_parent\"><img src=\"https://colab.research.google.com/assets/colab-badge.svg\" alt=\"Open In Colab\"/></a>"
      ]
    },
    {
      "cell_type": "markdown",
      "source": [
        "**Problem 1: Impliment a function to return the third largest value in an integer array.\n",
        "for example ,third_largest([8,5,1,5,3,8,4]) should return 5 since the two largest values are both 8 and the third largest is 5.you may assume that all input arrays will contain at least three values**\n",
        "\n"
      ],
      "metadata": {
        "id": "Ez7NwnukwN53"
      }
    },
    {
      "cell_type": "code",
      "source": [
        "# approach 1 using predifined functions \n",
        "\n",
        "def third_largest(arr):\n",
        "  sorted_arry=sorted(arr)\n",
        "  print(\"Third largest number is \",sorted_arry[-3])\n",
        "\n",
        "\n",
        "third_largest([8,5,1,5,3,8,4])\n",
        "\n"
      ],
      "metadata": {
        "colab": {
          "base_uri": "https://localhost:8080/"
        },
        "id": "-cm-TX3Q37uO",
        "outputId": "dbee75a8-0ae1-4608-d5ef-eb6321101a0e"
      },
      "execution_count": 12,
      "outputs": [
        {
          "output_type": "stream",
          "name": "stdout",
          "text": [
            "Third largest number is  5\n"
          ]
        }
      ]
    },
    {
      "cell_type": "code",
      "source": [
        "# approach 2 without using predifined functions \n",
        "def third_largest(arr):\n",
        "    length=len(arr)\n",
        "    for i in range(length):\n",
        "        for j in range((i+1),length):\n",
        "            if arr[i]>arr[j]:\n",
        "                temp=arr[i]\n",
        "                arr[i]=arr[j]\n",
        "                arr[j]=temp\n",
        "    print(\"Third largest number is \",arr[-3])                \n",
        "\n",
        "third_largest([5, 1, 5, 3, 8, 4, 8])"
      ],
      "metadata": {
        "colab": {
          "base_uri": "https://localhost:8080/"
        },
        "id": "0AwDy6ffWtS3",
        "outputId": "07c16b50-b562-4ba0-ad95-9e9bdf6040c7"
      },
      "execution_count": 11,
      "outputs": [
        {
          "output_type": "stream",
          "name": "stdout",
          "text": [
            "Third largest number is  5\n"
          ]
        }
      ]
    },
    {
      "cell_type": "markdown",
      "source": [
        "**Problem 2: Impliment a function to take list of Strings and a zero based index and return a new string containing the character from each input string at that index in the same order as the values occured in the original list.For example ,nth_letter_from_each ([blue,green,purple],2) should return the String \"uer\"**"
      ],
      "metadata": {
        "id": "wUd0ALQEwTFz"
      }
    },
    {
      "cell_type": "code",
      "source": [
        "def new_string_with_specifiled_index(arr,index):\n",
        "  new_string_with_specifiled_index=\"\"\n",
        "  for string in arr:\n",
        "    new_string_with_specifiled_index=new_string_with_specifiled_index+string[2]\n",
        "  print(\"New String with the given index characther is  \"+new_string_with_specifiled_index)\n",
        "\n",
        "new_string_with_specifiled_index(['blue','green','purple'],2)"
      ],
      "metadata": {
        "colab": {
          "base_uri": "https://localhost:8080/"
        },
        "id": "3QG5CRDX38TD",
        "outputId": "ebfb4df2-1bb3-4231-80af-ad158424aacc"
      },
      "execution_count": 14,
      "outputs": [
        {
          "output_type": "stream",
          "name": "stdout",
          "text": [
            "New String with the given index characther is  uer\n"
          ]
        }
      ]
    }
  ]
}