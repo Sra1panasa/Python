{
  "nbformat": 4,
  "nbformat_minor": 0,
  "metadata": {
    "colab": {
      "name": "Untitled20.ipynb",
      "provenance": [],
      "authorship_tag": "ABX9TyNHAFxpeYF9gjeohwDbdd7M",
      "include_colab_link": true
    },
    "kernelspec": {
      "name": "python3",
      "display_name": "Python 3"
    },
    "language_info": {
      "name": "python"
    }
  },
  "cells": [
    {
      "cell_type": "markdown",
      "metadata": {
        "id": "view-in-github",
        "colab_type": "text"
      },
      "source": [
        "<a href=\"https://colab.research.google.com/github/Sra1panasa/Python/blob/main/TheBestLogics_Ever/sortlist_ascendingorder.ipynb\" target=\"_parent\"><img src=\"https://colab.research.google.com/assets/colab-badge.svg\" alt=\"Open In Colab\"/></a>"
      ]
    },
    {
      "cell_type": "markdown",
      "source": [
        "**Problem 1: Impliment a function to return the third largest value in an integer array.\n",
        "for example ,third_largest([8,5,1,5,3,8,4]) should return 5 since the two largest values are both 8 and the third largest is 5.you may assume that all input arrays will contain at least three values**\n",
        "\n"
      ],
      "metadata": {
        "id": "Ez7NwnukwN53"
      }
    },
    {
      "cell_type": "code",
      "source": [
        "# approach 1 using predifined functions \n",
        "\n",
        "def third_largest(arr):\n",
        "  sorted_arry=sorted(arr)\n",
        "  print(sorted_arry[-3])\n",
        "\n",
        "\n",
        "third_largest([8,5,1,5,3,8,4])\n",
        "\n"
      ],
      "metadata": {
        "colab": {
          "base_uri": "https://localhost:8080/"
        },
        "id": "-cm-TX3Q37uO",
        "outputId": "64335941-7ea1-43d2-815d-43e14dfa0faf"
      },
      "execution_count": 8,
      "outputs": [
        {
          "output_type": "stream",
          "name": "stdout",
          "text": [
            "5\n"
          ]
        }
      ]
    },
    {
      "cell_type": "code",
      "source": [
        "ordered=[]\n",
        "i=0\n",
        "j=0\n",
        "#x = [100, 3, 4, 100, 34, 45]\n",
        "x=[5, 1, 5, 3, 8, 4, 8]\n",
        "lowest=x[0]\n",
        "while len(x)>0:\n",
        "    for i in range(0,len(x)):\n",
        "        if x[i]<=lowest:\n",
        "            lowest=x[i]\n",
        "    ordered.append(lowest)\n",
        "    x.remove(lowest)\n",
        "    if len(x)>1:\n",
        "        lowest=x[0]\n",
        "print(ordered)"
      ],
      "metadata": {
        "colab": {
          "base_uri": "https://localhost:8080/"
        },
        "id": "L7aI8AqoVCtn",
        "outputId": "a247d9a4-8361-4cf6-b22e-9d9a425c51ac"
      },
      "execution_count": 10,
      "outputs": [
        {
          "output_type": "stream",
          "name": "stdout",
          "text": [
            "[1, 3, 4, 5, 5, 8, 8]\n"
          ]
        }
      ]
    },
    {
      "cell_type": "code",
      "source": [
        "def sort(x):\n",
        "    l=len(x)\n",
        "    for i in range(l):\n",
        "        for j in range((i+1),l):\n",
        "            if x[i]>x[j]:\n",
        "                l1=x[i]\n",
        "                x[i]=x[j]\n",
        "                x[j]=l1\n",
        "    print(x)                \n",
        "#l=[8,4,2,6,5,1,12,18,78,45]\n",
        "#l=[5, 1, 5, 3, 8, 4, 8]\n",
        "l=[3,3,2,2,5,5]\n",
        "sort(l)"
      ],
      "metadata": {
        "colab": {
          "base_uri": "https://localhost:8080/"
        },
        "id": "0AwDy6ffWtS3",
        "outputId": "d5393341-d29b-4555-cdf2-5614fb8204fe"
      },
      "execution_count": 15,
      "outputs": [
        {
          "output_type": "stream",
          "name": "stdout",
          "text": [
            "[2, 2, 3, 3, 5, 5]\n"
          ]
        }
      ]
    },
    {
      "cell_type": "markdown",
      "source": [
        "**Problem 2: Impliment a function to take list of Strings and a zero based index and return a new string containing the character from each input string at that index in the same order as the values occured in the original list.For example ,nth_letter_from_each ([blue,green,purple],2) should return the String \"uer\"**"
      ],
      "metadata": {
        "id": "wUd0ALQEwTFz"
      }
    },
    {
      "cell_type": "code",
      "source": [
        "def new_string_with_specifiled_index(arr,index):\n",
        "  new_string_with_specifiled_index=\"\"\n",
        "  for string in arr:\n",
        "    new_string_with_specifiled_index=new_string_with_specifiled_index+string[2]\n",
        "  print(new_string_with_specifiled_index)\n",
        "\n",
        "new_string_with_specifiled_index(['blue','green','purple'],2)"
      ],
      "metadata": {
        "colab": {
          "base_uri": "https://localhost:8080/"
        },
        "id": "3QG5CRDX38TD",
        "outputId": "9270f8eb-fa5b-4ad4-ecff-a5623a84c3ec"
      },
      "execution_count": 18,
      "outputs": [
        {
          "output_type": "stream",
          "name": "stdout",
          "text": [
            "uer\n"
          ]
        }
      ]
    }
  ]
}