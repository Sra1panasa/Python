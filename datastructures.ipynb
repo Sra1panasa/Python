{
  "nbformat": 4,
  "nbformat_minor": 0,
  "metadata": {
    "colab": {
      "name": "Untitled32.ipynb",
      "provenance": [],
      "authorship_tag": "ABX9TyMxoLTVdZ56fY683oqD+TlR",
      "include_colab_link": true
    },
    "kernelspec": {
      "name": "python3",
      "display_name": "Python 3"
    },
    "language_info": {
      "name": "python"
    }
  },
  "cells": [
    {
      "cell_type": "markdown",
      "metadata": {
        "id": "view-in-github",
        "colab_type": "text"
      },
      "source": [
        "<a href=\"https://colab.research.google.com/github/Sra1panasa/Python/blob/main/datastructures.ipynb\" target=\"_parent\"><img src=\"https://colab.research.google.com/assets/colab-badge.svg\" alt=\"Open In Colab\"/></a>"
      ]
    },
    {
      "cell_type": "markdown",
      "source": [
        "continue: skips that particular iteration"
      ],
      "metadata": {
        "id": "Ne2LLTT5DlZB"
      }
    },
    {
      "cell_type": "code",
      "source": [
        "list =[1,2,3,4,5]  \n",
        "\n",
        "#1iteration=execution of for loop one time\n",
        "for i in list:\n",
        "  if i==3:\n",
        "    continue\n",
        "  print(i) \n",
        " "
      ],
      "metadata": {
        "colab": {
          "base_uri": "https://localhost:8080/"
        },
        "id": "d-j6_hA1DtLW",
        "outputId": "e9ffa3ef-e638-4ddb-c2d1-aeb5db4285a9"
      },
      "execution_count": 21,
      "outputs": [
        {
          "output_type": "stream",
          "name": "stdout",
          "text": [
            "1\n",
            "2\n",
            "4\n",
            "5\n"
          ]
        }
      ]
    },
    {
      "cell_type": "markdown",
      "source": [
        "break: come out of the loop"
      ],
      "metadata": {
        "id": "OhcL0NreDt4t"
      }
    },
    {
      "cell_type": "code",
      "source": [
        "list =[1,2,3,4,5]  \n",
        "\n",
        "#1iteration=execution of for loop one time\n",
        "for i in list:\n",
        "  if i==2:\n",
        "    break\n",
        "  print(i) \n",
        " "
      ],
      "metadata": {
        "colab": {
          "base_uri": "https://localhost:8080/"
        },
        "id": "rqrCAeIlDxRE",
        "outputId": "3c932ac4-e95b-49e3-fc05-b67824f749cb"
      },
      "execution_count": 25,
      "outputs": [
        {
          "output_type": "stream",
          "name": "stdout",
          "text": [
            "1\n"
          ]
        }
      ]
    },
    {
      "cell_type": "markdown",
      "source": [
        "functions:"
      ],
      "metadata": {
        "id": "Ctl2F6hPEmtv"
      }
    },
    {
      "cell_type": "code",
      "source": [
        "  a=10\n",
        "  b=10\n",
        "  print(a+b)\n"
      ],
      "metadata": {
        "colab": {
          "base_uri": "https://localhost:8080/"
        },
        "id": "u7sCq5CcHHms",
        "outputId": "4ff8848d-bee6-4132-e355-479ff36d27ab"
      },
      "execution_count": 41,
      "outputs": [
        {
          "output_type": "stream",
          "name": "stdout",
          "text": [
            "20\n"
          ]
        }
      ]
    },
    {
      "cell_type": "code",
      "source": [
        "def sum(a,b):\n",
        "  print(\"sum\")\n",
        "  return a+b\n",
        "\n",
        "def multitply(a,b):\n",
        "  print(\"multiplication\")\n",
        "  return a*b"
      ],
      "metadata": {
        "id": "aAVSQBcpEouw"
      },
      "execution_count": 38,
      "outputs": []
    },
    {
      "cell_type": "code",
      "source": [
        "sum(10,10)"
      ],
      "metadata": {
        "colab": {
          "base_uri": "https://localhost:8080/"
        },
        "id": "1jo2lqy3FhTP",
        "outputId": "94205585-9424-44ee-ab93-27d4be9296dd"
      },
      "execution_count": 35,
      "outputs": [
        {
          "output_type": "stream",
          "name": "stdout",
          "text": [
            "sum\n"
          ]
        },
        {
          "output_type": "execute_result",
          "data": {
            "text/plain": [
              "20"
            ]
          },
          "metadata": {},
          "execution_count": 35
        }
      ]
    },
    {
      "cell_type": "code",
      "source": [
        "multitply(10,10)"
      ],
      "metadata": {
        "colab": {
          "base_uri": "https://localhost:8080/"
        },
        "id": "4CWfGvkvGuAX",
        "outputId": "199dac13-1497-4353-ea82-4325cbb1fb16"
      },
      "execution_count": 39,
      "outputs": [
        {
          "output_type": "stream",
          "name": "stdout",
          "text": [
            "multiplication\n"
          ]
        },
        {
          "output_type": "execute_result",
          "data": {
            "text/plain": [
              "100"
            ]
          },
          "metadata": {},
          "execution_count": 39
        }
      ]
    },
    {
      "cell_type": "markdown",
      "source": [
        "Pass:"
      ],
      "metadata": {
        "id": "g-pDCA_DIOCF"
      }
    },
    {
      "cell_type": "code",
      "source": [
        "def test(a,b):\n",
        "  pass"
      ],
      "metadata": {
        "id": "bzvHul6rIPEr"
      },
      "execution_count": 42,
      "outputs": []
    },
    {
      "cell_type": "code",
      "source": [
        "list =[1,2,3,4,5,6]  \n",
        "\n",
        "#1iteration=execution of for loop one time\n",
        "for i in list:\n",
        "  pass"
      ],
      "metadata": {
        "id": "ZqRiJwHxIZXi"
      },
      "execution_count": 43,
      "outputs": []
    },
    {
      "cell_type": "code",
      "source": [
        "str = \"HELLO\"\n",
        "print(str[0])\n",
        "print(str[0:3])\n",
        "print(str[:3])\n",
        "print(str[1:])"
      ],
      "metadata": {
        "colab": {
          "base_uri": "https://localhost:8080/"
        },
        "id": "NlMTwUviJBxD",
        "outputId": "845cf0e7-7517-4ff7-f499-793596cca805"
      },
      "execution_count": 47,
      "outputs": [
        {
          "output_type": "stream",
          "name": "stdout",
          "text": [
            "H\n",
            "HEL\n",
            "HEL\n",
            "ELLO\n"
          ]
        }
      ]
    },
    {
      "cell_type": "markdown",
      "source": [
        "data structure:"
      ],
      "metadata": {
        "id": "PDC491UOLrwp"
      }
    },
    {
      "cell_type": "code",
      "source": [
        "# once data is create it can't be modified\n",
        "l=[1,2,3,4,4]\n",
        "11=[\"raju\",\"ravi\",\"john\"]\n",
        "l.append(5)\n",
        "print(l)\n",
        "\n",
        "# once data is create it can't be modified\n",
        "t=(1,2,3,4,4)\n",
        "print(t)\n",
        "print(type(t))\n",
        "\n",
        "print(type(l))\n",
        "s={1,2,3,4,4}\n",
        "print(s)\n",
        "print(type(s))\n"
      ],
      "metadata": {
        "colab": {
          "base_uri": "https://localhost:8080/"
        },
        "id": "ZExteVnRLvim",
        "outputId": "8d10fbc9-dfde-4e88-fba8-17cad0c90a08"
      },
      "execution_count": 56,
      "outputs": [
        {
          "output_type": "stream",
          "name": "stdout",
          "text": [
            "[1, 2, 3, 4, 4, 5]\n",
            "(1, 2, 3, 4, 4)\n",
            "<class 'tuple'>\n",
            "<class 'list'>\n",
            "{1, 2, 3, 4}\n",
            "<class 'set'>\n"
          ]
        }
      ]
    },
    {
      "cell_type": "code",
      "source": [
        "Employee = {\"Name\": \"John\", \n",
        "            \"salary\":25000,\n",
        "            \"Company\":\"GOOGLE\"}    \n",
        "print(type(Employee)) \n",
        "print(Employee)    "
      ],
      "metadata": {
        "colab": {
          "base_uri": "https://localhost:8080/"
        },
        "id": "DGzwnHJlNwTw",
        "outputId": "4991e839-ab10-41f4-c2be-7902dd781c26"
      },
      "execution_count": 60,
      "outputs": [
        {
          "output_type": "stream",
          "name": "stdout",
          "text": [
            "<class 'dict'>\n",
            "{'Name': 'John', 'salary': 25000, 'Company': 'GOOGLE'}\n"
          ]
        }
      ]
    }
  ]
}