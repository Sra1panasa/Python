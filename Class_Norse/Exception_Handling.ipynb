{
  "nbformat": 4,
  "nbformat_minor": 0,
  "metadata": {
    "colab": {
      "name": "Untitled34.ipynb",
      "provenance": [],
      "authorship_tag": "ABX9TyOOtF+HVMXEt8/yYD3MOocY",
      "include_colab_link": true
    },
    "kernelspec": {
      "name": "python3",
      "display_name": "Python 3"
    },
    "language_info": {
      "name": "python"
    }
  },
  "cells": [
    {
      "cell_type": "markdown",
      "metadata": {
        "id": "view-in-github",
        "colab_type": "text"
      },
      "source": [
        "<a href=\"https://colab.research.google.com/github/Sra1panasa/Python/blob/main/Class_Norse/Exception_Handling.ipynb\" target=\"_parent\"><img src=\"https://colab.research.google.com/assets/colab-badge.svg\" alt=\"Open In Colab\"/></a>"
      ]
    },
    {
      "cell_type": "markdown",
      "source": [
        "Exception_Handling:\n"
      ],
      "metadata": {
        "id": "JkOtRDKh351l"
      }
    },
    {
      "cell_type": "code",
      "source": [
        "print(\"hi\")\n",
        "print(\"hi\")\n",
        "a=10\n",
        "b=0\n",
        "\n",
        "try:\n",
        "    c=a/b\n",
        "    print(c)\n",
        "except:\n",
        "    print(\"error handled\")\n",
        "\n",
        "print(\"end\")"
      ],
      "metadata": {
        "id": "xtoijk6w3-XN"
      },
      "execution_count": null,
      "outputs": []
    }
  ]
}