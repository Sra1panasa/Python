{
  "nbformat": 4,
  "nbformat_minor": 0,
  "metadata": {
    "colab": {
      "name": "Untitled33.ipynb",
      "provenance": [],
      "authorship_tag": "ABX9TyOwisKfGF7F1JfpRV8M/BdX",
      "include_colab_link": true
    },
    "kernelspec": {
      "name": "python3",
      "display_name": "Python 3"
    },
    "language_info": {
      "name": "python"
    }
  },
  "cells": [
    {
      "cell_type": "markdown",
      "metadata": {
        "id": "view-in-github",
        "colab_type": "text"
      },
      "source": [
        "<a href=\"https://colab.research.google.com/github/Sra1panasa/Python/blob/main/Class_Norse/class_object.ipynb\" target=\"_parent\"><img src=\"https://colab.research.google.com/assets/colab-badge.svg\" alt=\"Open In Colab\"/></a>"
      ]
    },
    {
      "cell_type": "markdown",
      "source": [
        "functions:\n",
        "\n",
        "1) code reusability\n",
        "2) code differentiation"
      ],
      "metadata": {
        "id": "tmXSF5KYXtE-"
      }
    },
    {
      "cell_type": "markdown",
      "source": [
        "types of functions:\n",
        "1) predifined functions\n",
        "2) user defined functions"
      ],
      "metadata": {
        "id": "z90rzbGYYJuu"
      }
    },
    {
      "cell_type": "code",
      "source": [
        "# function declaration or defination\n",
        "def login():\n",
        "  print(\"login\")\n",
        "\n",
        "def shoe():\n",
        "  login()\n",
        "  print(\"shoe\")\n",
        "\n",
        "def electronic():\n",
        "  login()\n",
        "  print(\"electronic\")\n",
        "\n",
        "def clothes():\n",
        "  login()\n",
        "  print(\"clothes\")\n"
      ],
      "metadata": {
        "id": "qPv9EvGFX0kG"
      },
      "execution_count": null,
      "outputs": []
    },
    {
      "cell_type": "code",
      "source": [
        "shoe()"
      ],
      "metadata": {
        "colab": {
          "base_uri": "https://localhost:8080/"
        },
        "id": "UP41mD43YFz7",
        "outputId": "2d32cf48-f55e-46de-eb40-289eeffae192"
      },
      "execution_count": null,
      "outputs": [
        {
          "output_type": "stream",
          "name": "stdout",
          "text": [
            "login\n",
            "login\n",
            "shoe\n"
          ]
        }
      ]
    },
    {
      "cell_type": "markdown",
      "source": [
        "classes:\n",
        "\n"
      ],
      "metadata": {
        "id": "bihL6j4Ncm_4"
      }
    },
    {
      "cell_type": "code",
      "source": [
        "class Employee:    \n",
        "    id = 10   \n",
        "    name = \"Devansh\"    \n",
        "    def login(self):    \n",
        "        print(self.id,self.name)    \n",
        "    def __init__(self):\n",
        "      print(\"i am from consructr\")"
      ],
      "metadata": {
        "id": "lpmijsYBcrmC"
      },
      "execution_count": 1,
      "outputs": []
    },
    {
      "cell_type": "markdown",
      "source": [
        "Object creation:\n"
      ],
      "metadata": {
        "id": "kbtilzeoc-mz"
      }
    },
    {
      "cell_type": "code",
      "source": [
        "#a=10\n",
        "# object creation\n",
        "# by default constructor will be called during object creation\n",
        "emp = Employee() \n",
        "print(emp.id)\n",
        "emp.login()\n",
        "\n",
        "   "
      ],
      "metadata": {
        "colab": {
          "base_uri": "https://localhost:8080/"
        },
        "id": "lBeRUeLedCcW",
        "outputId": "f56a6f85-2190-463e-f3ec-d83eb397ea7e"
      },
      "execution_count": 5,
      "outputs": [
        {
          "output_type": "stream",
          "name": "stdout",
          "text": [
            "i am from consructr\n",
            "10\n",
            "10 Devansh\n"
          ]
        }
      ]
    },
    {
      "cell_type": "code",
      "source": [
        "a=10\n",
        "print(id(10))\n",
        "print(a)"
      ],
      "metadata": {
        "colab": {
          "base_uri": "https://localhost:8080/"
        },
        "id": "QTxDBanreK7p",
        "outputId": "e4131dcf-3cde-4a4b-accd-8d1f38cf2bf6"
      },
      "execution_count": null,
      "outputs": [
        {
          "output_type": "stream",
          "name": "stdout",
          "text": [
            "94779065252640\n",
            "10\n"
          ]
        }
      ]
    },
    {
      "cell_type": "markdown",
      "source": [
        "data structures:\n",
        "1)list\n",
        "2)set\n",
        "3) tuple\n",
        "4) dictionary\n"
      ],
      "metadata": {
        "id": "6oxIA5tijXHu"
      }
    },
    {
      "cell_type": "code",
      "source": [
        "class List:\n",
        "\n",
        "  def append():\n",
        "    print(\" to add elments to list\")"
      ],
      "metadata": {
        "id": "AytaTtrajM3Y"
      },
      "execution_count": null,
      "outputs": []
    },
    {
      "cell_type": "code",
      "source": [
        "list=[1,2,3]\n",
        "list.append(4)\n",
        "print(list)"
      ],
      "metadata": {
        "colab": {
          "base_uri": "https://localhost:8080/"
        },
        "id": "hDlVRV0cjlSx",
        "outputId": "c3b7d007-89e3-4dcd-8397-14ee9d9cb6a5"
      },
      "execution_count": null,
      "outputs": [
        {
          "output_type": "stream",
          "name": "stdout",
          "text": [
            "[1, 2, 3, 4]\n"
          ]
        }
      ]
    },
    {
      "cell_type": "code",
      "source": [
        "list1=[1,2,3]\n",
        "list2=[4,5]\n",
        "list1.extend(list2)\n",
        "print(list1)"
      ],
      "metadata": {
        "colab": {
          "base_uri": "https://localhost:8080/"
        },
        "id": "6LOyA1AskqIS",
        "outputId": "ca2a57f5-1c56-4bc8-b107-ea371fea6db1"
      },
      "execution_count": null,
      "outputs": [
        {
          "output_type": "stream",
          "name": "stdout",
          "text": [
            "[1, 2, 3, 4, 5]\n"
          ]
        }
      ]
    }
  ]
}