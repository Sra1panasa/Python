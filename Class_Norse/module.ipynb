{
  "nbformat": 4,
  "nbformat_minor": 0,
  "metadata": {
    "colab": {
      "name": "Untitled34.ipynb",
      "provenance": [],
      "authorship_tag": "ABX9TyOC6OZVwYhdaIi8GY1wRWWE",
      "include_colab_link": true
    },
    "kernelspec": {
      "name": "python3",
      "display_name": "Python 3"
    },
    "language_info": {
      "name": "python"
    }
  },
  "cells": [
    {
      "cell_type": "markdown",
      "metadata": {
        "id": "view-in-github",
        "colab_type": "text"
      },
      "source": [
        "<a href=\"https://colab.research.google.com/github/Sra1panasa/Python/blob/main/Class_Norse/module.ipynb\" target=\"_parent\"><img src=\"https://colab.research.google.com/assets/colab-badge.svg\" alt=\"Open In Colab\"/></a>"
      ]
    },
    {
      "cell_type": "markdown",
      "source": [
        "module:\n"
      ],
      "metadata": {
        "id": "JkOtRDKh351l"
      }
    },
    {
      "cell_type": "code",
      "source": [
        "class A:\n",
        "    def hi(self):\n",
        "        print(\"hi\")\n",
        "\n",
        "class B:\n",
        "    def hello(self):\n",
        "        print(\"hello\")\n",
        "\n",
        "a=A()\n",
        "b=B()\n",
        "a.hi()\n",
        "b.hello()\n",
        "\n",
        "def login(name):\n",
        "    print(name);\n",
        "\n",
        "login(\"end\")"
      ],
      "metadata": {
        "colab": {
          "base_uri": "https://localhost:8080/"
        },
        "id": "xtoijk6w3-XN",
        "outputId": "b7a28498-1d0b-4dd7-b289-5338df7299e6"
      },
      "execution_count": 1,
      "outputs": [
        {
          "output_type": "stream",
          "name": "stdout",
          "text": [
            "hi\n",
            "hello\n",
            "end\n"
          ]
        }
      ]
    }
  ]
}