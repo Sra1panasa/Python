{
  "nbformat": 4,
  "nbformat_minor": 0,
  "metadata": {
    "colab": {
      "name": "Untitled34.ipynb",
      "provenance": [],
      "authorship_tag": "ABX9TyPD+SthQRGw+R3XQiW3qQjj",
      "include_colab_link": true
    },
    "kernelspec": {
      "name": "python3",
      "display_name": "Python 3"
    },
    "language_info": {
      "name": "python"
    }
  },
  "cells": [
    {
      "cell_type": "markdown",
      "metadata": {
        "id": "view-in-github",
        "colab_type": "text"
      },
      "source": [
        "<a href=\"https://colab.research.google.com/github/Sra1panasa/Python/blob/main/Class_Norse/files.ipynb\" target=\"_parent\"><img src=\"https://colab.research.google.com/assets/colab-badge.svg\" alt=\"Open In Colab\"/></a>"
      ]
    },
    {
      "cell_type": "markdown",
      "source": [
        "files:\n"
      ],
      "metadata": {
        "id": "JkOtRDKh351l"
      }
    },
    {
      "cell_type": "code",
      "source": [
        "with open(\"C:/Users/sravan.kumar.panasa/Documents/python_Basics/test.txt\",'r+') as s:\n",
        "    #a=10\n",
        "    #content = s.read();\n",
        "    #print(content)\n",
        "    print(s.read())\n",
        "    s.write(\"rakesh\")\n",
        "    print(s.read())"
      ],
      "metadata": {
        "id": "xtoijk6w3-XN"
      },
      "execution_count": null,
      "outputs": []
    }
  ]
}