{
  "nbformat": 4,
  "nbformat_minor": 0,
  "metadata": {
    "colab": {
      "name": "Untitled0.ipynb",
      "provenance": [],
      "authorship_tag": "ABX9TyNvoD8W5ywWnsk9ILBX/CN7",
      "include_colab_link": true
    },
    "kernelspec": {
      "name": "python3",
      "display_name": "Python 3"
    },
    "language_info": {
      "name": "python"
    }
  },
  "cells": [
    {
      "cell_type": "markdown",
      "metadata": {
        "id": "view-in-github",
        "colab_type": "text"
      },
      "source": [
        "<a href=\"https://colab.research.google.com/github/Sra1panasa/Python/blob/main/StringBasics.ipynb\" target=\"_parent\"><img src=\"https://colab.research.google.com/assets/colab-badge.svg\" alt=\"Open In Colab\"/></a>"
      ]
    },
    {
      "cell_type": "markdown",
      "metadata": {
        "id": "Y6EIQFRgCxTv"
      },
      "source": [
        "String Basics:\n",
        "\n",
        "**Everything in Python is an object. A string is an object too. Python provides us with various methods to call on the string object.\n",
        "\n",
        "Note that none of these methods alters the actual string. They instead return a copy of the string.This copy is the manipulated version of the string**\n",
        "\n",
        "1) Strings are immutable means you can't modify the String once it created.means once string object is created object data can't be modified in its lifetime.\n",
        "\n",
        "2) How can you update first letter of String?\n",
        "\n",
        "* Since Strings are immutable we can't update/modify the string.\n",
        "* But we can create a copy of string with the modified content.\n",
        "* Changing a character in a string replaces it with a different character. To do so, the string must be converted to a mutable data type, like a list. Changing the first character in \"zbc\" to an \"a\" results in \"abc\".\n",
        "\n",
        "3) why strings are immutable?\n",
        "\n",
        "* when a string reference is reinitialized with a new value, it is creating a new object rather than overwriting the previous value. In Python, strings are made immutable so that programmers cannot alter the contents of the object (even by mistake)\n",
        "\n",
        "* An immutable object is an object that cannot be modified. ... For Example — String is immutable in python. A string object will always represent the same value, it can't be modified. For example — The string object 'h' will always represent the python value h.\n",
        "\n",
        "* Most languages have immutable strings. This includes Java, Python, and C#. Usually when concatenating strings, the language allocates an entirely new string and copies the content of the two strings into the new string.\n",
        "\n",
        "* Immutability does tend to make programming easier. Especially when dealing with a multi-threaded environment.\n",
        "\n",
        "5) In string replace function we are changing the string content isn't a string modification?\n",
        "\n",
        "* Since Strings are immutable in Python. The replace method doesn't change the value of the string itself. It just returns a new string that can be used for other purposes.\n",
        "**replace actually returns a copyof the argument string with relevant parts replaced. The original string is left intact**\n",
        "\n",
        "t1=\"xyz\" \n",
        "\n",
        "t2=t1.replace(\"x\", \"A\") \n",
        "\n",
        "print(t1) #xyz\n",
        "\n",
        "print(t2) #Ayz \n",
        "\n",
        "4) what is immutablity? \n",
        "\n",
        "** Mutable is a fancy way of saying that the internal state of the object is changed/mutated. So, the simplest definition is: An object whose internal state can be changed is mutable. On the other hand, immutable doesn’t allow any change in the object once it has been created **\n",
        "\n",
        "\n",
        "1)Objects of built-in type that are mutable are:\n",
        "\n",
        "* Lists\n",
        "* Sets\n",
        "* Dictionaries\n",
        "* User-Defined Classes (It purely depends upon the user to define the characteristics) \n",
        "\n",
        "2)Objects of built-in type that are immutable are:\n",
        "\n",
        "* Numbers (Integer, Rational, Float, Decimal, Complex & Booleans)\n",
        "* Strings\n",
        "* Tuples\n",
        "* Frozen Sets\n",
        "* User-Defined Classes (It purely depends upon the user to define the  characteristics)\n",
        "\n",
        "5) How strings are immutable lists are mutable?\n",
        "\n",
        "* Its completely based on Object data and memory location below examples of link can explain briefly..\n",
        "\n",
        "[Proof ](https://www.mygreatlearning.com/blog/understanding-mutable-and-immutable-in-python/)\n"
      ]
    },
    {
      "cell_type": "code",
      "metadata": {
        "colab": {
          "base_uri": "https://localhost:8080/",
          "height": 183
        },
        "id": "PFVg1OlTGACu",
        "outputId": "bc864b12-728f-48a2-da79-0784bd10a77c"
      },
      "source": [
        "# for name one memory location assigned .. in that we are trying to change content or in that object we are trying to make changes which will not \n",
        "#allows.\n",
        "name='Sravan'\n",
        "name[0]='P'"
      ],
      "execution_count": null,
      "outputs": [
        {
          "output_type": "error",
          "ename": "TypeError",
          "evalue": "ignored",
          "traceback": [
            "\u001b[0;31m---------------------------------------------------------------------------\u001b[0m",
            "\u001b[0;31mTypeError\u001b[0m                                 Traceback (most recent call last)",
            "\u001b[0;32m<ipython-input-5-4b9b62b44169>\u001b[0m in \u001b[0;36m<module>\u001b[0;34m()\u001b[0m\n\u001b[1;32m      1\u001b[0m \u001b[0mname\u001b[0m\u001b[0;34m=\u001b[0m\u001b[0;34m'Sravan'\u001b[0m\u001b[0;34m\u001b[0m\u001b[0;34m\u001b[0m\u001b[0m\n\u001b[0;32m----> 2\u001b[0;31m \u001b[0mname\u001b[0m\u001b[0;34m[\u001b[0m\u001b[0;36m0\u001b[0m\u001b[0;34m]\u001b[0m\u001b[0;34m=\u001b[0m\u001b[0;34m'P'\u001b[0m\u001b[0;34m\u001b[0m\u001b[0;34m\u001b[0m\u001b[0m\n\u001b[0m",
            "\u001b[0;31mTypeError\u001b[0m: 'str' object does not support item assignment"
          ]
        }
      ]
    },
    {
      "cell_type": "code",
      "metadata": {
        "colab": {
          "base_uri": "https://localhost:8080/"
        },
        "id": "CjJ5qwuUG0Iq",
        "outputId": "b235c8cb-e507-49cb-b475-c60e63274dbd"
      },
      "source": [
        "#One possible solution is to create a new string object with necessary modifications:\n",
        "# [1:] - takes characters from 1 st position index always starts from zero\n",
        "name1='P'+name[1:]\n",
        "print(name1)"
      ],
      "execution_count": null,
      "outputs": [
        {
          "output_type": "stream",
          "name": "stdout",
          "text": [
            "Pravan\n"
          ]
        }
      ]
    },
    {
      "cell_type": "code",
      "metadata": {
        "colab": {
          "base_uri": "https://localhost:8080/"
        },
        "id": "iRnGBAVEIATW",
        "outputId": "09b73d46-8182-4677-b23b-b2ae2bb1f872"
      },
      "source": [
        "#case 1:string value is same name/reference is different. two strings store in same reference in memory\n",
        "#To understand more about the concept of string immutability, consider the following code:\n",
        "#for both of the strings ids are same means it stores in same memory location.\n",
        "name_1 = \"Ai\"\n",
        "name_2 = \"Ai\"\n",
        "print(\"id of name_1 = \", id(name_1))\n",
        "print(\"id of name_2 = \", id(name_2))"
      ],
      "execution_count": null,
      "outputs": [
        {
          "output_type": "stream",
          "name": "stdout",
          "text": [
            "id of name_1 =  140024638496560\n",
            "id of name_2 =  140024638496560\n"
          ]
        }
      ]
    },
    {
      "cell_type": "code",
      "metadata": {
        "id": "NN2HvXNkI9q8",
        "colab": {
          "base_uri": "https://localhost:8080/"
        },
        "outputId": "2a225e83-7cba-49d0-f339-4fe91d402542"
      },
      "source": [
        "#case2: String name is same bt value is different.\n",
        "# when a string reference is reinitialized with a new value, it is creating a new object rather than overwriting the previous value.\n",
        "#In Python, strings are made immutable so that programmers cannot alter the contents of the object (even by mistake). This avoids unnecessary bugs.\n",
        "\n",
        "name_1 = \"Varun\"\n",
        "print(\"id of name_1 = \", id(name_1))\n",
        "\n",
        "name_1 = \"Tarun\"\n",
        "print(\"id of name_1 afer initialing with new value = \", id(name_1))\n",
        "\n",
        "#Note: This is not changing the value of string name_1 as per string immutability.Its just reinitialized with a new value.\n",
        "# immutable in the sense memory perspective not with variable perpective.. in above case name_1 changed from Varun to Tarun this is not changing of \n",
        "#String name_1..\n",
        "#when we reasign with new value it stores in diff location .. so the memory which allocated when we create first time that will not be modified..\n",
        "# new memory getting created.\n"
      ],
      "execution_count": null,
      "outputs": [
        {
          "output_type": "stream",
          "name": "stdout",
          "text": [
            "id of name_1 =  139788042915952\n",
            "id of name_1 afer initialing with new value =  139788042916720\n"
          ]
        }
      ]
    },
    {
      "cell_type": "code",
      "metadata": {
        "colab": {
          "base_uri": "https://localhost:8080/"
        },
        "id": "ORwKLl9KE8z9",
        "outputId": "3491765a-e805-4079-e9c1-83a8de65587e"
      },
      "source": [
        "s='sravan'\n",
        "s='sra'\n",
        "print(s)"
      ],
      "execution_count": null,
      "outputs": [
        {
          "output_type": "stream",
          "name": "stdout",
          "text": [
            "sra\n"
          ]
        }
      ]
    },
    {
      "cell_type": "markdown",
      "metadata": {
        "id": "Vohob86xcidw"
      },
      "source": [
        "**String Basics**\n",
        "\n",
        "* A string is a sequence of characters.\n",
        "\n",
        "* A character is simply a symbol. For example, the English language has 26 characters.\n",
        "\n",
        "* Computers do not deal with characters, they deal with numbers (binary). Even though you may see characters on your screen, internally it is stored and manipulated as a combination of 0s and 1s.This conversion of character to a number is called encoding, and the reverse process is decoding. ASCII and Unicode are some of the popular encodings used.\n",
        "\n",
        "* In Python, a string is a sequence of Unicode characters. Unicode was introduced to include every character in all languages and bring uniformity in encoding\n"
      ]
    },
    {
      "cell_type": "markdown",
      "metadata": {
        "id": "MFX0Gkypehjs"
      },
      "source": [
        "**How to create a string in Python?**\n",
        "\n"
      ]
    },
    {
      "cell_type": "code",
      "metadata": {
        "id": "w4XMOp0vexcH",
        "colab": {
          "base_uri": "https://localhost:8080/"
        },
        "outputId": "6b06a232-59ef-4c3b-c030-7f2886b9075d"
      },
      "source": [
        "# defining strings in Python\n",
        "# all of the following are equivalent\n",
        "my_string = 'Hello'\n",
        "print(my_string)\n",
        "\n",
        "my_string = \"Hello\"\n",
        "print(my_string)\n",
        "\n",
        "my_string = '''Hello'''\n",
        "print(my_string)\n",
        "\n",
        "# triple quotes string can extend multiple lines\n",
        "my_string = \"\"\"Hello, welcome to\n",
        "           the world of Python\"\"\"\n",
        "print(my_string)"
      ],
      "execution_count": null,
      "outputs": [
        {
          "output_type": "stream",
          "name": "stdout",
          "text": [
            "Hello\n",
            "Hello\n",
            "Hello\n",
            "Hello, welcome to\n",
            "           the world of Python\n"
          ]
        }
      ]
    },
    {
      "cell_type": "markdown",
      "metadata": {
        "id": "OujGszife-KD"
      },
      "source": [
        "**How to access characters in a string**\n",
        "\n",
        "**Slicing Strings**\n",
        "* We can access individual characters using indexing and a range of characters using slicing. Index starts from 0. Trying to access a character out of index range will raise an IndexError. The index must be an integer. We can't use floats or other types, this will result into TypeError.\n",
        "\n",
        "* We can also call out a range of characters from the string. Say we would like to only print the word Shark. We can do so by creating a slice, which is a sequence of characters within an original string. With slices, we can call multiple character values by creating a range of index numbers separated by a colon [x:y]:\n",
        "\n",
        "* index starts from zero and excludes last position which is 11.\n",
        "\n",
        "ss = \"Sammy Shark!\"\n",
        "\n",
        "print(ss[6:11])\n",
        "\n",
        "Shark\n",
        "\n",
        "* Python allows negative indexing for its sequences.\n",
        "* The index of -1 refers to the last item, -2 to the second last item and so on. We can access a range of items in a string by using the slicing operator :(colon).\n",
        "\n",
        "![string.PNG](data:image/png;base64,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)"
      ]
    },
    {
      "cell_type": "markdown",
      "metadata": {
        "id": "0E4_SQsfDNOB"
      },
      "source": [
        ""
      ]
    },
    {
      "cell_type": "code",
      "metadata": {
        "id": "jebIG1eogRmD",
        "colab": {
          "base_uri": "https://localhost:8080/"
        },
        "outputId": "f64b59de-50fc-4b0e-9de4-19184573379c"
      },
      "source": [
        "# Given String  \n",
        "str = \"JAVATPOINT\"  \n",
        "# Start Oth index to end  \n",
        "print(str[0:])  \n",
        "# Starts 1th index to 4th index  \n",
        "print(str[1:5])  \n",
        "# Starts 2nd index to 3rd index  \n",
        "print(str[2:4])  \n",
        "# Starts 0th to 2nd index  \n",
        "print(str[:3])  \n",
        "#last character\n",
        "print('str[-1] = ', str[-1])\n",
        "#slicing 6th to 2nd last character\n",
        "print('str[5:-2] = ', str[5:-2])\n"
      ],
      "execution_count": null,
      "outputs": [
        {
          "output_type": "stream",
          "name": "stdout",
          "text": [
            "JAVATPOINT\n",
            "AVAT\n",
            "VA\n",
            "JAV\n",
            "str[-1] =  T\n",
            "str[1:5] =  AVAT\n",
            "str[5:-2] =  POI\n"
          ]
        }
      ]
    },
    {
      "cell_type": "markdown",
      "metadata": {
        "id": "HfZe66CvDofx"
      },
      "source": [
        "**Specifying Stride while Slicing Strings**\n",
        "\n",
        "* syntax\n",
        "\n",
        "    string[starting index : ending index : step]\n",
        "*  without specifying any starting index, it will take the whole string\n",
        "* String slicing can accept a third parameter in addition to two index numbers. The third parameter specifies the stride, which refers to how many characters to move forward after the first character is retrieved from the string. So far, we have omitted the stride parameter, and Python defaults to the stride of 1, so that every character between two index numbers is retrieved.\n",
        "* Let’s review the example above that prints out the substring “Shark”:\n",
        "[String Stride](https://www.digitalocean.com/community/tutorials/how-to-index-and-slice-strings-in-python-3)"
      ]
    },
    {
      "cell_type": "code",
      "metadata": {
        "id": "FNbwwiYPEXqG",
        "outputId": "db459066-91de-442f-d1de-57ff6f684988",
        "colab": {
          "base_uri": "https://localhost:8080/"
        }
      },
      "source": [
        "ss = \"Sammy Shark!\"\n",
        "print(ss[6:11])\n",
        "#We can obtain the same results by including a third parameter with a stride of 1:\n",
        "print(ss[6:11:1])\n",
        "print(ss[0:12:2])\n",
        "#Specifying the stride of 2 as the last parameter in the Python syntax ss[0:12:2] skips every other character.\n",
        "#Let’s review the characters that are highlighted:\n",
        "print(ss[0:12:4])\n",
        "#Specifying the stride of 4 as the last parameter in the Python syntax ss[0:12:4] prints only every fourth character. \n",
        "#Again, let’s look at the characters that are highlighted:\n",
        "# please rerer above link for examples of strides with images.\n",
        "print(ss[::-2])"
      ],
      "execution_count": 12,
      "outputs": [
        {
          "output_type": "stream",
          "name": "stdout",
          "text": [
            "Shark\n",
            "Shark\n",
            "SmySak\n",
            "Sya\n",
            "!rh ma\n"
          ]
        }
      ]
    },
    {
      "cell_type": "code",
      "metadata": {
        "id": "gHGrTBsz7iK4",
        "outputId": "2ff8de0f-9756-473b-adeb-cb9bdd359295",
        "colab": {
          "base_uri": "https://localhost:8080/"
        }
      },
      "source": [
        "number_string = \"1020304050\"\n",
        "print(number_string[0:5:2])\n",
        "print(\"123456\"[::-2])\n",
        "myList = [0, 1, 2, 3, 4, 5, 6, 7]\n",
        "# prints every third character, beginning with the 0th index\n",
        "print(myList[::3]) "
      ],
      "execution_count": 15,
      "outputs": [
        {
          "output_type": "stream",
          "name": "stdout",
          "text": [
            "123\n",
            "642\n",
            "[0, 3, 6]\n"
          ]
        }
      ]
    },
    {
      "cell_type": "markdown",
      "metadata": {
        "id": "v-PxlZpAOrMf"
      },
      "source": [
        "**String Functions**\n",
        "\n",
        "* Some of the mostly used functions\n",
        "\n",
        "  1)len()\n",
        "\n",
        "  2)str.count()\n",
        "\n",
        "  3)str.find() -Returns the index of the first occurrence of sub in s. Returns -1 if the substring is not present in the string.\n",
        "\n",
        "  4)lower()\n",
        "\n",
        "  5) upper()\n",
        "\n",
        "  6) strip - Used to trim whitespaces from the string object.\n",
        "\n",
        "  7)s.title()- Converts the first letter of each word to uppercase and remaining letters to lowercase\n",
        "Converts the first letter of each word to uppercase and remaining letters to lowercase\n",
        "\n",
        "\n",
        "\n",
        "\n",
        "* len()\n",
        "*We’ll first look at the len() method which can get the length of any data type that is a sequence, whether ordered or unordered, including strings, lists, tuples, and dictionaries.\n",
        "*count method counts the number of times the character “a” appears:\n",
        "*str.find() method, and it will return the position of the character based on index number.\n",
        "\n",
        "        https://www.javatpoint.com/python-strings\n"
      ]
    },
    {
      "cell_type": "code",
      "metadata": {
        "id": "jbeM3qVtQMBc",
        "outputId": "b75ac9df-4af7-47a3-fe17-38fc45b7f630",
        "colab": {
          "base_uri": "https://localhost:8080/"
        }
      },
      "source": [
        "ss = \"Sammy Shark!\"\n",
        "print(len(ss))\n",
        "print(ss.count(\"a\"))\n",
        "likes = \"Sammy likes to swim in the ocean, likes to spin up servers, and likes to smile.\"\n",
        "print(likes.count(\"likes\"))\n",
        "print(ss.find(\"m\")) #will return the position of the character based on index number.\n",
        "print(ss.count(\"s\")) # returns 0\n",
        "#Though the letter “S” is in the string, it is important to keep in mind that each character is case-sensitive.\n",
        "#If we want to search for all the letters in a string regardless of case,\n",
        "#we can use the str.lower() method to convert the string to all lower-case first.\n",
        "str = \"Hello\"     \n",
        "str1 = \" world\"    \n",
        "print(str*3) # prints HelloHelloHello    \n",
        "print(str+str1)# prints Hello world     \n",
        "print('w' in str) # prints false as w is not present in str    \n",
        "print('wo' not in str1) # prints false as wo is present in str1.     \n",
        "print(r'C://python37') # prints C://python37 as it is written    \n",
        "print(\"The string str : %s\"%(str)) # prints The string str : Hello   "
      ],
      "execution_count": 5,
      "outputs": [
        {
          "output_type": "stream",
          "name": "stdout",
          "text": [
            "12\n",
            "2\n",
            "3\n",
            "2\n",
            "0\n",
            "HelloHelloHello\n",
            "Hello world\n",
            "False\n",
            "False\n",
            "C://python37\n",
            "The string str : Hello\n"
          ]
        }
      ]
    },
    {
      "cell_type": "code",
      "metadata": {
        "id": "3SiCnG_kp0EL",
        "outputId": "33630660-1159-4c9f-a747-245a3ecc2406",
        "colab": {
          "base_uri": "https://localhost:8080/"
        }
      },
      "source": [
        "# Another mostly used imoortant function is join.\n",
        "# s.join(<iterable>) \n",
        "# It takes a list as an argument and joins the elements in the list using the string it is applied on.\n",
        "# Joins elements of an iterable into a single string. Here, s is the separator string.\n",
        "s1 = ' '.join(['We', 'are', 'Coders'])\n",
        "print(s1)\n",
        "s2 = ':'.join(['We', 'are', 'Coders'])\n",
        "print(s2)\n",
        "s3 = '*'.join(['We', 'are', 'Coders'])\n",
        "print(s3)\n",
        "# with Triple quotes Strings can extend to multiple lines\n",
        "String_var = \"\"\" This document will help you to\n",
        "explore all the concepts\n",
        "of Python Strings!!! \"\"\"\n",
        "\n",
        "# Replace \"document\" with \"tutorial\" and store in another variable\n",
        "substr_var = String_var.replace(\"document\", \"tutorial\")\n",
        "print (substr_var)\n"
      ],
      "execution_count": 6,
      "outputs": [
        {
          "output_type": "stream",
          "name": "stdout",
          "text": [
            "We are Coders\n",
            "We:are:Coders\n",
            "We*are*Coders\n",
            " This tutorial will help you to\n",
            "explore all the concepts\n",
            "of Python Strings!!! \n"
          ]
        }
      ]
    },
    {
      "cell_type": "markdown",
      "metadata": {
        "id": "avkn51b2rmKj"
      },
      "source": [
        "1) s.strip([chars])\n",
        "* Removes leading and trailing characters from a string. Removes leading and trailing whitespaces if you don’t provide a chars argument.\n",
        "\n",
        "2)s.lstrip([chars])\n",
        "\n",
        "* Removes leading characters from a string. Removes leading whitespaces if you don’t provide a <chars> argument.\n",
        "\n",
        "3) s.rstrip([chars])\n",
        "* Removes trailing characters from a string. Removes trailing whitespaces if you don’t provide a chars argument.\n",
        "\n",
        "\n"
      ]
    },
    {
      "cell_type": "code",
      "metadata": {
        "id": "Z8ouLGLWsQun",
        "outputId": "39b8106e-5f5f-4ed7-d02e-0bf406856392",
        "colab": {
          "base_uri": "https://localhost:8080/"
        }
      },
      "source": [
        "s = \"   Techvidvan   \"\n",
        "print(s.lstrip())\n",
        "print(s.rstrip())\n",
        "print(s.strip())\n"
      ],
      "execution_count": 4,
      "outputs": [
        {
          "output_type": "stream",
          "name": "stdout",
          "text": [
            "Techvidvan   \n",
            "   Techvidvan\n",
            "Techvidvan\n"
          ]
        }
      ]
    },
    {
      "cell_type": "markdown",
      "metadata": {
        "id": "trODHmuuuZV9"
      },
      "source": [
        "**String Formatting Operators in Python**\n",
        "\n",
        "* An Escape sequence starts with a backslash (\\), which signals the compiler to treat it differently. Python subsystem automatically interprets an escape sequence irrespective of it is in a single-quoted or double-quoted Strings.\n",
        "\n",
        "* Let’s discuss an example-One of an important Escape sequence is to escape a single-quote or a double-quote.\n",
        "* Suppose we have a string like – Python is a “widely” used language.\n",
        "* The double-quote around the word “widely” disguise python that the String ends up there.\n",
        "\n",
        "* We need a way to tell Python that the double-quotes inside the string are not the string markup quotes. Instead, they are the part of the String and should appear in the output.\n",
        "\n",
        "* To resolve this issue, we can escape the double-quotes and single-quotes as:"
      ]
    },
    {
      "cell_type": "code",
      "metadata": {
        "id": "G7v8q7HXwQO5",
        "outputId": "dfa39540-7a4d-4d26-83bd-b1b11a3b25b2",
        "colab": {
          "base_uri": "https://localhost:8080/"
        }
      },
      "source": [
        "#print (\"Python is a \"widely\" used language\")\n",
        "\n",
        "# SyntaxError: invalid syntax\n",
        "\n",
        "# After escaping with double-quotes\n",
        "\n",
        "print (\"Python is a \\\"widely\\\" used language\")\n",
        "\n",
        "# Output: Python is a \"widely\" used language"
      ],
      "execution_count": 8,
      "outputs": [
        {
          "output_type": "stream",
          "name": "stdout",
          "text": [
            "Python is a \"widely\" used language\n"
          ]
        }
      ]
    },
    {
      "cell_type": "markdown",
      "metadata": {
        "id": "kvIsODp5wkBg"
      },
      "source": [
        "1) Here is the complete list of escape characters that are represented using backslash notation.\n",
        "\n",
        "https://www.techbeamers.com/python-strings-functions-and-examples/\n",
        "\n"
      ]
    },
    {
      "cell_type": "markdown",
      "metadata": {
        "id": "rilDp5jQw92K"
      },
      "source": [
        "**Python Format Characters**\n",
        "\n",
        "1) old style- String ‘%’ operator issued for formatting Strings. We often use this operator with the print() function.\n",
        "\n",
        "2) The format() method is the most flexible and useful method in formatting strings. The curly braces {} are used as the placeholder in the string and replaced by the format() method argument\n",
        "\n"
      ]
    },
    {
      "cell_type": "code",
      "metadata": {
        "id": "Y6sXOsX8xNp2",
        "outputId": "dfabde97-65ba-40a1-a0f8-ca7c5bb1a6ba",
        "colab": {
          "base_uri": "https://localhost:8080/"
        }
      },
      "source": [
        "print (\"Employee Name: %s,\\nEmployee Age:%d\" % ('Ashish',25))\n",
        "# Using Curly braces  \n",
        "print(\"{} and {} both are the best friend\".format(\"Devansh\",\"Abhishek\"))  \n",
        "  \n",
        "#Positional Argument  \n",
        "print(\"{1} and {0} best players \".format(\"Virat\",\"Rohit\"))  \n",
        "  \n",
        "#Keyword Argument  \n",
        "print(\"{a},{b},{c}\".format(a = \"James\", b = \"Peter\", c = \"Ricky\"))  "
      ],
      "execution_count": 10,
      "outputs": [
        {
          "output_type": "stream",
          "name": "stdout",
          "text": [
            "Employee Name: Ashish,\n",
            "Employee Age:25\n",
            "Devansh and Abhishek both are the best friend\n",
            "Rohit and Virat best players \n",
            "James,Peter,Ricky\n"
          ]
        }
      ]
    },
    {
      "cell_type": "markdown",
      "metadata": {
        "id": "0inK_AxV0EzR"
      },
      "source": [
        "**ignore the escape sequence from the given string by using the raw string**\n",
        "\n",
        "* We can ignore the escape sequence from the given string by using the raw string. We can do this by writing r or R in front of the string. Consider the following example."
      ]
    },
    {
      "cell_type": "code",
      "metadata": {
        "id": "01S-xhz80MtE",
        "outputId": "c66b8ea6-4679-4aaa-9ed1-e73db4e751a0",
        "colab": {
          "base_uri": "https://localhost:8080/"
        }
      },
      "source": [
        "print(\"C:\\\\Users\\\\DEVANSH SHARMA\\\\Python32\\\\Lib\")  \n",
        "print(\"This is the \\n multiline quotes\")  \n",
        "print(\"This is \\x48\\x45\\x58 representation\") \n",
        "print(r\"C:\\\\Users\\\\DEVANSH SHARMA\\\\Python32\") "
      ],
      "execution_count": 11,
      "outputs": [
        {
          "output_type": "stream",
          "name": "stdout",
          "text": [
            "C:\\Users\\DEVANSH SHARMA\\Python32\\Lib\n",
            "This is the \n",
            " multiline quotes\n",
            "This is HEX representation\n",
            "C:\\\\Users\\\\DEVANSH SHARMA\\\\Python32\n"
          ]
        }
      ]
    }
  ]
}