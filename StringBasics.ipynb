{
  "nbformat": 4,
  "nbformat_minor": 0,
  "metadata": {
    "colab": {
      "name": "Untitled0.ipynb",
      "provenance": [],
      "authorship_tag": "ABX9TyN+W48EoQgyEVg5cHvf/3ui",
      "include_colab_link": true
    },
    "kernelspec": {
      "name": "python3",
      "display_name": "Python 3"
    },
    "language_info": {
      "name": "python"
    }
  },
  "cells": [
    {
      "cell_type": "markdown",
      "metadata": {
        "id": "view-in-github",
        "colab_type": "text"
      },
      "source": [
        "<a href=\"https://colab.research.google.com/github/Sra1panasa/Python/blob/main/StringBasics.ipynb\" target=\"_parent\"><img src=\"https://colab.research.google.com/assets/colab-badge.svg\" alt=\"Open In Colab\"/></a>"
      ]
    },
    {
      "cell_type": "markdown",
      "metadata": {
        "id": "Y6EIQFRgCxTv"
      },
      "source": [
        "String Basics:\n",
        "\n",
        "1) Strings are immutable means you can't modify the String once it created.means once string object is created object data can't be modified in its lifetime.\n",
        "\n",
        "2) How can you update first letter of String?\n",
        "\n",
        "* Since Strings are immutable we can't update/modify the string.\n",
        "* But we can create a copy of string with the modified content.\n",
        "* Changing a character in a string replaces it with a different character. To do so, the string must be converted to a mutable data type, like a list. Changing the first character in \"zbc\" to an \"a\" results in \"abc\".\n",
        "\n",
        "3) why strings are immutable?\n",
        "\n",
        "* when a string reference is reinitialized with a new value, it is creating a new object rather than overwriting the previous value. In Python, strings are made immutable so that programmers cannot alter the contents of the object (even by mistake)\n",
        "\n",
        "* An immutable object is an object that cannot be modified. ... For Example — String is immutable in python. A string object will always represent the same value, it can't be modified. For example — The string object 'h' will always represent the python value h.\n",
        "\n",
        "* Most languages have immutable strings. This includes Java, Python, and C#. Usually when concatenating strings, the language allocates an entirely new string and copies the content of the two strings into the new string.\n",
        "\n",
        "* Immutability does tend to make programming easier. Especially when dealing with a multi-threaded environment.\n",
        "\n",
        "5) In string replace function we are changing the string content isn't a string modification?\n",
        "\n",
        "* Since Strings are immutable in Python. The replace method doesn't change the value of the string itself. It just returns a new string that can be used for other purposes.\n",
        "**replace actually returns a copyof the argument string with relevant parts replaced. The original string is left intact**\n",
        "\n",
        "t1=\"xyz\" \n",
        "\n",
        "t2=t1.replace(\"x\", \"A\") \n",
        "\n",
        "print(t1) #xyz\n",
        "\n",
        "print(t2) #Ayz \n",
        "\n",
        "4) what is immutablity? \n",
        "\n",
        "** Mutable is a fancy way of saying that the internal state of the object is changed/mutated. So, the simplest definition is: An object whose internal state can be changed is mutable. On the other hand, immutable doesn’t allow any change in the object once it has been created **\n",
        "\n",
        "\n",
        "1)Objects of built-in type that are mutable are:\n",
        "\n",
        "* Lists\n",
        "* Sets\n",
        "* Dictionaries\n",
        "* User-Defined Classes (It purely depends upon the user to define the characteristics) \n",
        "\n",
        "2)Objects of built-in type that are immutable are:\n",
        "\n",
        "* Numbers (Integer, Rational, Float, Decimal, Complex & Booleans)\n",
        "* Strings\n",
        "* Tuples\n",
        "* Frozen Sets\n",
        "* User-Defined Classes (It purely depends upon the user to define the  characteristics)\n",
        "\n",
        "5) How strings are immutable lists are mutable?\n",
        "\n",
        "* Its completely based on Object data and memory location below examples of link can explain briefly..\n",
        "\n",
        "[Proof ](https://www.mygreatlearning.com/blog/understanding-mutable-and-immutable-in-python/)\n"
      ]
    },
    {
      "cell_type": "code",
      "metadata": {
        "colab": {
          "base_uri": "https://localhost:8080/",
          "height": 183
        },
        "id": "PFVg1OlTGACu",
        "outputId": "bc864b12-728f-48a2-da79-0784bd10a77c"
      },
      "source": [
        "# for name one memory location assigned .. in that we are trying to change content or in that object we are trying to make changes which will not \n",
        "#allows.\n",
        "name='Sravan'\n",
        "name[0]='P'"
      ],
      "execution_count": null,
      "outputs": [
        {
          "output_type": "error",
          "ename": "TypeError",
          "evalue": "ignored",
          "traceback": [
            "\u001b[0;31m---------------------------------------------------------------------------\u001b[0m",
            "\u001b[0;31mTypeError\u001b[0m                                 Traceback (most recent call last)",
            "\u001b[0;32m<ipython-input-5-4b9b62b44169>\u001b[0m in \u001b[0;36m<module>\u001b[0;34m()\u001b[0m\n\u001b[1;32m      1\u001b[0m \u001b[0mname\u001b[0m\u001b[0;34m=\u001b[0m\u001b[0;34m'Sravan'\u001b[0m\u001b[0;34m\u001b[0m\u001b[0;34m\u001b[0m\u001b[0m\n\u001b[0;32m----> 2\u001b[0;31m \u001b[0mname\u001b[0m\u001b[0;34m[\u001b[0m\u001b[0;36m0\u001b[0m\u001b[0;34m]\u001b[0m\u001b[0;34m=\u001b[0m\u001b[0;34m'P'\u001b[0m\u001b[0;34m\u001b[0m\u001b[0;34m\u001b[0m\u001b[0m\n\u001b[0m",
            "\u001b[0;31mTypeError\u001b[0m: 'str' object does not support item assignment"
          ]
        }
      ]
    },
    {
      "cell_type": "code",
      "metadata": {
        "colab": {
          "base_uri": "https://localhost:8080/"
        },
        "id": "CjJ5qwuUG0Iq",
        "outputId": "b235c8cb-e507-49cb-b475-c60e63274dbd"
      },
      "source": [
        "#One possible solution is to create a new string object with necessary modifications:\n",
        "# [1:] - takes characters from 1 st position index always starts from zero\n",
        "name1='P'+name[1:]\n",
        "print(name1)"
      ],
      "execution_count": null,
      "outputs": [
        {
          "output_type": "stream",
          "name": "stdout",
          "text": [
            "Pravan\n"
          ]
        }
      ]
    },
    {
      "cell_type": "code",
      "metadata": {
        "colab": {
          "base_uri": "https://localhost:8080/"
        },
        "id": "iRnGBAVEIATW",
        "outputId": "09b73d46-8182-4677-b23b-b2ae2bb1f872"
      },
      "source": [
        "#case 1:string value is same name/reference is different. two strings store in same reference in memory\n",
        "#To understand more about the concept of string immutability, consider the following code:\n",
        "#for both of the strings ids are same means it stores in same memory location.\n",
        "name_1 = \"Ai\"\n",
        "name_2 = \"Ai\"\n",
        "print(\"id of name_1 = \", id(name_1))\n",
        "print(\"id of name_2 = \", id(name_2))"
      ],
      "execution_count": null,
      "outputs": [
        {
          "output_type": "stream",
          "name": "stdout",
          "text": [
            "id of name_1 =  140024638496560\n",
            "id of name_2 =  140024638496560\n"
          ]
        }
      ]
    },
    {
      "cell_type": "code",
      "metadata": {
        "id": "NN2HvXNkI9q8",
        "colab": {
          "base_uri": "https://localhost:8080/"
        },
        "outputId": "2a225e83-7cba-49d0-f339-4fe91d402542"
      },
      "source": [
        "#case2: String name is same bt value is different.\n",
        "# when a string reference is reinitialized with a new value, it is creating a new object rather than overwriting the previous value.\n",
        "#In Python, strings are made immutable so that programmers cannot alter the contents of the object (even by mistake). This avoids unnecessary bugs.\n",
        "\n",
        "name_1 = \"Varun\"\n",
        "print(\"id of name_1 = \", id(name_1))\n",
        "\n",
        "name_1 = \"Tarun\"\n",
        "print(\"id of name_1 afer initialing with new value = \", id(name_1))\n",
        "\n",
        "#Note: This is not changing the value of string name_1 as per string immutability.Its just reinitialized with a new value.\n",
        "# immutable in the sense memory perspective not with variable perpective.. in above case name_1 changed from Varun to Tarun this is not changing of \n",
        "#String name_1..\n",
        "#when we reasign with new value it stores in diff location .. so the memory which allocated when we create first time that will not be modified..\n",
        "# new memory getting created.\n"
      ],
      "execution_count": null,
      "outputs": [
        {
          "output_type": "stream",
          "name": "stdout",
          "text": [
            "id of name_1 =  139788042915952\n",
            "id of name_1 afer initialing with new value =  139788042916720\n"
          ]
        }
      ]
    },
    {
      "cell_type": "code",
      "metadata": {
        "colab": {
          "base_uri": "https://localhost:8080/"
        },
        "id": "ORwKLl9KE8z9",
        "outputId": "3491765a-e805-4079-e9c1-83a8de65587e"
      },
      "source": [
        "s='sravan'\n",
        "s='sra'\n",
        "print(s)"
      ],
      "execution_count": null,
      "outputs": [
        {
          "output_type": "stream",
          "name": "stdout",
          "text": [
            "sra\n"
          ]
        }
      ]
    }
  ]
}