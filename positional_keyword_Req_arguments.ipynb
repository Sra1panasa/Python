{
  "nbformat": 4,
  "nbformat_minor": 0,
  "metadata": {
    "colab": {
      "name": "Untitled17.ipynb",
      "provenance": [],
      "authorship_tag": "ABX9TyNfB5NJjEOK4/1yUqKxMMFx",
      "include_colab_link": true
    },
    "kernelspec": {
      "name": "python3",
      "display_name": "Python 3"
    },
    "language_info": {
      "name": "python"
    }
  },
  "cells": [
    {
      "cell_type": "markdown",
      "metadata": {
        "id": "view-in-github",
        "colab_type": "text"
      },
      "source": [
        "<a href=\"https://colab.research.google.com/github/Sra1panasa/Python/blob/main/positional_keyword_Req_arguments.ipynb\" target=\"_parent\"><img src=\"https://colab.research.google.com/assets/colab-badge.svg\" alt=\"Open In Colab\"/></a>"
      ]
    },
    {
      "cell_type": "markdown",
      "source": [
        "**Position,Named,Req Parameters:**\n",
        "\n",
        "* Positional arguments are normal arguments which define in function..define in function and just pass values while calling.\n"
      ],
      "metadata": {
        "id": "o31FT7JVY5-Q"
      }
    },
    {
      "cell_type": "code",
      "source": [
        "# Example\n",
        "def rectangleArea(width, height):\n",
        "    return width * height\n",
        "\n",
        "print(rectangleArea(1, 2))"
      ],
      "metadata": {
        "colab": {
          "base_uri": "https://localhost:8080/"
        },
        "id": "jlNG5L1yZZf4",
        "outputId": "7b2f342e-c416-48ff-8df4-3f8f10d590a9"
      },
      "execution_count": 1,
      "outputs": [
        {
          "output_type": "stream",
          "name": "stdout",
          "text": [
            "2\n"
          ]
        }
      ]
    },
    {
      "cell_type": "markdown",
      "source": [
        "* Positional arguments can be called also with naming each. For example, all three of the following would work the same way:\n"
      ],
      "metadata": {
        "id": "jQatQuC4ZmuI"
      }
    },
    {
      "cell_type": "code",
      "source": [
        "def rectangleArea(width, height):\n",
        "    return width * height\n",
        "\n",
        "print(rectangleArea(1, 2))\n",
        "print(rectangleArea(width=1, height=2))\n",
        "print(rectangleArea(height=2, width=1))"
      ],
      "metadata": {
        "colab": {
          "base_uri": "https://localhost:8080/"
        },
        "id": "1wcs7SfXZzef",
        "outputId": "f0c0965f-6c61-4335-e91d-6956eb0a7464"
      },
      "execution_count": 2,
      "outputs": [
        {
          "output_type": "stream",
          "name": "stdout",
          "text": [
            "2\n",
            "2\n",
            "2\n"
          ]
        }
      ]
    },
    {
      "cell_type": "markdown",
      "source": [
        "* **I assume that both width and height are positional arguments. Then why can we also call it with the keyword argument syntax?**"
      ],
      "metadata": {
        "id": "mH0ggO0raYG1"
      }
    },
    {
      "cell_type": "code",
      "source": [
        "#To prevent that you can use positional-only arguments:\n",
        "# Need to check on this\n",
        "def rectangleArea(width, height, /):\n",
        "    return width * height\n",
        "\n",
        "print(rectangleArea(1,2))\n",
        "#print(rectangleArea(width=1, height=2))"
      ],
      "metadata": {
        "colab": {
          "base_uri": "https://localhost:8080/",
          "height": 131
        },
        "id": "ewIgrAE1amcu",
        "outputId": "04fbe3b3-5414-46ec-e5cc-adf7ea005433"
      },
      "execution_count": 6,
      "outputs": [
        {
          "output_type": "error",
          "ename": "SyntaxError",
          "evalue": "ignored",
          "traceback": [
            "\u001b[0;36m  File \u001b[0;32m\"<ipython-input-6-ebf907ab2b64>\"\u001b[0;36m, line \u001b[0;32m3\u001b[0m\n\u001b[0;31m    def rectangleArea(width, height, /):\u001b[0m\n\u001b[0m                                     ^\u001b[0m\n\u001b[0;31mSyntaxError\u001b[0m\u001b[0;31m:\u001b[0m invalid syntax\n"
          ]
        }
      ]
    },
    {
      "cell_type": "code",
      "source": [
        "#Keyword arguments are arguments that identify the parameters by their names.\n",
        "\n",
        "#keyword arguments example: \n",
        "def employee(name, Id):\n",
        "    print(\"Employee Name: \", name)\n",
        "    print(\"Employee Id  : \", Id)\n",
        "#call employee() and pass 2 arguments\n",
        "employee(name = \"inban\", Id = \"pay001\")\n",
        "employee(Id = \"pay002\", name = \"karthik\") #we can change the order args."
      ],
      "metadata": {
        "colab": {
          "base_uri": "https://localhost:8080/"
        },
        "id": "jptda0qHaCyH",
        "outputId": "5400b7e8-6862-4f58-ca36-1aea607acf06"
      },
      "execution_count": 3,
      "outputs": [
        {
          "output_type": "stream",
          "name": "stdout",
          "text": [
            "Employee Name:  inban\n",
            "Employee Id  :  pay001\n",
            "Employee Name:  karthik\n",
            "Employee Id  :  pay002\n"
          ]
        }
      ]
    },
    {
      "cell_type": "markdown",
      "source": [
        "* The meaning of the = changes, depending on whether it's in the definition or in the call.\n",
        "\n",
        "* In the definition, it marks the argument optional and sets a default value.\n",
        "\n",
        "* In the call, it simply allows you to specify which arguments should be which values, in whatever order you want."
      ],
      "metadata": {
        "id": "qmBbwlO2bRqV"
      }
    },
    {
      "cell_type": "code",
      "source": [
        "def fn (a, b, c = 1):          # a/b required, c optional.\n",
        "    return a * b + c\n",
        "\n",
        "print(fn (1, 2))                # returns 3, positional and default.\n",
        "print(fn (1, 2, 3))         # returns 5, positional.\n",
        "print(fn (c = 5, b = 2, a = 2)) # returns 9, named.\n",
        "print(fn (b = 2, a = 2))        # returns 5, named and default.\n",
        "print(fn (5, c = 2, b = 1))     # returns 7, positional and named.\n",
        "print(fn (8, b = 0))            # returns 1, positional, named and default."
      ],
      "metadata": {
        "colab": {
          "base_uri": "https://localhost:8080/"
        },
        "id": "4v6saUNNbV8a",
        "outputId": "84059ef6-e429-4d0a-ff55-844ccff713ca"
      },
      "execution_count": 7,
      "outputs": [
        {
          "output_type": "stream",
          "name": "stdout",
          "text": [
            "3\n",
            "5\n",
            "9\n",
            "5\n",
            "7\n",
            "1\n"
          ]
        }
      ]
    },
    {
      "cell_type": "markdown",
      "source": [
        "* Positional arguments, keyword arguments, required arguments and optional arguments are often confused. Positional arguments ARE NOT THE SAME AS required arguments, and keywords arguments ARE NOT THE SAME AS optional arguments.\n",
        "\n",
        "* Positional arguments are arguments that can be called by their position in the function definition.\n",
        "\n",
        "* Keyword arguments are arguments that can be called by their name.\n",
        "\n",
        "* Required arguments are arguments that must passed to the function.\n",
        "\n",
        "* Optional arguments are arguments that can be not passed to the function. In Python, optional arguments are arguments that have a default value."
      ],
      "metadata": {
        "id": "nFRx4E5tb40G"
      }
    },
    {
      "cell_type": "code",
      "source": [
        "def f(a=2):\n",
        "    print(a)\n",
        "\n",
        "\n",
        "f()  # Allowed, argument is optional\n",
        "f(1)  # Allowed, it's a positional argument\n",
        "f(a=1)  # Error, positional only  argument"
      ],
      "metadata": {
        "colab": {
          "base_uri": "https://localhost:8080/"
        },
        "id": "m5C4ZIXVb_yJ",
        "outputId": "ed97c69b-0122-4104-a86e-1782077106bf"
      },
      "execution_count": 10,
      "outputs": [
        {
          "output_type": "stream",
          "name": "stdout",
          "text": [
            "2\n",
            "1\n",
            "1\n"
          ]
        }
      ]
    },
    {
      "cell_type": "code",
      "source": [
        "#positional argument that is required (Python 3.8)\n",
        "\n",
        "def f(a):\n",
        "    print(a)\n",
        "\n",
        "\n",
        "f()  # Error, argument required\n",
        "f(1)  # Allowed, it's a positional argument\n",
        "f(a=1)  # Error, positional only argument"
      ],
      "metadata": {
        "colab": {
          "base_uri": "https://localhost:8080/",
          "height": 235
        },
        "id": "yGQse2A5chU_",
        "outputId": "171324a1-4415-4e81-8e99-976a4b3da214"
      },
      "execution_count": 11,
      "outputs": [
        {
          "output_type": "error",
          "ename": "TypeError",
          "evalue": "ignored",
          "traceback": [
            "\u001b[0;31m---------------------------------------------------------------------------\u001b[0m",
            "\u001b[0;31mTypeError\u001b[0m                                 Traceback (most recent call last)",
            "\u001b[0;32m<ipython-input-11-ec2c505925e3>\u001b[0m in \u001b[0;36m<module>\u001b[0;34m()\u001b[0m\n\u001b[1;32m      5\u001b[0m \u001b[0;34m\u001b[0m\u001b[0m\n\u001b[1;32m      6\u001b[0m \u001b[0;34m\u001b[0m\u001b[0m\n\u001b[0;32m----> 7\u001b[0;31m \u001b[0mf\u001b[0m\u001b[0;34m(\u001b[0m\u001b[0;34m)\u001b[0m  \u001b[0;31m# Error, argument required\u001b[0m\u001b[0;34m\u001b[0m\u001b[0;34m\u001b[0m\u001b[0m\n\u001b[0m\u001b[1;32m      8\u001b[0m \u001b[0mf\u001b[0m\u001b[0;34m(\u001b[0m\u001b[0;36m1\u001b[0m\u001b[0;34m)\u001b[0m  \u001b[0;31m# Allowed, it's a positional argument\u001b[0m\u001b[0;34m\u001b[0m\u001b[0;34m\u001b[0m\u001b[0m\n\u001b[1;32m      9\u001b[0m \u001b[0mf\u001b[0m\u001b[0;34m(\u001b[0m\u001b[0ma\u001b[0m\u001b[0;34m=\u001b[0m\u001b[0;36m1\u001b[0m\u001b[0;34m)\u001b[0m  \u001b[0;31m# Error, positional only argument\u001b[0m\u001b[0;34m\u001b[0m\u001b[0;34m\u001b[0m\u001b[0m\n",
            "\u001b[0;31mTypeError\u001b[0m: f() missing 1 required positional argument: 'a'"
          ]
        }
      ]
    },
    {
      "cell_type": "code",
      "source": [
        "#Keyword argument that is optional\n",
        "\n",
        "def f(*, a=1):\n",
        "    print(a)\n",
        "\n",
        "\n",
        "f()  # Allowed\n",
        "f(a=1)  # Allowed, it's a keyword argument\n",
        "f(2,a=3)\n",
        "f(1)  # Error, keyword only arguments\n"
      ],
      "metadata": {
        "colab": {
          "base_uri": "https://localhost:8080/",
          "height": 253
        },
        "id": "ogSVtaKkcure",
        "outputId": "74a4bb3b-1c6b-46ca-f3b2-bf4235b0269a"
      },
      "execution_count": 16,
      "outputs": [
        {
          "output_type": "stream",
          "name": "stdout",
          "text": [
            "1\n",
            "1\n"
          ]
        },
        {
          "output_type": "error",
          "ename": "TypeError",
          "evalue": "ignored",
          "traceback": [
            "\u001b[0;31m---------------------------------------------------------------------------\u001b[0m",
            "\u001b[0;31mTypeError\u001b[0m                                 Traceback (most recent call last)",
            "\u001b[0;32m<ipython-input-16-c7434197b7b2>\u001b[0m in \u001b[0;36m<module>\u001b[0;34m()\u001b[0m\n\u001b[1;32m      7\u001b[0m \u001b[0mf\u001b[0m\u001b[0;34m(\u001b[0m\u001b[0;34m)\u001b[0m  \u001b[0;31m# Allowed\u001b[0m\u001b[0;34m\u001b[0m\u001b[0;34m\u001b[0m\u001b[0m\n\u001b[1;32m      8\u001b[0m \u001b[0mf\u001b[0m\u001b[0;34m(\u001b[0m\u001b[0ma\u001b[0m\u001b[0;34m=\u001b[0m\u001b[0;36m1\u001b[0m\u001b[0;34m)\u001b[0m  \u001b[0;31m# Allowed, it's a keyword argument\u001b[0m\u001b[0;34m\u001b[0m\u001b[0;34m\u001b[0m\u001b[0m\n\u001b[0;32m----> 9\u001b[0;31m \u001b[0mf\u001b[0m\u001b[0;34m(\u001b[0m\u001b[0;36m2\u001b[0m\u001b[0;34m,\u001b[0m\u001b[0ma\u001b[0m\u001b[0;34m=\u001b[0m\u001b[0;36m3\u001b[0m\u001b[0;34m)\u001b[0m\u001b[0;34m\u001b[0m\u001b[0;34m\u001b[0m\u001b[0m\n\u001b[0m\u001b[1;32m     10\u001b[0m \u001b[0mf\u001b[0m\u001b[0;34m(\u001b[0m\u001b[0;36m1\u001b[0m\u001b[0;34m)\u001b[0m  \u001b[0;31m# Error, keyword only arguments\u001b[0m\u001b[0;34m\u001b[0m\u001b[0;34m\u001b[0m\u001b[0m\n",
            "\u001b[0;31mTypeError\u001b[0m: f() takes 0 positional arguments but 1 positional argument (and 1 keyword-only argument) were given"
          ]
        }
      ]
    },
    {
      "cell_type": "code",
      "source": [
        "#Keyword argument that is required\n",
        "\n",
        "def f(*, a):\n",
        "    print(a)\n",
        "\n",
        "f(a=1)  # Allowed, it's a keyword argument\n",
        "f(1)  # Error, keyword only arguments\n",
        "f()  # Error, argument required\n",
        "\n",
        "\n"
      ],
      "metadata": {
        "colab": {
          "base_uri": "https://localhost:8080/",
          "height": 253
        },
        "id": "YzBmOLf-dXZi",
        "outputId": "9328632d-d87b-452c-9d48-3257759198b2"
      },
      "execution_count": 19,
      "outputs": [
        {
          "output_type": "stream",
          "name": "stdout",
          "text": [
            "1\n"
          ]
        },
        {
          "output_type": "error",
          "ename": "TypeError",
          "evalue": "ignored",
          "traceback": [
            "\u001b[0;31m---------------------------------------------------------------------------\u001b[0m",
            "\u001b[0;31mTypeError\u001b[0m                                 Traceback (most recent call last)",
            "\u001b[0;32m<ipython-input-19-9d362db025ad>\u001b[0m in \u001b[0;36m<module>\u001b[0;34m()\u001b[0m\n\u001b[1;32m      5\u001b[0m \u001b[0;34m\u001b[0m\u001b[0m\n\u001b[1;32m      6\u001b[0m \u001b[0mf\u001b[0m\u001b[0;34m(\u001b[0m\u001b[0ma\u001b[0m\u001b[0;34m=\u001b[0m\u001b[0;36m1\u001b[0m\u001b[0;34m)\u001b[0m  \u001b[0;31m# Allowed, it's a keyword argument\u001b[0m\u001b[0;34m\u001b[0m\u001b[0;34m\u001b[0m\u001b[0m\n\u001b[0;32m----> 7\u001b[0;31m \u001b[0mf\u001b[0m\u001b[0;34m(\u001b[0m\u001b[0;36m1\u001b[0m\u001b[0;34m)\u001b[0m  \u001b[0;31m# Error, keyword only arguments\u001b[0m\u001b[0;34m\u001b[0m\u001b[0;34m\u001b[0m\u001b[0m\n\u001b[0m\u001b[1;32m      8\u001b[0m \u001b[0mf\u001b[0m\u001b[0;34m(\u001b[0m\u001b[0;34m)\u001b[0m  \u001b[0;31m# Error, argument required\u001b[0m\u001b[0;34m\u001b[0m\u001b[0;34m\u001b[0m\u001b[0m\n\u001b[1;32m      9\u001b[0m \u001b[0;34m\u001b[0m\u001b[0m\n",
            "\u001b[0;31mTypeError\u001b[0m: f() takes 0 positional arguments but 1 was given"
          ]
        }
      ]
    },
    {
      "cell_type": "code",
      "source": [
        "#Positional-or-keyword argument that is optional\n",
        "\n",
        "def f(a=1):\n",
        "    print(a)\n",
        "\n",
        "\n",
        "f()  # Allowed, argument is optional\n",
        "f(1)  # Allowed, it's a positional argument\n",
        "f(a=1)  # Allowed, it's a keyword argument\n",
        "\n",
        "# In fact this function is the same as\n",
        "#def f(/, a=1, *):\n",
        "#    pass"
      ],
      "metadata": {
        "colab": {
          "base_uri": "https://localhost:8080/"
        },
        "id": "Q56JVDGFdqnw",
        "outputId": "4bac56e4-913c-4f2d-f024-30f003755086"
      },
      "execution_count": 20,
      "outputs": [
        {
          "output_type": "stream",
          "name": "stdout",
          "text": [
            "1\n",
            "1\n",
            "1\n"
          ]
        }
      ]
    }
  ]
}