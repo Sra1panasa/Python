{
  "nbformat": 4,
  "nbformat_minor": 0,
  "metadata": {
    "colab": {
      "name": "Untitled9.ipynb",
      "provenance": [],
      "authorship_tag": "ABX9TyOue45Crtl+rWjfGvmaNLLq",
      "include_colab_link": true
    },
    "kernelspec": {
      "name": "python3",
      "display_name": "Python 3"
    },
    "language_info": {
      "name": "python"
    }
  },
  "cells": [
    {
      "cell_type": "markdown",
      "metadata": {
        "id": "view-in-github",
        "colab_type": "text"
      },
      "source": [
        "<a href=\"https://colab.research.google.com/github/Sra1panasa/Python/blob/main/Accenture_Python_Operators.ipynb\" target=\"_parent\"><img src=\"https://colab.research.google.com/assets/colab-badge.svg\" alt=\"Open In Colab\"/></a>"
      ]
    },
    {
      "cell_type": "markdown",
      "source": [
        "Accenture AIQ"
      ],
      "metadata": {
        "id": "sRSD9VF3bD2s"
      }
    },
    {
      "cell_type": "code",
      "source": [
        "2*6"
      ],
      "metadata": {
        "colab": {
          "base_uri": "https://localhost:8080/"
        },
        "id": "SAXpSTxDbFJX",
        "outputId": "1a988899-2245-4e07-9fc8-ee2dcc437071"
      },
      "execution_count": null,
      "outputs": [
        {
          "output_type": "execute_result",
          "data": {
            "text/plain": [
              "12"
            ]
          },
          "metadata": {},
          "execution_count": 1
        }
      ]
    },
    {
      "cell_type": "markdown",
      "source": [
        "if we have both multiplication and addition operation multiplication will perform first then addition."
      ],
      "metadata": {
        "id": "c35DxFfSbkP8"
      }
    },
    {
      "cell_type": "code",
      "source": [
        "2*3*1+2\n",
        "\n",
        "#2*3\n",
        "#6*1\n",
        "#6+2"
      ],
      "metadata": {
        "colab": {
          "base_uri": "https://localhost:8080/"
        },
        "id": "vwUpMu3vbuij",
        "outputId": "290ae64a-a3db-4423-93ae-840ce8aaaaa3"
      },
      "execution_count": null,
      "outputs": [
        {
          "output_type": "execute_result",
          "data": {
            "text/plain": [
              "8"
            ]
          },
          "metadata": {},
          "execution_count": 3
        }
      ]
    },
    {
      "cell_type": "markdown",
      "source": [
        "if you want addition perform first then keep that in a braket.then python executes bracket value first and then rest of the thing."
      ],
      "metadata": {
        "id": "f_y8mG_gdJPP"
      }
    },
    {
      "cell_type": "code",
      "source": [
        "2*3*(1+2)"
      ],
      "metadata": {
        "colab": {
          "base_uri": "https://localhost:8080/"
        },
        "id": "m_3tTpxAdIZY",
        "outputId": "610dd832-615e-4f56-e19c-1893a09b9f7f"
      },
      "execution_count": null,
      "outputs": [
        {
          "output_type": "execute_result",
          "data": {
            "text/plain": [
              "18"
            ]
          },
          "metadata": {},
          "execution_count": 5
        }
      ]
    },
    {
      "cell_type": "markdown",
      "source": [
        "if float multiplied by int result will be float only."
      ],
      "metadata": {
        "id": "dZKOK402cXVY"
      }
    },
    {
      "cell_type": "code",
      "source": [
        "10*5.5"
      ],
      "metadata": {
        "colab": {
          "base_uri": "https://localhost:8080/"
        },
        "id": "iBSwiGCrcdDm",
        "outputId": "78bfbdb5-95fb-4178-b757-a1176d9f2795"
      },
      "execution_count": null,
      "outputs": [
        {
          "output_type": "execute_result",
          "data": {
            "text/plain": [
              "55.0"
            ]
          },
          "metadata": {},
          "execution_count": 4
        }
      ]
    },
    {
      "cell_type": "markdown",
      "source": [
        "Power operator.\n",
        "Python has a special syntax, * (single asterisk) and ** (double asterisks)\n",
        "* (single asterisk) - for multiplication \n",
        "* ** (double asterisks) - for power"
      ],
      "metadata": {
        "id": "DEz5r_gIdjGX"
      }
    },
    {
      "cell_type": "code",
      "source": [
        "2**3"
      ],
      "metadata": {
        "colab": {
          "base_uri": "https://localhost:8080/"
        },
        "id": "_I3Zszyae7Z5",
        "outputId": "26234628-5be1-44b1-ca51-a4687bf68248"
      },
      "execution_count": null,
      "outputs": [
        {
          "output_type": "execute_result",
          "data": {
            "text/plain": [
              "8"
            ]
          },
          "metadata": {},
          "execution_count": 6
        }
      ]
    },
    {
      "cell_type": "markdown",
      "source": [
        "forwaed slash for devision you will get reminder as output.\n",
        "\n",
        "**note: Even numerator and denominator are integer the o/p will be float**"
      ],
      "metadata": {
        "id": "HSplBLZ2fq_T"
      }
    },
    {
      "cell_type": "code",
      "source": [
        "10/5"
      ],
      "metadata": {
        "colab": {
          "base_uri": "https://localhost:8080/"
        },
        "id": "-2lQ2hxrfyND",
        "outputId": "b628830b-7d4f-4552-e58b-eaba02f80e08"
      },
      "execution_count": null,
      "outputs": [
        {
          "output_type": "execute_result",
          "data": {
            "text/plain": [
              "2.0"
            ]
          },
          "metadata": {},
          "execution_count": 7
        }
      ]
    },
    {
      "cell_type": "markdown",
      "source": [
        "Double slash: to get the quotient "
      ],
      "metadata": {
        "id": "0BlHxZAng24Z"
      }
    },
    {
      "cell_type": "code",
      "source": [
        "10//5"
      ],
      "metadata": {
        "colab": {
          "base_uri": "https://localhost:8080/"
        },
        "id": "RwtpBbxnf14V",
        "outputId": "eda8ac23-5b71-4f1a-bd01-dd8101b1d273"
      },
      "execution_count": null,
      "outputs": [
        {
          "output_type": "execute_result",
          "data": {
            "text/plain": [
              "2"
            ]
          },
          "metadata": {},
          "execution_count": 8
        }
      ]
    },
    {
      "cell_type": "markdown",
      "source": [
        "We can also use modula or percent operator to get the reminder."
      ],
      "metadata": {
        "id": "hNWKmsvokYFO"
      }
    },
    {
      "cell_type": "code",
      "source": [
        "50%4"
      ],
      "metadata": {
        "colab": {
          "base_uri": "https://localhost:8080/"
        },
        "id": "jYbg_CI5kg1v",
        "outputId": "adbe6428-96ee-4bda-9abc-474da448782d"
      },
      "execution_count": null,
      "outputs": [
        {
          "output_type": "execute_result",
          "data": {
            "text/plain": [
              "2"
            ]
          },
          "metadata": {},
          "execution_count": 11
        }
      ]
    },
    {
      "cell_type": "code",
      "source": [
        "50%5"
      ],
      "metadata": {
        "colab": {
          "base_uri": "https://localhost:8080/"
        },
        "id": "dcncU85vk5wr",
        "outputId": "72fa95af-8ad7-4836-b37b-bd23a7cdc46d"
      },
      "execution_count": null,
      "outputs": [
        {
          "output_type": "execute_result",
          "data": {
            "text/plain": [
              "0"
            ]
          },
          "metadata": {},
          "execution_count": 12
        }
      ]
    },
    {
      "cell_type": "code",
      "source": [
        "40.5-2*(4+7)/4"
      ],
      "metadata": {
        "id": "5GTe4loxMQha",
        "colab": {
          "base_uri": "https://localhost:8080/"
        },
        "outputId": "09ab33d8-ed3d-4c97-ba1e-b88edd0c584c"
      },
      "execution_count": 1,
      "outputs": [
        {
          "output_type": "execute_result",
          "data": {
            "text/plain": [
              "35.0"
            ]
          },
          "metadata": {},
          "execution_count": 1
        }
      ]
    },
    {
      "cell_type": "code",
      "source": [
        "(40.5*10-20*(4+7))/5"
      ],
      "metadata": {
        "colab": {
          "base_uri": "https://localhost:8080/"
        },
        "id": "oHJy3mLFWwFD",
        "outputId": "71c7f248-03f1-40e5-dad0-0a520e099586"
      },
      "execution_count": 2,
      "outputs": [
        {
          "output_type": "execute_result",
          "data": {
            "text/plain": [
              "37.0"
            ]
          },
          "metadata": {},
          "execution_count": 2
        }
      ]
    },
    {
      "cell_type": "markdown",
      "source": [
        "**Note 1: String can be defined with single quotes or with double quotes.**\n",
        "1) Multiplication operation works on String..but addition will not work\n",
        "2) addition can work to add/concetenate two strings.\n"
      ],
      "metadata": {
        "id": "05cNfnxVYEWi"
      }
    },
    {
      "cell_type": "code",
      "source": [
        "'hello Ai' * 3"
      ],
      "metadata": {
        "colab": {
          "base_uri": "https://localhost:8080/",
          "height": 35
        },
        "id": "1KoRmqHrZGaL",
        "outputId": "4282b980-43a3-4779-aaa3-0f2e88fef5a4"
      },
      "execution_count": 3,
      "outputs": [
        {
          "output_type": "execute_result",
          "data": {
            "text/plain": [
              "'hello Aihello Aihello Ai'"
            ],
            "application/vnd.google.colaboratory.intrinsic+json": {
              "type": "string"
            }
          },
          "metadata": {},
          "execution_count": 3
        }
      ]
    },
    {
      "cell_type": "code",
      "source": [
        "\"hello Ai\"*3"
      ],
      "metadata": {
        "colab": {
          "base_uri": "https://localhost:8080/",
          "height": 35
        },
        "id": "HEVz3SHfZOQ7",
        "outputId": "90ea66f9-1d0b-47e9-99cf-36f73d2a18e9"
      },
      "execution_count": 4,
      "outputs": [
        {
          "output_type": "execute_result",
          "data": {
            "text/plain": [
              "'hello Aihello Aihello Ai'"
            ],
            "application/vnd.google.colaboratory.intrinsic+json": {
              "type": "string"
            }
          },
          "metadata": {},
          "execution_count": 4
        }
      ]
    },
    {
      "cell_type": "code",
      "source": [
        "\"hello Ai\" +3"
      ],
      "metadata": {
        "colab": {
          "base_uri": "https://localhost:8080/",
          "height": 166
        },
        "id": "oy1nDnRMZaDY",
        "outputId": "752246e6-3136-4814-b19b-d70e7a4389f9"
      },
      "execution_count": 5,
      "outputs": [
        {
          "output_type": "error",
          "ename": "TypeError",
          "evalue": "ignored",
          "traceback": [
            "\u001b[0;31m---------------------------------------------------------------------------\u001b[0m",
            "\u001b[0;31mTypeError\u001b[0m                                 Traceback (most recent call last)",
            "\u001b[0;32m<ipython-input-5-f3946ef3fc2d>\u001b[0m in \u001b[0;36m<module>\u001b[0;34m()\u001b[0m\n\u001b[0;32m----> 1\u001b[0;31m \u001b[0;34m\"hello Ai\"\u001b[0m \u001b[0;34m+\u001b[0m\u001b[0;36m3\u001b[0m\u001b[0;34m\u001b[0m\u001b[0;34m\u001b[0m\u001b[0m\n\u001b[0m",
            "\u001b[0;31mTypeError\u001b[0m: can only concatenate str (not \"int\") to str"
          ]
        }
      ]
    },
    {
      "cell_type": "code",
      "source": [
        "\"hello\"+\"Ai\""
      ],
      "metadata": {
        "colab": {
          "base_uri": "https://localhost:8080/",
          "height": 35
        },
        "id": "pBXFdhfFZd6i",
        "outputId": "3d11aa73-9ac5-486b-ecb6-b5c2145ac462"
      },
      "execution_count": 7,
      "outputs": [
        {
          "output_type": "execute_result",
          "data": {
            "text/plain": [
              "'helloAi'"
            ],
            "application/vnd.google.colaboratory.intrinsic+json": {
              "type": "string"
            }
          },
          "metadata": {},
          "execution_count": 7
        }
      ]
    },
    {
      "cell_type": "code",
      "source": [
        "'hello' + 'ai'"
      ],
      "metadata": {
        "colab": {
          "base_uri": "https://localhost:8080/",
          "height": 35
        },
        "id": "v0-VQElnZpGC",
        "outputId": "187edf69-fcc9-4be3-e25b-0f332494cc9c"
      },
      "execution_count": 8,
      "outputs": [
        {
          "output_type": "execute_result",
          "data": {
            "text/plain": [
              "'helloai'"
            ],
            "application/vnd.google.colaboratory.intrinsic+json": {
              "type": "string"
            }
          },
          "metadata": {},
          "execution_count": 8
        }
      ]
    }
  ]
}