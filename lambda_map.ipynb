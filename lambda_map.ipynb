{
  "nbformat": 4,
  "nbformat_minor": 0,
  "metadata": {
    "colab": {
      "name": "Untitled22.ipynb",
      "provenance": [],
      "authorship_tag": "ABX9TyN+dT1rQon5uL4107zIYq5T",
      "include_colab_link": true
    },
    "kernelspec": {
      "name": "python3",
      "display_name": "Python 3"
    },
    "language_info": {
      "name": "python"
    }
  },
  "cells": [
    {
      "cell_type": "markdown",
      "metadata": {
        "id": "view-in-github",
        "colab_type": "text"
      },
      "source": [
        "<a href=\"https://colab.research.google.com/github/Sra1panasa/Python/blob/main/lambda_map.ipynb\" target=\"_parent\"><img src=\"https://colab.research.google.com/assets/colab-badge.svg\" alt=\"Open In Colab\"/></a>"
      ]
    },
    {
      "cell_type": "markdown",
      "source": [
        "**Lambda and Map functions:**\n",
        "\n",
        "* Python Lambda Functions are anonymous function means that the function is without a name. As we already know that the def keyword is used to define a normal function in Python. Similarly, **the lambda keyword is used to define an anonymous function in Python**\n",
        "\n",
        "**Python Lambda Function Syntax:**\n",
        "\n",
        "* **lambda arguments: expression**\n",
        "\n",
        "* **This function can have any number of arguments but only one expression, which is evaluated and returned.**\n",
        "* One is free to use lambda functions wherever function objects are required.\n",
        "* **You need to keep in your knowledge that lambda functions are syntactically restricted to a single expression**.\n",
        "* It has various uses in particular fields of programming besides other types of expressions in functions."
      ],
      "metadata": {
        "id": "OMUfZAAQAwT2"
      }
    },
    {
      "cell_type": "markdown",
      "source": [
        "* A lambda expression is a way of creating a little function inline, without all the syntax of a def. Here is a lambda with a single n parameter, returning the parameter value doubled.\n",
        "\n",
        "  lambda n: n * 2\n",
        "\n",
        "* The code of the lambda is typically a single expression without variables or if-statements, and does not use \"return\". Lambda is perfect where you have a short computation to write inline. Many programs have some sub-part which can be solved very compactly this way. For longer code, def is better.\n",
        "\n",
        "* The map() function runs a lambda function over the list [1, 2, 3, 4, 5], building a list-like collection of the results, like this:"
      ],
      "metadata": {
        "id": "LVIeCR4YB8Xn"
      }
    },
    {
      "cell_type": "code",
      "source": [
        "list(map(lambda n: n * 2, [1, 2, 3, 4, 5]))"
      ],
      "metadata": {
        "colab": {
          "base_uri": "https://localhost:8080/"
        },
        "id": "8sJT4EhiD_cR",
        "outputId": "e7819f01-1131-4b9e-dc19-1bdd998fbf89"
      },
      "execution_count": 1,
      "outputs": [
        {
          "output_type": "execute_result",
          "data": {
            "text/plain": [
              "[2, 4, 6, 8, 10]"
            ]
          },
          "metadata": {},
          "execution_count": 1
        }
      ]
    }
  ]
}