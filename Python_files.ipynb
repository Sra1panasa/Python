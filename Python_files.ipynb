{
  "nbformat": 4,
  "nbformat_minor": 0,
  "metadata": {
    "colab": {
      "name": "Untitled16.ipynb",
      "provenance": [],
      "authorship_tag": "ABX9TyPtHid0T2zIXMrinqVZCAA9",
      "include_colab_link": true
    },
    "kernelspec": {
      "name": "python3",
      "display_name": "Python 3"
    },
    "language_info": {
      "name": "python"
    }
  },
  "cells": [
    {
      "cell_type": "markdown",
      "metadata": {
        "id": "view-in-github",
        "colab_type": "text"
      },
      "source": [
        "<a href=\"https://colab.research.google.com/github/Sra1panasa/Python/blob/main/Python_files.ipynb\" target=\"_parent\"><img src=\"https://colab.research.google.com/assets/colab-badge.svg\" alt=\"Open In Colab\"/></a>"
      ]
    },
    {
      "cell_type": "markdown",
      "source": [
        "**Files:**\n",
        "\n",
        "* If you are working in a large software application where they process a large number of data, then we cannot expect those data to be stored in a variable as the variables are volatile in nature.\n",
        "\n",
        "* Hence when are you about to handle such situations, the role of files will come into the picture.\n",
        "\n",
        "* As files are non-volatile in nature, the data will be stored permanently in a secondary device like Hard Disk and using python we will handle these files in our applications.\n",
        "\n"
      ],
      "metadata": {
        "id": "4pKZHmIstD-v"
      }
    },
    {
      "cell_type": "markdown",
      "source": [
        "* Files are named locations on disk to store related information. They are used to permanently store data in a non-volatile memory (e.g. hard disk).\n",
        "\n",
        "* Since Random Access Memory (RAM) is volatile (which loses its data when the computer is turned off), we use files for future use of the data by permanently storing them.\n",
        "\n",
        "* When we want to read from or write to a file, we need to open it first. When we are done, it needs to be closed so that the resources that are tied with the file are freed."
      ],
      "metadata": {
        "id": "xW-R-TgttbeM"
      }
    },
    {
      "cell_type": "markdown",
      "source": [
        "Hence, in Python, a file operation takes place in the following order:\n",
        "\n",
        "* Open a file\n",
        "* Read or write (perform operation)\n",
        "* Close the file\n"
      ],
      "metadata": {
        "id": "wAcZ7I7Ot4Wo"
      }
    },
    {
      "cell_type": "markdown",
      "source": [
        "**File Paths:**\n",
        "\n",
        "* When you access a file on an operating system, a file path is required. The file path is a string that represents the location of a file. It’s broken up into three major parts:\n",
        "\n",
        "* Folder Path: the file folder location on the file system where subsequent folders are separated by a forward slash / (Unix) or backslash \\ (Windows)\n",
        "* File Name: the actual name of the file\n",
        "* Extension: the end of the file path pre-pended with a period (.) used to indicate the file type"
      ],
      "metadata": {
        "id": "thyCd5uGupG1"
      }
    },
    {
      "cell_type": "markdown",
      "source": [
        "**How to Open a Text File in Python:**\n",
        "\n",
        "* To open a file, you need to use the built-in open function. The Python file open function returns a file object that contains methods and attributes to perform various operations for opening files in Python.\n",
        "\n",
        "* **Syntax of Python open file function** \n",
        "\n",
        "file_object  = open(\"filename\", \"mode\")"
      ],
      "metadata": {
        "id": "gvtGBu_-u9MM"
      }
    },
    {
      "cell_type": "markdown",
      "source": [
        "important links:\n",
        "\n",
        "https://www.programiz.com/python-programming/file-operation\n",
        "\n",
        "https://www.softwaretestinghelp.com/python/python-file-reading-writing/\n",
        "\n",
        "https://www.guru99.com/reading-and-writing-files-in-python.html"
      ],
      "metadata": {
        "id": "60eyhkU0v_bT"
      }
    },
    {
      "cell_type": "code",
      "source": [
        "#https://realpython.com/read-write-files-python/\n",
        "\n",
        " f = open('dog_breeds.txt')\n",
        ">>> f.readlines()  # Returns a list object\n",
        "['Pug\\n', 'Jack Russell Terrier\\n', 'English Springer Spaniel\\n', ]"
      ],
      "metadata": {
        "id": "iWBflY08tzKA"
      },
      "execution_count": null,
      "outputs": []
    },
    {
      "cell_type": "code",
      "source": [
        "https://www.pythonforbeginners.com/files/reading-and-writing-files-in-python#htoc-reading-files-in-python\n",
        "\n",
        "# loading a file with open()\n",
        "myfile = open(“emily_dickinson.txt”)\n",
        "\n",
        "# reading each line of the file and printing to the console\n",
        "for line in myfile:\n",
        "\tprint(line)"
      ],
      "metadata": {
        "id": "MS1eQjr-x1mH"
      },
      "execution_count": null,
      "outputs": []
    },
    {
      "cell_type": "code",
      "source": [
        "with open(r\"C:\\Users\\sravan.kumar.panasa\\Desktop\\test\\testfileread.txt\",'r+') as s:\n",
        "    print(s.read())"
      ],
      "metadata": {
        "id": "ahJlA-Bb24_Q"
      },
      "execution_count": null,
      "outputs": []
    }
  ]
}